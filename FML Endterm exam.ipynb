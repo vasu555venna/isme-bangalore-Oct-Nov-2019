{
 "cells": [
  {
   "cell_type": "code",
   "execution_count": 5,
   "metadata": {},
   "outputs": [],
   "source": [
    "import pandas as pd\n",
    "import numpy as np"
   ]
  },
  {
   "cell_type": "markdown",
   "metadata": {},
   "source": [
    "### MY  dataset is colleges_aaup\n",
    "### Type is target variable i have 17 features most of all numeric variables\n",
    "### Accuracy is different for different datasets based on ML Model\n",
    "### some ML models work best on some datasets\n",
    "### salaries of faculty and number of professors in college \n",
    "#### First fill the missing values with some yechniques like mean and mode and make it zeros\n",
    "### apply all ML models to get accuracy\n",
    "### I did some EDA analysis and distribution\n"
   ]
  },
  {
   "cell_type": "markdown",
   "metadata": {},
   "source": [
    "### I got 95% accuracy in Logistic Regression Model"
   ]
  },
  {
   "cell_type": "code",
   "execution_count": null,
   "metadata": {},
   "outputs": [],
   "source": [
    "#### accuracy is the performance of the algorithm\n",
    "## how well is your model predicting "
   ]
  },
  {
   "cell_type": "code",
   "execution_count": 6,
   "metadata": {},
   "outputs": [
    {
     "name": "stdout",
     "output_type": "stream",
     "text": [
      "C:\\Users\\DELL\\Desktop\\pyrhon in buss analytics\n"
     ]
    }
   ],
   "source": [
    "%cd C:\\\\Users\\DELL\\Desktop\\pyrhon in buss analytics"
   ]
  },
  {
   "cell_type": "code",
   "execution_count": 7,
   "metadata": {},
   "outputs": [],
   "source": [
    "colg=pd.read_csv('colleges_aaup.csv',sep=\",\")"
   ]
  },
  {
   "cell_type": "code",
   "execution_count": 8,
   "metadata": {},
   "outputs": [
    {
     "data": {
      "text/html": [
       "<div>\n",
       "<style scoped>\n",
       "    .dataframe tbody tr th:only-of-type {\n",
       "        vertical-align: middle;\n",
       "    }\n",
       "\n",
       "    .dataframe tbody tr th {\n",
       "        vertical-align: top;\n",
       "    }\n",
       "\n",
       "    .dataframe thead th {\n",
       "        text-align: right;\n",
       "    }\n",
       "</style>\n",
       "<table border=\"1\" class=\"dataframe\">\n",
       "  <thead>\n",
       "    <tr style=\"text-align: right;\">\n",
       "      <th></th>\n",
       "      <th>FICE</th>\n",
       "      <th>College_name</th>\n",
       "      <th>State</th>\n",
       "      <th>Type</th>\n",
       "      <th>Average_salary-full_professors</th>\n",
       "      <th>Average_salary-associate_professors</th>\n",
       "      <th>Average_salary-assistant_professors</th>\n",
       "      <th>Average_salary-all_ranks</th>\n",
       "      <th>Average_compensation-full_professors</th>\n",
       "      <th>Average_compensation-associate_professors</th>\n",
       "      <th>Average_compensation-assistant_professors</th>\n",
       "      <th>Average_compensation-all_ranks</th>\n",
       "      <th>Number_of_full_professors</th>\n",
       "      <th>Number_of_associate_professors</th>\n",
       "      <th>Number_of_assistant_professors</th>\n",
       "      <th>Number_of_instructors</th>\n",
       "      <th>Number_of_faculty-all_ranks</th>\n",
       "    </tr>\n",
       "  </thead>\n",
       "  <tbody>\n",
       "    <tr>\n",
       "      <th>0</th>\n",
       "      <td>1061</td>\n",
       "      <td>Alaska_Pacific_University</td>\n",
       "      <td>AK</td>\n",
       "      <td>IIB</td>\n",
       "      <td>454</td>\n",
       "      <td>382</td>\n",
       "      <td>362</td>\n",
       "      <td>382</td>\n",
       "      <td>567</td>\n",
       "      <td>485</td>\n",
       "      <td>471</td>\n",
       "      <td>487</td>\n",
       "      <td>6</td>\n",
       "      <td>11</td>\n",
       "      <td>9</td>\n",
       "      <td>4</td>\n",
       "      <td>32</td>\n",
       "    </tr>\n",
       "    <tr>\n",
       "      <th>1</th>\n",
       "      <td>1063</td>\n",
       "      <td>UnivAlaska-Fairbanks</td>\n",
       "      <td>AK</td>\n",
       "      <td>I</td>\n",
       "      <td>686</td>\n",
       "      <td>560</td>\n",
       "      <td>432</td>\n",
       "      <td>508</td>\n",
       "      <td>914</td>\n",
       "      <td>753</td>\n",
       "      <td>572</td>\n",
       "      <td>677</td>\n",
       "      <td>74</td>\n",
       "      <td>125</td>\n",
       "      <td>118</td>\n",
       "      <td>40</td>\n",
       "      <td>404</td>\n",
       "    </tr>\n",
       "    <tr>\n",
       "      <th>2</th>\n",
       "      <td>1065</td>\n",
       "      <td>UnivAlaska-Southeast</td>\n",
       "      <td>AK</td>\n",
       "      <td>IIA</td>\n",
       "      <td>533</td>\n",
       "      <td>494</td>\n",
       "      <td>329</td>\n",
       "      <td>415</td>\n",
       "      <td>716</td>\n",
       "      <td>663</td>\n",
       "      <td>442</td>\n",
       "      <td>559</td>\n",
       "      <td>9</td>\n",
       "      <td>26</td>\n",
       "      <td>20</td>\n",
       "      <td>9</td>\n",
       "      <td>70</td>\n",
       "    </tr>\n",
       "    <tr>\n",
       "      <th>3</th>\n",
       "      <td>11462</td>\n",
       "      <td>UnivAlaska-Anchorage</td>\n",
       "      <td>AK</td>\n",
       "      <td>IIA</td>\n",
       "      <td>612</td>\n",
       "      <td>507</td>\n",
       "      <td>414</td>\n",
       "      <td>498</td>\n",
       "      <td>825</td>\n",
       "      <td>681</td>\n",
       "      <td>557</td>\n",
       "      <td>670</td>\n",
       "      <td>115</td>\n",
       "      <td>124</td>\n",
       "      <td>101</td>\n",
       "      <td>21</td>\n",
       "      <td>392</td>\n",
       "    </tr>\n",
       "    <tr>\n",
       "      <th>4</th>\n",
       "      <td>1002</td>\n",
       "      <td>Alabama_Agri_and_Mech_Univ</td>\n",
       "      <td>AL</td>\n",
       "      <td>IIA</td>\n",
       "      <td>442</td>\n",
       "      <td>369</td>\n",
       "      <td>310</td>\n",
       "      <td>350</td>\n",
       "      <td>530</td>\n",
       "      <td>444</td>\n",
       "      <td>376</td>\n",
       "      <td>423</td>\n",
       "      <td>59</td>\n",
       "      <td>77</td>\n",
       "      <td>102</td>\n",
       "      <td>24</td>\n",
       "      <td>262</td>\n",
       "    </tr>\n",
       "  </tbody>\n",
       "</table>\n",
       "</div>"
      ],
      "text/plain": [
       "    FICE                College_name State Type  \\\n",
       "0   1061   Alaska_Pacific_University    AK  IIB   \n",
       "1   1063        UnivAlaska-Fairbanks    AK    I   \n",
       "2   1065        UnivAlaska-Southeast    AK  IIA   \n",
       "3  11462        UnivAlaska-Anchorage    AK  IIA   \n",
       "4   1002  Alabama_Agri_and_Mech_Univ    AL  IIA   \n",
       "\n",
       "  Average_salary-full_professors Average_salary-associate_professors  \\\n",
       "0                            454                                 382   \n",
       "1                            686                                 560   \n",
       "2                            533                                 494   \n",
       "3                            612                                 507   \n",
       "4                            442                                 369   \n",
       "\n",
       "  Average_salary-assistant_professors  Average_salary-all_ranks  \\\n",
       "0                                 362                       382   \n",
       "1                                 432                       508   \n",
       "2                                 329                       415   \n",
       "3                                 414                       498   \n",
       "4                                 310                       350   \n",
       "\n",
       "  Average_compensation-full_professors  \\\n",
       "0                                  567   \n",
       "1                                  914   \n",
       "2                                  716   \n",
       "3                                  825   \n",
       "4                                  530   \n",
       "\n",
       "  Average_compensation-associate_professors  \\\n",
       "0                                       485   \n",
       "1                                       753   \n",
       "2                                       663   \n",
       "3                                       681   \n",
       "4                                       444   \n",
       "\n",
       "  Average_compensation-assistant_professors  Average_compensation-all_ranks  \\\n",
       "0                                       471                             487   \n",
       "1                                       572                             677   \n",
       "2                                       442                             559   \n",
       "3                                       557                             670   \n",
       "4                                       376                             423   \n",
       "\n",
       "   Number_of_full_professors  Number_of_associate_professors  \\\n",
       "0                          6                              11   \n",
       "1                         74                             125   \n",
       "2                          9                              26   \n",
       "3                        115                             124   \n",
       "4                         59                              77   \n",
       "\n",
       "   Number_of_assistant_professors  Number_of_instructors  \\\n",
       "0                               9                      4   \n",
       "1                             118                     40   \n",
       "2                              20                      9   \n",
       "3                             101                     21   \n",
       "4                             102                     24   \n",
       "\n",
       "   Number_of_faculty-all_ranks  \n",
       "0                           32  \n",
       "1                          404  \n",
       "2                           70  \n",
       "3                          392  \n",
       "4                          262  "
      ]
     },
     "execution_count": 8,
     "metadata": {},
     "output_type": "execute_result"
    }
   ],
   "source": [
    "colg.head()"
   ]
  },
  {
   "cell_type": "code",
   "execution_count": 9,
   "metadata": {},
   "outputs": [
    {
     "data": {
      "text/html": [
       "<div>\n",
       "<style scoped>\n",
       "    .dataframe tbody tr th:only-of-type {\n",
       "        vertical-align: middle;\n",
       "    }\n",
       "\n",
       "    .dataframe tbody tr th {\n",
       "        vertical-align: top;\n",
       "    }\n",
       "\n",
       "    .dataframe thead th {\n",
       "        text-align: right;\n",
       "    }\n",
       "</style>\n",
       "<table border=\"1\" class=\"dataframe\">\n",
       "  <thead>\n",
       "    <tr style=\"text-align: right;\">\n",
       "      <th></th>\n",
       "      <th>FICE</th>\n",
       "      <th>Average_salary-all_ranks</th>\n",
       "      <th>Average_compensation-all_ranks</th>\n",
       "      <th>Number_of_full_professors</th>\n",
       "      <th>Number_of_associate_professors</th>\n",
       "      <th>Number_of_assistant_professors</th>\n",
       "      <th>Number_of_instructors</th>\n",
       "      <th>Number_of_faculty-all_ranks</th>\n",
       "    </tr>\n",
       "  </thead>\n",
       "  <tbody>\n",
       "    <tr>\n",
       "      <th>count</th>\n",
       "      <td>1161.000000</td>\n",
       "      <td>1161.000000</td>\n",
       "      <td>1161.000000</td>\n",
       "      <td>1161.000000</td>\n",
       "      <td>1161.000000</td>\n",
       "      <td>1161.000000</td>\n",
       "      <td>1161.000000</td>\n",
       "      <td>1161.000000</td>\n",
       "    </tr>\n",
       "    <tr>\n",
       "      <th>mean</th>\n",
       "      <td>3052.047373</td>\n",
       "      <td>420.370370</td>\n",
       "      <td>526.693368</td>\n",
       "      <td>95.096469</td>\n",
       "      <td>72.385013</td>\n",
       "      <td>68.634798</td>\n",
       "      <td>12.735573</td>\n",
       "      <td>257.352283</td>\n",
       "    </tr>\n",
       "    <tr>\n",
       "      <th>std</th>\n",
       "      <td>2411.623526</td>\n",
       "      <td>92.286719</td>\n",
       "      <td>120.694566</td>\n",
       "      <td>142.588464</td>\n",
       "      <td>89.420109</td>\n",
       "      <td>72.803024</td>\n",
       "      <td>19.514094</td>\n",
       "      <td>314.090563</td>\n",
       "    </tr>\n",
       "    <tr>\n",
       "      <th>min</th>\n",
       "      <td>1002.000000</td>\n",
       "      <td>232.000000</td>\n",
       "      <td>265.000000</td>\n",
       "      <td>0.000000</td>\n",
       "      <td>0.000000</td>\n",
       "      <td>0.000000</td>\n",
       "      <td>0.000000</td>\n",
       "      <td>7.000000</td>\n",
       "    </tr>\n",
       "    <tr>\n",
       "      <th>25%</th>\n",
       "      <td>1903.000000</td>\n",
       "      <td>352.000000</td>\n",
       "      <td>436.000000</td>\n",
       "      <td>18.000000</td>\n",
       "      <td>19.000000</td>\n",
       "      <td>21.000000</td>\n",
       "      <td>2.000000</td>\n",
       "      <td>68.000000</td>\n",
       "    </tr>\n",
       "    <tr>\n",
       "      <th>50%</th>\n",
       "      <td>2668.000000</td>\n",
       "      <td>407.000000</td>\n",
       "      <td>510.000000</td>\n",
       "      <td>40.000000</td>\n",
       "      <td>38.000000</td>\n",
       "      <td>40.000000</td>\n",
       "      <td>6.000000</td>\n",
       "      <td>132.000000</td>\n",
       "    </tr>\n",
       "    <tr>\n",
       "      <th>75%</th>\n",
       "      <td>3420.000000</td>\n",
       "      <td>475.000000</td>\n",
       "      <td>600.000000</td>\n",
       "      <td>105.000000</td>\n",
       "      <td>89.000000</td>\n",
       "      <td>92.000000</td>\n",
       "      <td>14.000000</td>\n",
       "      <td>323.000000</td>\n",
       "    </tr>\n",
       "    <tr>\n",
       "      <th>max</th>\n",
       "      <td>29269.000000</td>\n",
       "      <td>866.000000</td>\n",
       "      <td>1075.000000</td>\n",
       "      <td>997.000000</td>\n",
       "      <td>721.000000</td>\n",
       "      <td>510.000000</td>\n",
       "      <td>178.000000</td>\n",
       "      <td>2261.000000</td>\n",
       "    </tr>\n",
       "  </tbody>\n",
       "</table>\n",
       "</div>"
      ],
      "text/plain": [
       "               FICE  Average_salary-all_ranks  Average_compensation-all_ranks  \\\n",
       "count   1161.000000               1161.000000                     1161.000000   \n",
       "mean    3052.047373                420.370370                      526.693368   \n",
       "std     2411.623526                 92.286719                      120.694566   \n",
       "min     1002.000000                232.000000                      265.000000   \n",
       "25%     1903.000000                352.000000                      436.000000   \n",
       "50%     2668.000000                407.000000                      510.000000   \n",
       "75%     3420.000000                475.000000                      600.000000   \n",
       "max    29269.000000                866.000000                     1075.000000   \n",
       "\n",
       "       Number_of_full_professors  Number_of_associate_professors  \\\n",
       "count                1161.000000                     1161.000000   \n",
       "mean                   95.096469                       72.385013   \n",
       "std                   142.588464                       89.420109   \n",
       "min                     0.000000                        0.000000   \n",
       "25%                    18.000000                       19.000000   \n",
       "50%                    40.000000                       38.000000   \n",
       "75%                   105.000000                       89.000000   \n",
       "max                   997.000000                      721.000000   \n",
       "\n",
       "       Number_of_assistant_professors  Number_of_instructors  \\\n",
       "count                     1161.000000            1161.000000   \n",
       "mean                        68.634798              12.735573   \n",
       "std                         72.803024              19.514094   \n",
       "min                          0.000000               0.000000   \n",
       "25%                         21.000000               2.000000   \n",
       "50%                         40.000000               6.000000   \n",
       "75%                         92.000000              14.000000   \n",
       "max                        510.000000             178.000000   \n",
       "\n",
       "       Number_of_faculty-all_ranks  \n",
       "count                  1161.000000  \n",
       "mean                    257.352283  \n",
       "std                     314.090563  \n",
       "min                       7.000000  \n",
       "25%                      68.000000  \n",
       "50%                     132.000000  \n",
       "75%                     323.000000  \n",
       "max                    2261.000000  "
      ]
     },
     "execution_count": 9,
     "metadata": {},
     "output_type": "execute_result"
    }
   ],
   "source": [
    "colg.describe()"
   ]
  },
  {
   "cell_type": "code",
   "execution_count": 10,
   "metadata": {},
   "outputs": [
    {
     "name": "stdout",
     "output_type": "stream",
     "text": [
      "<class 'pandas.core.frame.DataFrame'>\n",
      "RangeIndex: 1161 entries, 0 to 1160\n",
      "Data columns (total 17 columns):\n",
      "FICE                                         1161 non-null int64\n",
      "College_name                                 1161 non-null object\n",
      "State                                        1161 non-null object\n",
      "Type                                         1161 non-null object\n",
      "Average_salary-full_professors               1161 non-null object\n",
      "Average_salary-associate_professors          1161 non-null object\n",
      "Average_salary-assistant_professors          1161 non-null object\n",
      "Average_salary-all_ranks                     1161 non-null int64\n",
      "Average_compensation-full_professors         1161 non-null object\n",
      "Average_compensation-associate_professors    1161 non-null object\n",
      "Average_compensation-assistant_professors    1161 non-null object\n",
      "Average_compensation-all_ranks               1161 non-null int64\n",
      "Number_of_full_professors                    1161 non-null int64\n",
      "Number_of_associate_professors               1161 non-null int64\n",
      "Number_of_assistant_professors               1161 non-null int64\n",
      "Number_of_instructors                        1161 non-null int64\n",
      "Number_of_faculty-all_ranks                  1161 non-null int64\n",
      "dtypes: int64(8), object(9)\n",
      "memory usage: 154.3+ KB\n"
     ]
    }
   ],
   "source": [
    "colg.info()"
   ]
  },
  {
   "cell_type": "code",
   "execution_count": 11,
   "metadata": {},
   "outputs": [],
   "source": [
    "import pandas as pd\n",
    "import numpy as np\n",
    "import matplotlib.pyplot as plt\n",
    "%matplotlib inline\n",
    "import seaborn as sns"
   ]
  },
  {
   "cell_type": "code",
   "execution_count": 12,
   "metadata": {},
   "outputs": [
    {
     "data": {
      "text/plain": [
       "(1161, 17)"
      ]
     },
     "execution_count": 12,
     "metadata": {},
     "output_type": "execute_result"
    }
   ],
   "source": [
    "colg.shape"
   ]
  },
  {
   "cell_type": "code",
   "execution_count": 13,
   "metadata": {},
   "outputs": [
    {
     "data": {
      "text/plain": [
       "PA    85\n",
       "NY    81\n",
       "TX    54\n",
       "CA    54\n",
       "OH    53\n",
       "IL    50\n",
       "NC    42\n",
       "MA    42\n",
       "IN    41\n",
       "VA    39\n",
       "MO    34\n",
       "MI    32\n",
       "TN    27\n",
       "IA    27\n",
       "WI    27\n",
       "MN    25\n",
       "SC    25\n",
       "NJ    24\n",
       "MD    23\n",
       "KY    22\n",
       "GA    21\n",
       "AL    21\n",
       "LA    20\n",
       "FL    19\n",
       "KS    18\n",
       "OR    18\n",
       "OK    17\n",
       "NE    17\n",
       "AR    16\n",
       "WA    16\n",
       "CT    16\n",
       "WV    15\n",
       "CO    15\n",
       "ME    14\n",
       "MS    13\n",
       "NH    11\n",
       "VT    10\n",
       "SD     9\n",
       "DC     9\n",
       "RI     8\n",
       "MT     8\n",
       "ND     6\n",
       "UT     6\n",
       "NM     6\n",
       "ID     6\n",
       "AK     4\n",
       "AZ     4\n",
       "DE     4\n",
       "HI     3\n",
       "NV     2\n",
       "WY     1\n",
       "WW     1\n",
       "Name: State, dtype: int64"
      ]
     },
     "execution_count": 13,
     "metadata": {},
     "output_type": "execute_result"
    }
   ],
   "source": [
    "colg['State'].value_counts()"
   ]
  },
  {
   "cell_type": "code",
   "execution_count": 14,
   "metadata": {},
   "outputs": [
    {
     "data": {
      "text/plain": [
       "Bethel_College                     4\n",
       "Saint_Josephs_College              3\n",
       "Columbia_College                   3\n",
       "Concordia_College                  3\n",
       "Trinity_College                    3\n",
       "Union_College                      3\n",
       "Saint_Francis_College              2\n",
       "Lincoln_University                 2\n",
       "Wheaton_College                    2\n",
       "Northwestern_College               2\n",
       "Bethany_College                    2\n",
       "Augustana_College                  2\n",
       "Monmouth_College                   2\n",
       "Westminster_College                2\n",
       "Art_Academy_of_Cincinnati          1\n",
       "Rhode_Island_School_Design         1\n",
       "Ouachita_Baptist_University        1\n",
       "Houghton_College                   1\n",
       "Bradley_University                 1\n",
       "Doane_College                      1\n",
       "Troy_State_University-Main         1\n",
       "Regis_College                      1\n",
       "Athens_State_College               1\n",
       "Lewis_University                   1\n",
       "Clarke_College                     1\n",
       "Univ_of_Akron-_Main_Campus         1\n",
       "Freed-Hardeman_University          1\n",
       "University_of_Rhode_Island         1\n",
       "DePauw_University                  1\n",
       "Maryville_Univ_of_StLouis          1\n",
       "                                  ..\n",
       "Oakland_City_College               1\n",
       "Montclair_State_College            1\n",
       "Colgate_University                 1\n",
       "University_of_Tampa                1\n",
       "Univ_Wisconsin-Platteville         1\n",
       "Univ_Ark_at_Monticello             1\n",
       "North_Carolina_A_and_T_St_Univ     1\n",
       "Oklahoma_Baptist_University        1\n",
       "Alvernia_College                   1\n",
       "Prairie_View_A_and_M_University    1\n",
       "Univ_Wisconsin-La_Crosse           1\n",
       "Georgia_College                    1\n",
       "Stetson_University                 1\n",
       "Antioch_University                 1\n",
       "Midland_Lutheran_College           1\n",
       "Univ_of_Texas_-San_Antonio         1\n",
       "Salem-Teikyo_University            1\n",
       "Northern_Illinois_University       1\n",
       "Grace_College                      1\n",
       "Harvard_University                 1\n",
       "Houston_Baptist_University         1\n",
       "Sacred_Heart_University            1\n",
       "Princeton_University               1\n",
       "Loyola_Univ_of_Chicago             1\n",
       "College_of_William_and_Mary        1\n",
       "Biola_University                   1\n",
       "Elon_College                       1\n",
       "Georgian_Court_College             1\n",
       "Goldey_Beacom_College              1\n",
       "Western_Carolina_University        1\n",
       "Name: College_name, Length: 1140, dtype: int64"
      ]
     },
     "execution_count": 14,
     "metadata": {},
     "output_type": "execute_result"
    }
   ],
   "source": [
    "colg['College_name'].value_counts()"
   ]
  },
  {
   "cell_type": "code",
   "execution_count": 15,
   "metadata": {},
   "outputs": [
    {
     "data": {
      "text/plain": [
       "IIB     617\n",
       "IIA     363\n",
       "I       180\n",
       "VIIB      1\n",
       "Name: Type, dtype: int64"
      ]
     },
     "execution_count": 15,
     "metadata": {},
     "output_type": "execute_result"
    }
   ],
   "source": [
    "colg['Type'].value_counts()"
   ]
  },
  {
   "cell_type": "code",
   "execution_count": 16,
   "metadata": {},
   "outputs": [],
   "source": [
    "df=colg[['FICE','College_name','State','Type','Average_salary-full_professors','Average_salary-associate_professors','Average_salary-assistant_professors','Average_salary-all_ranks','Average_compensation-full_professors','Average_compensation-associate_professors','Average_compensation-assistant_professors','Average_compensation-all_ranks','Number_of_full_professors','Number_of_associate_professors','Number_of_assistant_professors','Number_of_instructors','Number_of_faculty-all_ranks']]"
   ]
  },
  {
   "cell_type": "code",
   "execution_count": 17,
   "metadata": {},
   "outputs": [
    {
     "data": {
      "text/plain": [
       "Index(['FICE', 'College_name', 'State', 'Type',\n",
       "       'Average_salary-full_professors', 'Average_salary-associate_professors',\n",
       "       'Average_salary-assistant_professors', 'Average_salary-all_ranks',\n",
       "       'Average_compensation-full_professors',\n",
       "       'Average_compensation-associate_professors',\n",
       "       'Average_compensation-assistant_professors',\n",
       "       'Average_compensation-all_ranks', 'Number_of_full_professors',\n",
       "       'Number_of_associate_professors', 'Number_of_assistant_professors',\n",
       "       'Number_of_instructors', 'Number_of_faculty-all_ranks'],\n",
       "      dtype='object')"
      ]
     },
     "execution_count": 17,
     "metadata": {},
     "output_type": "execute_result"
    }
   ],
   "source": [
    "df.columns"
   ]
  },
  {
   "cell_type": "code",
   "execution_count": 18,
   "metadata": {},
   "outputs": [
    {
     "data": {
      "text/plain": [
       "FICE                              5.815928e+06\n",
       "Average_salary-all_ranks          8.516839e+03\n",
       "Average_compensation-all_ranks    1.456718e+04\n",
       "Number_of_full_professors         2.033147e+04\n",
       "Number_of_associate_professors    7.995956e+03\n",
       "Number_of_assistant_professors    5.300280e+03\n",
       "Number_of_instructors             3.807998e+02\n",
       "Number_of_faculty-all_ranks       9.865288e+04\n",
       "dtype: float64"
      ]
     },
     "execution_count": 18,
     "metadata": {},
     "output_type": "execute_result"
    }
   ],
   "source": [
    "df.var()   ### variance of numerical columns"
   ]
  },
  {
   "cell_type": "code",
   "execution_count": 19,
   "metadata": {},
   "outputs": [
    {
     "data": {
      "text/plain": [
       "FICE                              5.815928e+06\n",
       "Average_salary-all_ranks          8.516839e+03\n",
       "Average_compensation-all_ranks    1.456718e+04\n",
       "Number_of_full_professors         2.033147e+04\n",
       "Number_of_associate_professors    7.995956e+03\n",
       "Number_of_assistant_professors    5.300280e+03\n",
       "Number_of_instructors             3.807998e+02\n",
       "Number_of_faculty-all_ranks       9.865288e+04\n",
       "dtype: float64"
      ]
     },
     "execution_count": 19,
     "metadata": {},
     "output_type": "execute_result"
    }
   ],
   "source": [
    "df.var(axis=0)   ##column variance"
   ]
  },
  {
   "cell_type": "code",
   "execution_count": 20,
   "metadata": {},
   "outputs": [
    {
     "data": {
      "text/plain": [
       "0       1.448691e+05\n",
       "1       1.306347e+05\n",
       "2       1.478326e+05\n",
       "3       1.569702e+07\n",
       "4       1.048274e+05\n",
       "5       1.206277e+05\n",
       "6       1.283674e+05\n",
       "7       1.280039e+05\n",
       "8       1.300414e+05\n",
       "9       1.181068e+05\n",
       "10      1.245891e+05\n",
       "11      1.115883e+05\n",
       "12      1.208496e+05\n",
       "13      1.220758e+05\n",
       "14      1.239033e+05\n",
       "15      1.276200e+05\n",
       "16      1.345514e+05\n",
       "17      1.270533e+05\n",
       "18      1.192365e+05\n",
       "19      1.137608e+05\n",
       "20      1.097194e+05\n",
       "21      1.180386e+05\n",
       "22      1.248086e+05\n",
       "23      1.106378e+05\n",
       "24      8.283972e+06\n",
       "25      1.358057e+05\n",
       "26      1.281045e+05\n",
       "27      1.505120e+05\n",
       "28      1.331548e+05\n",
       "29      1.185554e+05\n",
       "            ...     \n",
       "1131    1.605242e+06\n",
       "1132    1.767450e+06\n",
       "1133    1.813670e+06\n",
       "1134    1.744733e+06\n",
       "1135    1.707799e+06\n",
       "1136    1.728531e+06\n",
       "1137    1.766700e+06\n",
       "1138    1.765126e+06\n",
       "1139    1.734550e+06\n",
       "1140    1.808432e+06\n",
       "1141    1.732953e+06\n",
       "1142    2.956766e+06\n",
       "1143    1.104978e+07\n",
       "1144    1.723510e+06\n",
       "1145    1.724070e+06\n",
       "1146    1.716997e+06\n",
       "1147    1.713927e+06\n",
       "1148    1.733529e+06\n",
       "1149    1.688199e+06\n",
       "1150    1.727557e+06\n",
       "1151    1.627117e+06\n",
       "1152    1.728854e+06\n",
       "1153    1.740878e+06\n",
       "1154    1.719024e+06\n",
       "1155    1.714615e+06\n",
       "1156    1.712443e+06\n",
       "1157    1.541391e+06\n",
       "1158    1.731456e+06\n",
       "1159    1.745064e+06\n",
       "1160    1.685752e+06\n",
       "Length: 1161, dtype: float64"
      ]
     },
     "execution_count": 20,
     "metadata": {},
     "output_type": "execute_result"
    }
   ],
   "source": [
    "df.var(axis=1)   ## row variance"
   ]
  },
  {
   "cell_type": "code",
   "execution_count": 21,
   "metadata": {},
   "outputs": [
    {
     "data": {
      "text/plain": [
       "(array([1., 0., 0., 0., 0., 0., 0., 0., 0., 1.]),\n",
       " array([0. , 0.1, 0.2, 0.3, 0.4, 0.5, 0.6, 0.7, 0.8, 0.9, 1. ]),\n",
       " <a list of 10 Patch objects>)"
      ]
     },
     "execution_count": 21,
     "metadata": {},
     "output_type": "execute_result"
    },
    {
     "data": {
      "image/png": "[encoded data removed]",
      "text/plain": [
       "<Figure size 432x288 with 1 Axes>"
      ]
     },
     "metadata": {
      "needs_background": "light"
     },
     "output_type": "display_data"
    }
   ],
   "source": [
    "x=['Average_salary-full_professors','Number_of_full_professors']\n",
    "plt.hist(x,bins=10)    ## histograms"
   ]
  },
  {
   "cell_type": "code",
   "execution_count": 22,
   "metadata": {},
   "outputs": [],
   "source": [
    "import plotly.express as px"
   ]
  },
  {
   "cell_type": "code",
   "execution_count": 24,
   "metadata": {},
   "outputs": [
    {
     "data": {
      "application/vnd.plotly.v1+json": {
       "config": {
        "plotlyServerURL": "https://plot.ly"
       },
       "data": [
        {
         "alignmentgroup": "True",
         "bingroup": "x",
         "hoverlabel": {
          "namelength": 0
         },
         "hovertemplate": "Number_of_faculty-all_ranks=%{x}<br>count=%{y}",
         "legendgroup": "",
         "marker": {
          "color": "#636efa"
         },
         "name": "",
         "nbinsx": 30,
         "offsetgroup": "",
         "orientation": "v",
         "showlegend": false,
         "type": "histogram",
         "x": [
          32,
          404,
          70,
          392,
          262,
          127,
          68,
          1109,
          89,
          200,
          44,
          272,
          89,
          86,
          77,
          215,
          55,
          59,
          204,
          254,
          762,
          406,
          282,
          434,
          201,
          117,
          192,
          42,
          180,
          394,
          340,
          40,
          155,
          65,
          58,
          398,
          97,
          24,
          115,
          806,
          179,
          74,
          1383,
          608,
          1349,
          156,
          126,
          257,
          92,
          623,
          383,
          780,
          268,
          670,
          610,
          574,
          649,
          301,
          909,
          819,
          233,
          111,
          67,
          68,
          54,
          161,
          54,
          59,
          51,
          110,
          70,
          139,
          54,
          102,
          94,
          231,
          135,
          834,
          1346,
          1072,
          673,
          1499,
          441,
          734,
          314,
          694,
          413,
          109,
          287,
          324,
          1165,
          377,
          74,
          108,
          22,
          709,
          206,
          265,
          310,
          98,
          134,
          467,
          926,
          165,
          145,
          370,
          56,
          170,
          1081,
          378,
          103,
          161,
          368,
          32,
          24,
          390,
          140,
          178,
          192,
          152,
          207,
          111,
          417,
          65,
          146,
          90,
          329,
          254,
          127,
          767,
          446,
          374,
          261,
          637,
          528,
          891,
          30,
          47,
          400,
          183,
          26,
          953,
          49,
          215,
          90,
          299,
          364,
          528,
          87,
          96,
          1038,
          154,
          185,
          2261,
          769,
          1038,
          127,
          593,
          221,
          66,
          767,
          230,
          66,
          138,
          201,
          183,
          92,
          178,
          549,
          142,
          626,
          146,
          603,
          793,
          350,
          246,
          44,
          55,
          1658,
          311,
          272,
          179,
          38,
          1099,
          20,
          141,
          60,
          72,
          89,
          54,
          73,
          75,
          72,
          285,
          70,
          75,
          139,
          1188,
          109,
          155,
          66,
          63,
          18,
          58,
          67,
          98,
          622,
          58,
          1064,
          27,
          89,
          54,
          45,
          427,
          56,
          460,
          110,
          71,
          546,
          137,
          69,
          32,
          23,
          295,
          50,
          171,
          78,
          500,
          560,
          37,
          57,
          51,
          287,
          720,
          331,
          351,
          129,
          29,
          19,
          77,
          81,
          138,
          563,
          69,
          47,
          124,
          44,
          253,
          97,
          65,
          944,
          872,
          92,
          49,
          55,
          152,
          72,
          977,
          421,
          91,
          159,
          31,
          802,
          1868,
          1135,
          606,
          156,
          47,
          163,
          138,
          965,
          36,
          220,
          146,
          79,
          170,
          60,
          84,
          31,
          92,
          38,
          125,
          181,
          1361,
          59,
          303,
          688,
          81,
          152,
          175,
          125,
          74,
          79,
          81,
          28,
          1443,
          247,
          101,
          37,
          45,
          23,
          44,
          117,
          15,
          95,
          64,
          644,
          204,
          74,
          548,
          52,
          51,
          48,
          232,
          291,
          238,
          858,
          38,
          37,
          55,
          39,
          43,
          24,
          981,
          201,
          467,
          60,
          50,
          84,
          112,
          32,
          46,
          66,
          73,
          97,
          586,
          72,
          118,
          51,
          38,
          336,
          336,
          51,
          63,
          48,
          1200,
          674,
          62,
          553,
          341,
          66,
          96,
          286,
          265,
          60,
          389,
          1439,
          156,
          510,
          241,
          290,
          449,
          223,
          25,
          389,
          120,
          456,
          548,
          203,
          446,
          153,
          33,
          107,
          125,
          119,
          198,
          139,
          556,
          41,
          299,
          160,
          52,
          186,
          92,
          71,
          1172,
          27,
          476,
          989,
          255,
          224,
          91,
          169,
          168,
          191,
          730,
          46,
          167,
          262,
          321,
          174,
          116,
          232,
          405,
          1172,
          473,
          222,
          131,
          91,
          49,
          213,
          212,
          17,
          127,
          76,
          42,
          103,
          228,
          75,
          76,
          767,
          222,
          229,
          85,
          240,
          43,
          97,
          471,
          299,
          166,
          1285,
          353,
          113,
          60,
          79,
          67,
          127,
          123,
          140,
          101,
          33,
          49,
          76,
          45,
          17,
          452,
          39,
          31,
          291,
          66,
          109,
          75,
          90,
          212,
          581,
          40,
          7,
          729,
          477,
          44,
          321,
          159,
          92,
          84,
          49,
          1840,
          338,
          112,
          329,
          358,
          44,
          174,
          57,
          62,
          219,
          184,
          925,
          731,
          36,
          48,
          1968,
          123,
          192,
          155,
          125,
          143,
          119,
          310,
          166,
          50,
          162,
          128,
          121,
          489,
          345,
          57,
          117,
          573,
          126,
          81,
          235,
          285,
          112,
          293,
          1538,
          110,
          52,
          56,
          451,
          46,
          52,
          87,
          40,
          47,
          119,
          97,
          78,
          187,
          47,
          161,
          328,
          231,
          45,
          88,
          79,
          363,
          671,
          395,
          62,
          899,
          253,
          434,
          304,
          620,
          115,
          50,
          88,
          45,
          29,
          38,
          168,
          34,
          25,
          175,
          328,
          85,
          112,
          669,
          106,
          61,
          66,
          439,
          563,
          64,
          43,
          141,
          86,
          468,
          79,
          390,
          46,
          361,
          545,
          147,
          84,
          52,
          46,
          52,
          66,
          130,
          620,
          792,
          105,
          138,
          193,
          87,
          44,
          90,
          94,
          84,
          91,
          53,
          80,
          103,
          62,
          24,
          263,
          45,
          143,
          49,
          63,
          44,
          92,
          1235,
          1268,
          643,
          572,
          323,
          42,
          319,
          346,
          79,
          149,
          71,
          37,
          188,
          472,
          54,
          423,
          91,
          43,
          54,
          342,
          36,
          57,
          66,
          309,
          52,
          403,
          87,
          50,
          40,
          1127,
          125,
          41,
          26,
          38,
          371,
          76,
          65,
          83,
          34,
          66,
          109,
          576,
          149,
          158,
          46,
          36,
          47,
          108,
          71,
          44,
          237,
          126,
          419,
          303,
          340,
          312,
          702,
          208,
          374,
          332,
          117,
          137,
          313,
          206,
          1374,
          303,
          131,
          178,
          53,
          144,
          117,
          108,
          582,
          837,
          403,
          642,
          93,
          113,
          84,
          181,
          45,
          161,
          198,
          56,
          67,
          129,
          923,
          154,
          32,
          59,
          914,
          707,
          76,
          42,
          63,
          498,
          149,
          123,
          137,
          406,
          77,
          28,
          192,
          428,
          42,
          119,
          172,
          151,
          56,
          49,
          149,
          116,
          43,
          51,
          105,
          1231,
          108,
          397,
          369,
          665,
          118,
          69,
          164,
          155,
          154,
          57,
          106,
          81,
          153,
          63,
          638,
          460,
          801,
          296,
          424,
          234,
          235,
          243,
          283,
          267,
          302,
          266,
          219,
          891,
          105,
          173,
          508,
          212,
          72,
          46,
          561,
          228,
          114,
          85,
          127,
          982,
          132,
          17,
          179,
          148,
          49,
          690,
          158,
          530,
          132,
          531,
          100,
          83,
          122,
          70,
          46,
          146,
          115,
          39,
          67,
          81,
          203,
          682,
          131,
          47,
          70,
          69,
          69,
          29,
          239,
          155,
          39,
          41,
          26,
          36,
          687,
          136,
          130,
          27,
          717,
          1113,
          419,
          556,
          36,
          62,
          49,
          61,
          142,
          230,
          459,
          1910,
          763,
          162,
          493,
          119,
          177,
          26,
          389,
          158,
          108,
          257,
          77,
          102,
          77,
          52,
          794,
          54,
          42,
          148,
          198,
          778,
          287,
          22,
          36,
          65,
          77,
          171,
          129,
          11,
          155,
          622,
          109,
          108,
          411,
          98,
          161,
          671,
          135,
          26,
          145,
          79,
          144,
          60,
          68,
          129,
          243,
          41,
          523,
          60,
          43,
          37,
          84,
          73,
          144,
          341,
          336,
          57,
          105,
          152,
          182,
          50,
          151,
          98,
          95,
          75,
          28,
          658,
          59,
          74,
          95,
          179,
          209,
          67,
          416,
          87,
          86,
          121,
          101,
          131,
          86,
          53,
          115,
          309,
          348,
          309,
          98,
          272,
          392,
          383,
          197,
          179,
          320,
          301,
          380,
          483,
          85,
          73,
          103,
          56,
          66,
          154,
          64,
          89,
          163,
          1150,
          58,
          993,
          1325,
          55,
          56,
          133,
          242,
          91,
          503,
          87,
          67,
          93,
          138,
          32,
          113,
          68,
          44,
          44,
          1799,
          324,
          514,
          135,
          219,
          323,
          118,
          124,
          659,
          104,
          72,
          78,
          36,
          148,
          801,
          43,
          320,
          76,
          69,
          40,
          185,
          114,
          28,
          46,
          46,
          75,
          255,
          1034,
          117,
          143,
          30,
          242,
          64,
          132,
          166,
          108,
          98,
          36,
          56,
          104,
          36,
          104,
          367,
          352,
          252,
          148,
          27,
          117,
          86,
          97,
          486,
          65,
          69,
          42,
          74,
          49,
          722,
          669,
          52,
          90,
          110,
          288,
          376,
          27,
          112,
          263,
          1139,
          225,
          99,
          657,
          164,
          160,
          180,
          84,
          55,
          248,
          84,
          111,
          343,
          50,
          162,
          751,
          101,
          369,
          422,
          365,
          40,
          483,
          662,
          83,
          83,
          169,
          391,
          95,
          232,
          204,
          336,
          192,
          61,
          331,
          742,
          96,
          353,
          216,
          108,
          903,
          608,
          2099,
          423,
          62,
          228,
          601,
          48,
          207,
          76,
          314,
          63,
          1546,
          142,
          133,
          174,
          19,
          153,
          29,
          32,
          1372,
          860,
          583,
          147,
          459,
          79,
          48,
          62,
          470,
          166,
          69,
          54,
          69,
          80,
          297,
          71,
          150,
          125,
          508,
          71,
          112,
          643,
          391,
          79,
          65,
          784,
          92,
          89,
          33,
          65,
          222,
          157,
          58,
          675,
          34,
          94,
          1485,
          191,
          297,
          78,
          72,
          138,
          973,
          168,
          13,
          46,
          90,
          35,
          66,
          57,
          182,
          146,
          122,
          40,
          555,
          340,
          348,
          28,
          251,
          229,
          144,
          237,
          50,
          175,
          1906,
          117,
          965,
          385,
          93,
          93,
          154,
          114,
          80,
          81,
          74,
          46,
          104,
          71,
          483,
          103,
          52,
          44,
          69,
          109,
          1641,
          797,
          157,
          71,
          300,
          417,
          369,
          221,
          238,
          344,
          97,
          379,
          163,
          356,
          63,
          50,
          91,
          94,
          46,
          173,
          75,
          397,
          67,
          50,
          115,
          130,
          137,
          895,
          74,
          65,
          591
         ],
         "xaxis": "x",
         "yaxis": "y"
        }
       ],
       "layout": {
        "barmode": "relative",
        "height": 600,
        "legend": {
         "tracegroupgap": 0
        },
        "margin": {
         "t": 60
        },
        "template": {
         "data": {
          "bar": [
           {
            "error_x": {
             "color": "#2a3f5f"
            },
            "error_y": {
             "color": "#2a3f5f"
            },
            "marker": {
             "line": {
              "color": "#E5ECF6",
              "width": 0.5
             }
            },
            "type": "bar"
           }
          ],
          "barpolar": [
           {
            "marker": {
             "line": {
              "color": "#E5ECF6",
              "width": 0.5
             }
            },
            "type": "barpolar"
           }
          ],
          "carpet": [
           {
            "aaxis": {
             "endlinecolor": "#2a3f5f",
             "gridcolor": "white",
             "linecolor": "white",
             "minorgridcolor": "white",
             "startlinecolor": "#2a3f5f"
            },
            "baxis": {
             "endlinecolor": "#2a3f5f",
             "gridcolor": "white",
             "linecolor": "white",
             "minorgridcolor": "white",
             "startlinecolor": "#2a3f5f"
            },
            "type": "carpet"
           }
          ],
          "choropleth": [
           {
            "colorbar": {
             "outlinewidth": 0,
             "ticks": ""
            },
            "type": "choropleth"
           }
          ],
          "contour": [
           {
            "colorbar": {
             "outlinewidth": 0,
             "ticks": ""
            },
            "colorscale": [
             [
              0,
              "#0d0887"
             ],
             [
              0.1111111111111111,
              "#46039f"
             ],
             [
              0.2222222222222222,
              "#7201a8"
             ],
             [
              0.3333333333333333,
              "#9c179e"
             ],
             [
              0.4444444444444444,
              "#bd3786"
             ],
             [
              0.5555555555555556,
              "#d8576b"
             ],
             [
              0.6666666666666666,
              "#ed7953"
             ],
             [
              0.7777777777777778,
              "#fb9f3a"
             ],
             [
              0.8888888888888888,
              "#fdca26"
             ],
             [
              1,
              "#f0f921"
             ]
            ],
            "type": "contour"
           }
          ],
          "contourcarpet": [
           {
            "colorbar": {
             "outlinewidth": 0,
             "ticks": ""
            },
            "type": "contourcarpet"
           }
          ],
          "heatmap": [
           {
            "colorbar": {
             "outlinewidth": 0,
             "ticks": ""
            },
            "colorscale": [
             [
              0,
              "#0d0887"
             ],
             [
              0.1111111111111111,
              "#46039f"
             ],
             [
              0.2222222222222222,
              "#7201a8"
             ],
             [
              0.3333333333333333,
              "#9c179e"
             ],
             [
              0.4444444444444444,
              "#bd3786"
             ],
             [
              0.5555555555555556,
              "#d8576b"
             ],
             [
              0.6666666666666666,
              "#ed7953"
             ],
             [
              0.7777777777777778,
              "#fb9f3a"
             ],
             [
              0.8888888888888888,
              "#fdca26"
             ],
             [
              1,
              "#f0f921"
             ]
            ],
            "type": "heatmap"
           }
          ],
          "heatmapgl": [
           {
            "colorbar": {
             "outlinewidth": 0,
             "ticks": ""
            },
            "colorscale": [
             [
              0,
              "#0d0887"
             ],
             [
              0.1111111111111111,
              "#46039f"
             ],
             [
              0.2222222222222222,
              "#7201a8"
             ],
             [
              0.3333333333333333,
              "#9c179e"
             ],
             [
              0.4444444444444444,
              "#bd3786"
             ],
             [
              0.5555555555555556,
              "#d8576b"
             ],
             [
              0.6666666666666666,
              "#ed7953"
             ],
             [
              0.7777777777777778,
              "#fb9f3a"
             ],
             [
              0.8888888888888888,
              "#fdca26"
             ],
             [
              1,
              "#f0f921"
             ]
            ],
            "type": "heatmapgl"
           }
          ],
          "histogram": [
           {
            "marker": {
             "colorbar": {
              "outlinewidth": 0,
              "ticks": ""
             }
            },
            "type": "histogram"
           }
          ],
          "histogram2d": [
           {
            "colorbar": {
             "outlinewidth": 0,
             "ticks": ""
            },
            "colorscale": [
             [
              0,
              "#0d0887"
             ],
             [
              0.1111111111111111,
              "#46039f"
             ],
             [
              0.2222222222222222,
              "#7201a8"
             ],
             [
              0.3333333333333333,
              "#9c179e"
             ],
             [
              0.4444444444444444,
              "#bd3786"
             ],
             [
              0.5555555555555556,
              "#d8576b"
             ],
             [
              0.6666666666666666,
              "#ed7953"
             ],
             [
              0.7777777777777778,
              "#fb9f3a"
             ],
             [
              0.8888888888888888,
              "#fdca26"
             ],
             [
              1,
              "#f0f921"
             ]
            ],
            "type": "histogram2d"
           }
          ],
          "histogram2dcontour": [
           {
            "colorbar": {
             "outlinewidth": 0,
             "ticks": ""
            },
            "colorscale": [
             [
              0,
              "#0d0887"
             ],
             [
              0.1111111111111111,
              "#46039f"
             ],
             [
              0.2222222222222222,
              "#7201a8"
             ],
             [
              0.3333333333333333,
              "#9c179e"
             ],
             [
              0.4444444444444444,
              "#bd3786"
             ],
             [
              0.5555555555555556,
              "#d8576b"
             ],
             [
              0.6666666666666666,
              "#ed7953"
             ],
             [
              0.7777777777777778,
              "#fb9f3a"
             ],
             [
              0.8888888888888888,
              "#fdca26"
             ],
             [
              1,
              "#f0f921"
             ]
            ],
            "type": "histogram2dcontour"
           }
          ],
          "mesh3d": [
           {
            "colorbar": {
             "outlinewidth": 0,
             "ticks": ""
            },
            "type": "mesh3d"
           }
          ],
          "parcoords": [
           {
            "line": {
             "colorbar": {
              "outlinewidth": 0,
              "ticks": ""
             }
            },
            "type": "parcoords"
           }
          ],
          "pie": [
           {
            "automargin": true,
            "type": "pie"
           }
          ],
          "scatter": [
           {
            "marker": {
             "colorbar": {
              "outlinewidth": 0,
              "ticks": ""
             }
            },
            "type": "scatter"
           }
          ],
          "scatter3d": [
           {
            "line": {
             "colorbar": {
              "outlinewidth": 0,
              "ticks": ""
             }
            },
            "marker": {
             "colorbar": {
              "outlinewidth": 0,
              "ticks": ""
             }
            },
            "type": "scatter3d"
           }
          ],
          "scattercarpet": [
           {
            "marker": {
             "colorbar": {
              "outlinewidth": 0,
              "ticks": ""
             }
            },
            "type": "scattercarpet"
           }
          ],
          "scattergeo": [
           {
            "marker": {
             "colorbar": {
              "outlinewidth": 0,
              "ticks": ""
             }
            },
            "type": "scattergeo"
           }
          ],
          "scattergl": [
           {
            "marker": {
             "colorbar": {
              "outlinewidth": 0,
              "ticks": ""
             }
            },
            "type": "scattergl"
           }
          ],
          "scattermapbox": [
           {
            "marker": {
             "colorbar": {
              "outlinewidth": 0,
              "ticks": ""
             }
            },
            "type": "scattermapbox"
           }
          ],
          "scatterpolar": [
           {
            "marker": {
             "colorbar": {
              "outlinewidth": 0,
              "ticks": ""
             }
            },
            "type": "scatterpolar"
           }
          ],
          "scatterpolargl": [
           {
            "marker": {
             "colorbar": {
              "outlinewidth": 0,
              "ticks": ""
             }
            },
            "type": "scatterpolargl"
           }
          ],
          "scatterternary": [
           {
            "marker": {
             "colorbar": {
              "outlinewidth": 0,
              "ticks": ""
             }
            },
            "type": "scatterternary"
           }
          ],
          "surface": [
           {
            "colorbar": {
             "outlinewidth": 0,
             "ticks": ""
            },
            "colorscale": [
             [
              0,
              "#0d0887"
             ],
             [
              0.1111111111111111,
              "#46039f"
             ],
             [
              0.2222222222222222,
              "#7201a8"
             ],
             [
              0.3333333333333333,
              "#9c179e"
             ],
             [
              0.4444444444444444,
              "#bd3786"
             ],
             [
              0.5555555555555556,
              "#d8576b"
             ],
             [
              0.6666666666666666,
              "#ed7953"
             ],
             [
              0.7777777777777778,
              "#fb9f3a"
             ],
             [
              0.8888888888888888,
              "#fdca26"
             ],
             [
              1,
              "#f0f921"
             ]
            ],
            "type": "surface"
           }
          ],
          "table": [
           {
            "cells": {
             "fill": {
              "color": "#EBF0F8"
             },
             "line": {
              "color": "white"
             }
            },
            "header": {
             "fill": {
              "color": "#C8D4E3"
             },
             "line": {
              "color": "white"
             }
            },
            "type": "table"
           }
          ]
         },
         "layout": {
          "annotationdefaults": {
           "arrowcolor": "#2a3f5f",
           "arrowhead": 0,
           "arrowwidth": 1
          },
          "coloraxis": {
           "colorbar": {
            "outlinewidth": 0,
            "ticks": ""
           }
          },
          "colorscale": {
           "diverging": [
            [
             0,
             "#8e0152"
            ],
            [
             0.1,
             "#c51b7d"
            ],
            [
             0.2,
             "#de77ae"
            ],
            [
             0.3,
             "#f1b6da"
            ],
            [
             0.4,
             "#fde0ef"
            ],
            [
             0.5,
             "#f7f7f7"
            ],
            [
             0.6,
             "#e6f5d0"
            ],
            [
             0.7,
             "#b8e186"
            ],
            [
             0.8,
             "#7fbc41"
            ],
            [
             0.9,
             "#4d9221"
            ],
            [
             1,
             "#276419"
            ]
           ],
           "sequential": [
            [
             0,
             "#0d0887"
            ],
            [
             0.1111111111111111,
             "#46039f"
            ],
            [
             0.2222222222222222,
             "#7201a8"
            ],
            [
             0.3333333333333333,
             "#9c179e"
            ],
            [
             0.4444444444444444,
             "#bd3786"
            ],
            [
             0.5555555555555556,
             "#d8576b"
            ],
            [
             0.6666666666666666,
             "#ed7953"
            ],
            [
             0.7777777777777778,
             "#fb9f3a"
            ],
            [
             0.8888888888888888,
             "#fdca26"
            ],
            [
             1,
             "#f0f921"
            ]
           ],
           "sequentialminus": [
            [
             0,
             "#0d0887"
            ],
            [
             0.1111111111111111,
             "#46039f"
            ],
            [
             0.2222222222222222,
             "#7201a8"
            ],
            [
             0.3333333333333333,
             "#9c179e"
            ],
            [
             0.4444444444444444,
             "#bd3786"
            ],
            [
             0.5555555555555556,
             "#d8576b"
            ],
            [
             0.6666666666666666,
             "#ed7953"
            ],
            [
             0.7777777777777778,
             "#fb9f3a"
            ],
            [
             0.8888888888888888,
             "#fdca26"
            ],
            [
             1,
             "#f0f921"
            ]
           ]
          },
          "colorway": [
           "#636efa",
           "#EF553B",
           "#00cc96",
           "#ab63fa",
           "#FFA15A",
           "#19d3f3",
           "#FF6692",
           "#B6E880",
           "#FF97FF",
           "#FECB52"
          ],
          "font": {
           "color": "#2a3f5f"
          },
          "geo": {
           "bgcolor": "white",
           "lakecolor": "white",
           "landcolor": "#E5ECF6",
           "showlakes": true,
           "showland": true,
           "subunitcolor": "white"
          },
          "hoverlabel": {
           "align": "left"
          },
          "hovermode": "closest",
          "mapbox": {
           "style": "light"
          },
          "paper_bgcolor": "white",
          "plot_bgcolor": "#E5ECF6",
          "polar": {
           "angularaxis": {
            "gridcolor": "white",
            "linecolor": "white",
            "ticks": ""
           },
           "bgcolor": "#E5ECF6",
           "radialaxis": {
            "gridcolor": "white",
            "linecolor": "white",
            "ticks": ""
           }
          },
          "scene": {
           "xaxis": {
            "backgroundcolor": "#E5ECF6",
            "gridcolor": "white",
            "gridwidth": 2,
            "linecolor": "white",
            "showbackground": true,
            "ticks": "",
            "zerolinecolor": "white"
           },
           "yaxis": {
            "backgroundcolor": "#E5ECF6",
            "gridcolor": "white",
            "gridwidth": 2,
            "linecolor": "white",
            "showbackground": true,
            "ticks": "",
            "zerolinecolor": "white"
           },
           "zaxis": {
            "backgroundcolor": "#E5ECF6",
            "gridcolor": "white",
            "gridwidth": 2,
            "linecolor": "white",
            "showbackground": true,
            "ticks": "",
            "zerolinecolor": "white"
           }
          },
          "shapedefaults": {
           "line": {
            "color": "#2a3f5f"
           }
          },
          "ternary": {
           "aaxis": {
            "gridcolor": "white",
            "linecolor": "white",
            "ticks": ""
           },
           "baxis": {
            "gridcolor": "white",
            "linecolor": "white",
            "ticks": ""
           },
           "bgcolor": "#E5ECF6",
           "caxis": {
            "gridcolor": "white",
            "linecolor": "white",
            "ticks": ""
           }
          },
          "title": {
           "x": 0.05
          },
          "xaxis": {
           "automargin": true,
           "gridcolor": "white",
           "linecolor": "white",
           "ticks": "",
           "title": {
            "standoff": 15
           },
           "zerolinecolor": "white",
           "zerolinewidth": 2
          },
          "yaxis": {
           "automargin": true,
           "gridcolor": "white",
           "linecolor": "white",
           "ticks": "",
           "title": {
            "standoff": 15
           },
           "zerolinecolor": "white",
           "zerolinewidth": 2
          }
         }
        },
        "xaxis": {
         "anchor": "y",
         "domain": [
          0,
          1
         ],
         "title": {
          "text": "Number_of_faculty-all_ranks"
         }
        },
        "yaxis": {
         "anchor": "x",
         "domain": [
          0,
          1
         ],
         "title": {
          "text": "count"
         }
        }
       }
      },
      "text/html": [
       "<div>\n",
       "        \n",
       "        \n",
       "            <div id=\"bfbf6f51-ff1f-4ccc-b037-2a8b5e81ae2e\" class=\"plotly-graph-div\" style=\"height:600px; width:100%;\"></div>\n",
       "            <script type=\"text/javascript\">\n",
       "                require([\"plotly\"], function(Plotly) {\n",
       "                    window.PLOTLYENV=window.PLOTLYENV || {};\n",
       "                    \n",
       "                if (document.getElementById(\"bfbf6f51-ff1f-4ccc-b037-2a8b5e81ae2e\")) {\n",
       "                    Plotly.newPlot(\n",
       "                        'bfbf6f51-ff1f-4ccc-b037-2a8b5e81ae2e',\n",
       "                        [{\"alignmentgroup\": \"True\", \"bingroup\": \"x\", \"hoverlabel\": {\"namelength\": 0}, \"hovertemplate\": \"Number_of_faculty-all_ranks=%{x}<br>count=%{y}\", \"legendgroup\": \"\", \"marker\": {\"color\": \"#636efa\"}, \"name\": \"\", \"nbinsx\": 30, \"offsetgroup\": \"\", \"orientation\": \"v\", \"showlegend\": false, \"type\": \"histogram\", \"x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xaxis\": \"x\", \"yaxis\": \"y\"}],\n",
       "                        {\"barmode\": \"relative\", \"height\": 600, \"legend\": {\"tracegroupgap\": 0}, \"margin\": {\"t\": 60}, \"template\": {\"data\": {\"bar\": [{\"error_x\": {\"color\": \"#2a3f5f\"}, \"error_y\": {\"color\": \"#2a3f5f\"}, \"marker\": {\"line\": {\"color\": \"#E5ECF6\", \"width\": 0.5}}, \"type\": \"bar\"}], \"barpolar\": [{\"marker\": {\"line\": {\"color\": \"#E5ECF6\", \"width\": 0.5}}, \"type\": \"barpolar\"}], \"carpet\": [{\"aaxis\": {\"endlinecolor\": \"#2a3f5f\", \"gridcolor\": \"white\", \"linecolor\": \"white\", \"minorgridcolor\": \"white\", \"startlinecolor\": \"#2a3f5f\"}, \"baxis\": {\"endlinecolor\": \"#2a3f5f\", \"gridcolor\": \"white\", \"linecolor\": \"white\", \"minorgridcolor\": \"white\", \"startlinecolor\": \"#2a3f5f\"}, \"type\": \"carpet\"}], \"choropleth\": [{\"colorbar\": {\"outlinewidth\": 0, \"ticks\": \"\"}, \"type\": \"choropleth\"}], \"contour\": [{\"colorbar\": {\"outlinewidth\": 0, \"ticks\": \"\"}, \"colorscale\": [[0.0, \"#0d0887\"], [0.1111111111111111, \"#46039f\"], [0.2222222222222222, \"#7201a8\"], [0.3333333333333333, \"#9c179e\"], [0.4444444444444444, \"#bd3786\"], [0.5555555555555556, \"#d8576b\"], [0.6666666666666666, \"#ed7953\"], [0.7777777777777778, \"#fb9f3a\"], [0.8888888888888888, \"#fdca26\"], [1.0, \"#f0f921\"]], \"type\": \"contour\"}], \"contourcarpet\": [{\"colorbar\": {\"outlinewidth\": 0, \"ticks\": \"\"}, \"type\": \"contourcarpet\"}], \"heatmap\": [{\"colorbar\": {\"outlinewidth\": 0, \"ticks\": \"\"}, \"colorscale\": [[0.0, \"#0d0887\"], [0.1111111111111111, \"#46039f\"], [0.2222222222222222, \"#7201a8\"], [0.3333333333333333, \"#9c179e\"], [0.4444444444444444, \"#bd3786\"], [0.5555555555555556, \"#d8576b\"], [0.6666666666666666, \"#ed7953\"], [0.7777777777777778, \"#fb9f3a\"], [0.8888888888888888, \"#fdca26\"], [1.0, \"#f0f921\"]], \"type\": \"heatmap\"}], \"heatmapgl\": [{\"colorbar\": {\"outlinewidth\": 0, \"ticks\": \"\"}, \"colorscale\": [[0.0, \"#0d0887\"], [0.1111111111111111, \"#46039f\"], [0.2222222222222222, \"#7201a8\"], [0.3333333333333333, \"#9c179e\"], [0.4444444444444444, \"#bd3786\"], [0.5555555555555556, \"#d8576b\"], [0.6666666666666666, \"#ed7953\"], [0.7777777777777778, \"#fb9f3a\"], [0.8888888888888888, \"#fdca26\"], [1.0, \"#f0f921\"]], \"type\": \"heatmapgl\"}], \"histogram\": [{\"marker\": {\"colorbar\": {\"outlinewidth\": 0, \"ticks\": \"\"}}, \"type\": \"histogram\"}], \"histogram2d\": [{\"colorbar\": {\"outlinewidth\": 0, \"ticks\": \"\"}, \"colorscale\": [[0.0, \"#0d0887\"], [0.1111111111111111, \"#46039f\"], [0.2222222222222222, \"#7201a8\"], [0.3333333333333333, \"#9c179e\"], [0.4444444444444444, \"#bd3786\"], [0.5555555555555556, \"#d8576b\"], [0.6666666666666666, \"#ed7953\"], [0.7777777777777778, \"#fb9f3a\"], [0.8888888888888888, \"#fdca26\"], [1.0, \"#f0f921\"]], \"type\": \"histogram2d\"}], \"histogram2dcontour\": [{\"colorbar\": {\"outlinewidth\": 0, \"ticks\": \"\"}, \"colorscale\": [[0.0, \"#0d0887\"], [0.1111111111111111, \"#46039f\"], [0.2222222222222222, \"#7201a8\"], [0.3333333333333333, \"#9c179e\"], [0.4444444444444444, \"#bd3786\"], [0.5555555555555556, \"#d8576b\"], [0.6666666666666666, \"#ed7953\"], [0.7777777777777778, \"#fb9f3a\"], [0.8888888888888888, \"#fdca26\"], [1.0, \"#f0f921\"]], \"type\": \"histogram2dcontour\"}], \"mesh3d\": [{\"colorbar\": {\"outlinewidth\": 0, \"ticks\": \"\"}, \"type\": \"mesh3d\"}], \"parcoords\": [{\"line\": {\"colorbar\": {\"outlinewidth\": 0, \"ticks\": \"\"}}, \"type\": \"parcoords\"}], \"pie\": [{\"automargin\": true, \"type\": \"pie\"}], \"scatter\": [{\"marker\": {\"colorbar\": {\"outlinewidth\": 0, \"ticks\": \"\"}}, \"type\": \"scatter\"}], \"scatter3d\": [{\"line\": {\"colorbar\": {\"outlinewidth\": 0, \"ticks\": \"\"}}, \"marker\": {\"colorbar\": {\"outlinewidth\": 0, \"ticks\": \"\"}}, \"type\": \"scatter3d\"}], \"scattercarpet\": [{\"marker\": {\"colorbar\": {\"outlinewidth\": 0, \"ticks\": \"\"}}, \"type\": \"scattercarpet\"}], \"scattergeo\": [{\"marker\": {\"colorbar\": {\"outlinewidth\": 0, \"ticks\": \"\"}}, \"type\": \"scattergeo\"}], \"scattergl\": [{\"marker\": {\"colorbar\": {\"outlinewidth\": 0, \"ticks\": \"\"}}, \"type\": \"scattergl\"}], \"scattermapbox\": [{\"marker\": {\"colorbar\": {\"outlinewidth\": 0, \"ticks\": \"\"}}, \"type\": \"scattermapbox\"}], \"scatterpolar\": [{\"marker\": {\"colorbar\": {\"outlinewidth\": 0, \"ticks\": \"\"}}, \"type\": \"scatterpolar\"}], \"scatterpolargl\": [{\"marker\": {\"colorbar\": {\"outlinewidth\": 0, \"ticks\": \"\"}}, \"type\": \"scatterpolargl\"}], \"scatterternary\": [{\"marker\": {\"colorbar\": {\"outlinewidth\": 0, \"ticks\": \"\"}}, \"type\": \"scatterternary\"}], \"surface\": [{\"colorbar\": {\"outlinewidth\": 0, \"ticks\": \"\"}, \"colorscale\": [[0.0, \"#0d0887\"], [0.1111111111111111, \"#46039f\"], [0.2222222222222222, \"#7201a8\"], [0.3333333333333333, \"#9c179e\"], [0.4444444444444444, \"#bd3786\"], [0.5555555555555556, \"#d8576b\"], [0.6666666666666666, \"#ed7953\"], [0.7777777777777778, \"#fb9f3a\"], [0.8888888888888888, \"#fdca26\"], [1.0, \"#f0f921\"]], \"type\": \"surface\"}], \"table\": [{\"cells\": {\"fill\": {\"color\": \"#EBF0F8\"}, \"line\": {\"color\": \"white\"}}, \"header\": {\"fill\": {\"color\": \"#C8D4E3\"}, \"line\": {\"color\": \"white\"}}, \"type\": \"table\"}]}, \"layout\": {\"annotationdefaults\": {\"arrowcolor\": \"#2a3f5f\", \"arrowhead\": 0, \"arrowwidth\": 1}, \"coloraxis\": {\"colorbar\": {\"outlinewidth\": 0, \"ticks\": \"\"}}, \"colorscale\": {\"diverging\": [[0, \"#8e0152\"], [0.1, \"#c51b7d\"], [0.2, \"#de77ae\"], [0.3, \"#f1b6da\"], [0.4, \"#fde0ef\"], [0.5, \"#f7f7f7\"], [0.6, \"#e6f5d0\"], [0.7, \"#b8e186\"], [0.8, \"#7fbc41\"], [0.9, \"#4d9221\"], [1, \"#276419\"]], \"sequential\": [[0.0, \"#0d0887\"], [0.1111111111111111, \"#46039f\"], [0.2222222222222222, \"#7201a8\"], [0.3333333333333333, \"#9c179e\"], [0.4444444444444444, \"#bd3786\"], [0.5555555555555556, \"#d8576b\"], [0.6666666666666666, \"#ed7953\"], [0.7777777777777778, \"#fb9f3a\"], [0.8888888888888888, \"#fdca26\"], [1.0, \"#f0f921\"]], \"sequentialminus\": [[0.0, \"#0d0887\"], [0.1111111111111111, \"#46039f\"], [0.2222222222222222, \"#7201a8\"], [0.3333333333333333, \"#9c179e\"], [0.4444444444444444, \"#bd3786\"], [0.5555555555555556, \"#d8576b\"], [0.6666666666666666, \"#ed7953\"], [0.7777777777777778, \"#fb9f3a\"], [0.8888888888888888, \"#fdca26\"], [1.0, \"#f0f921\"]]}, \"colorway\": [\"#636efa\", \"#EF553B\", \"#00cc96\", \"#ab63fa\", \"#FFA15A\", \"#19d3f3\", \"#FF6692\", \"#B6E880\", \"#FF97FF\", \"#FECB52\"], \"font\": {\"color\": \"#2a3f5f\"}, \"geo\": {\"bgcolor\": \"white\", \"lakecolor\": \"white\", \"landcolor\": \"#E5ECF6\", \"showlakes\": true, \"showland\": true, \"subunitcolor\": \"white\"}, \"hoverlabel\": {\"align\": \"left\"}, \"hovermode\": \"closest\", \"mapbox\": {\"style\": \"light\"}, \"paper_bgcolor\": \"white\", \"plot_bgcolor\": \"#E5ECF6\", \"polar\": {\"angularaxis\": {\"gridcolor\": \"white\", \"linecolor\": \"white\", \"ticks\": \"\"}, \"bgcolor\": \"#E5ECF6\", \"radialaxis\": {\"gridcolor\": \"white\", \"linecolor\": \"white\", \"ticks\": \"\"}}, \"scene\": {\"xaxis\": {\"backgroundcolor\": \"#E5ECF6\", \"gridcolor\": \"white\", \"gridwidth\": 2, \"linecolor\": \"white\", \"showbackground\": true, \"ticks\": \"\", \"zerolinecolor\": \"white\"}, \"yaxis\": {\"backgroundcolor\": \"#E5ECF6\", \"gridcolor\": \"white\", \"gridwidth\": 2, \"linecolor\": \"white\", \"showbackground\": true, \"ticks\": \"\", \"zerolinecolor\": \"white\"}, \"zaxis\": {\"backgroundcolor\": \"#E5ECF6\", \"gridcolor\": \"white\", \"gridwidth\": 2, \"linecolor\": \"white\", \"showbackground\": true, \"ticks\": \"\", \"zerolinecolor\": \"white\"}}, \"shapedefaults\": {\"line\": {\"color\": \"#2a3f5f\"}}, \"ternary\": {\"aaxis\": {\"gridcolor\": \"white\", \"linecolor\": \"white\", \"ticks\": \"\"}, \"baxis\": {\"gridcolor\": \"white\", \"linecolor\": \"white\", \"ticks\": \"\"}, \"bgcolor\": \"#E5ECF6\", \"caxis\": {\"gridcolor\": \"white\", \"linecolor\": \"white\", \"ticks\": \"\"}}, \"title\": {\"x\": 0.05}, \"xaxis\": {\"automargin\": true, \"gridcolor\": \"white\", \"linecolor\": \"white\", \"ticks\": \"\", \"title\": {\"standoff\": 15}, \"zerolinecolor\": \"white\", \"zerolinewidth\": 2}, \"yaxis\": {\"automargin\": true, \"gridcolor\": \"white\", \"linecolor\": \"white\", \"ticks\": \"\", \"title\": {\"standoff\": 15}, \"zerolinecolor\": \"white\", \"zerolinewidth\": 2}}}, \"xaxis\": {\"anchor\": \"y\", \"domain\": [0.0, 1.0], \"title\": {\"text\": \"Number_of_faculty-all_ranks\"}}, \"yaxis\": {\"anchor\": \"x\", \"domain\": [0.0, 1.0], \"title\": {\"text\": \"count\"}}},\n",
       "                        {\"responsive\": true}\n",
       "                    ).then(function(){\n",
       "                            \n",
       "var gd = document.getElementById('bfbf6f51-ff1f-4ccc-b037-2a8b5e81ae2e');\n",
       "var x = new MutationObserver(function (mutations, observer) {{\n",
       "        var display = window.getComputedStyle(gd).display;\n",
       "        if (!display || display === 'none') {{\n",
       "            console.log([gd, 'removed!']);\n",
       "            Plotly.purge(gd);\n",
       "            observer.disconnect();\n",
       "        }}\n",
       "}});\n",
       "\n",
       "// Listen for the removal of the full notebook cells\n",
       "var notebookContainer = gd.closest('#notebook-container');\n",
       "if (notebookContainer) {{\n",
       "    x.observe(notebookContainer, {childList: true});\n",
       "}}\n",
       "\n",
       "// Listen for the clearing of the current output cell\n",
       "var outputEl = gd.closest('.output');\n",
       "if (outputEl) {{\n",
       "    x.observe(outputEl, {childList: true});\n",
       "}}\n",
       "\n",
       "                        })\n",
       "                };\n",
       "                });\n",
       "            </script>\n",
       "        </div>"
      ]
     },
     "metadata": {},
     "output_type": "display_data"
    }
   ],
   "source": [
    "fig=px.histogram(colg,x=\"Number_of_faculty-all_ranks\",nbins=30)  ## histograms distribution \n",
    "fig.show()"
   ]
  },
  {
   "cell_type": "code",
   "execution_count": 25,
   "metadata": {},
   "outputs": [],
   "source": [
    "from sklearn import preprocessing"
   ]
  },
  {
   "cell_type": "code",
   "execution_count": 26,
   "metadata": {},
   "outputs": [],
   "source": [
    "from scipy import stats"
   ]
  },
  {
   "cell_type": "code",
   "execution_count": 27,
   "metadata": {},
   "outputs": [
    {
     "data": {
      "text/plain": [
       "col1    object\n",
       "col2    object\n",
       "dtype: object"
      ]
     },
     "execution_count": 27,
     "metadata": {},
     "output_type": "execute_result"
    }
   ],
   "source": [
    "d={'col1':['IIB','IIA'],'col2':['I','VIIB']}\n",
    "df=pd.DataFrame(data=d)     ### converting string object in to categorical variables\n",
    "df.dtypes"
   ]
  },
  {
   "cell_type": "code",
   "execution_count": 28,
   "metadata": {},
   "outputs": [],
   "source": [
    "s=pd.Series([\"IIB\",\"IIA\",\"I\",\"VIIB\"],dtype=\"category\")"
   ]
  },
  {
   "cell_type": "code",
   "execution_count": 29,
   "metadata": {},
   "outputs": [
    {
     "data": {
      "text/plain": [
       "0     IIB\n",
       "1     IIA\n",
       "2       I\n",
       "3    VIIB\n",
       "dtype: category\n",
       "Categories (4, object): [I, IIA, IIB, VIIB]"
      ]
     },
     "execution_count": 29,
     "metadata": {},
     "output_type": "execute_result"
    }
   ],
   "source": [
    "s   ###  conversion of string variables in to incategorical variables"
   ]
  },
  {
   "cell_type": "code",
   "execution_count": 30,
   "metadata": {},
   "outputs": [],
   "source": [
    "s=colg['Type']"
   ]
  },
  {
   "cell_type": "code",
   "execution_count": 30,
   "metadata": {},
   "outputs": [
    {
     "data": {
      "text/plain": [
       "[dtype('int64'), dtype('O')]"
      ]
     },
     "execution_count": 30,
     "metadata": {},
     "output_type": "execute_result"
    }
   ],
   "source": [
    "list(set(colg.dtypes.tolist()))   "
   ]
  },
  {
   "cell_type": "code",
   "execution_count": 31,
   "metadata": {},
   "outputs": [],
   "source": [
    "x=df.values"
   ]
  },
  {
   "cell_type": "code",
   "execution_count": 32,
   "metadata": {},
   "outputs": [
    {
     "data": {
      "text/plain": [
       "array([['IIB', 'I'],\n",
       "       ['IIA', 'VIIB']], dtype=object)"
      ]
     },
     "execution_count": 32,
     "metadata": {},
     "output_type": "execute_result"
    }
   ],
   "source": [
    "x"
   ]
  },
  {
   "cell_type": "code",
   "execution_count": 33,
   "metadata": {},
   "outputs": [],
   "source": [
    "min_max_scaler = preprocessing.MinMaxScaler()"
   ]
  },
  {
   "cell_type": "code",
   "execution_count": 34,
   "metadata": {},
   "outputs": [
    {
     "name": "stdout",
     "output_type": "stream",
     "text": [
      "<class 'pandas.core.frame.DataFrame'>\n",
      "RangeIndex: 1161 entries, 0 to 1160\n",
      "Data columns (total 17 columns):\n",
      "FICE                                         1161 non-null int64\n",
      "College_name                                 1161 non-null object\n",
      "State                                        1161 non-null object\n",
      "Type                                         1161 non-null object\n",
      "Average_salary-full_professors               1161 non-null object\n",
      "Average_salary-associate_professors          1161 non-null object\n",
      "Average_salary-assistant_professors          1161 non-null object\n",
      "Average_salary-all_ranks                     1161 non-null int64\n",
      "Average_compensation-full_professors         1161 non-null object\n",
      "Average_compensation-associate_professors    1161 non-null object\n",
      "Average_compensation-assistant_professors    1161 non-null object\n",
      "Average_compensation-all_ranks               1161 non-null int64\n",
      "Number_of_full_professors                    1161 non-null int64\n",
      "Number_of_associate_professors               1161 non-null int64\n",
      "Number_of_assistant_professors               1161 non-null int64\n",
      "Number_of_instructors                        1161 non-null int64\n",
      "Number_of_faculty-all_ranks                  1161 non-null int64\n",
      "dtypes: int64(8), object(9)\n",
      "memory usage: 154.3+ KB\n"
     ]
    }
   ],
   "source": [
    "colg.info()"
   ]
  },
  {
   "cell_type": "code",
   "execution_count": 35,
   "metadata": {},
   "outputs": [],
   "source": [
    "import pandas as pd"
   ]
  },
  {
   "cell_type": "code",
   "execution_count": 31,
   "metadata": {},
   "outputs": [
    {
     "name": "stdout",
     "output_type": "stream",
     "text": [
      "   Type\n",
      "0   IIB\n",
      "1   IIA\n",
      "2     I\n",
      "3  VIIB\n",
      "Type    object\n",
      "dtype: object\n"
     ]
    }
   ],
   "source": [
    "data={'Type':['IIB','IIA','I','VIIB']}\n",
    "df1=pd.DataFrame(data) \n",
    "print(df1)\n",
    "print(df1.dtypes)"
   ]
  },
  {
   "cell_type": "code",
   "execution_count": 32,
   "metadata": {},
   "outputs": [],
   "source": [
    "import pandas as pd"
   ]
  },
  {
   "cell_type": "code",
   "execution_count": 33,
   "metadata": {},
   "outputs": [
    {
     "data": {
      "text/html": [
       "<div>\n",
       "<style scoped>\n",
       "    .dataframe tbody tr th:only-of-type {\n",
       "        vertical-align: middle;\n",
       "    }\n",
       "\n",
       "    .dataframe tbody tr th {\n",
       "        vertical-align: top;\n",
       "    }\n",
       "\n",
       "    .dataframe thead th {\n",
       "        text-align: right;\n",
       "    }\n",
       "</style>\n",
       "<table border=\"1\" class=\"dataframe\">\n",
       "  <thead>\n",
       "    <tr style=\"text-align: right;\">\n",
       "      <th></th>\n",
       "      <th>FICE</th>\n",
       "      <th>College_name</th>\n",
       "      <th>State</th>\n",
       "      <th>Type</th>\n",
       "      <th>Average_salary-full_professors</th>\n",
       "      <th>Average_salary-associate_professors</th>\n",
       "      <th>Average_salary-assistant_professors</th>\n",
       "      <th>Average_salary-all_ranks</th>\n",
       "      <th>Average_compensation-full_professors</th>\n",
       "      <th>Average_compensation-associate_professors</th>\n",
       "      <th>Average_compensation-assistant_professors</th>\n",
       "      <th>Average_compensation-all_ranks</th>\n",
       "      <th>Number_of_full_professors</th>\n",
       "      <th>Number_of_associate_professors</th>\n",
       "      <th>Number_of_assistant_professors</th>\n",
       "      <th>Number_of_instructors</th>\n",
       "      <th>Number_of_faculty-all_ranks</th>\n",
       "    </tr>\n",
       "  </thead>\n",
       "  <tbody>\n",
       "    <tr>\n",
       "      <th>0</th>\n",
       "      <td>1061</td>\n",
       "      <td>Alaska_Pacific_University</td>\n",
       "      <td>AK</td>\n",
       "      <td>IIB</td>\n",
       "      <td>454</td>\n",
       "      <td>382</td>\n",
       "      <td>362</td>\n",
       "      <td>382</td>\n",
       "      <td>567</td>\n",
       "      <td>485</td>\n",
       "      <td>471</td>\n",
       "      <td>487</td>\n",
       "      <td>6</td>\n",
       "      <td>11</td>\n",
       "      <td>9</td>\n",
       "      <td>4</td>\n",
       "      <td>32</td>\n",
       "    </tr>\n",
       "    <tr>\n",
       "      <th>1</th>\n",
       "      <td>1063</td>\n",
       "      <td>UnivAlaska-Fairbanks</td>\n",
       "      <td>AK</td>\n",
       "      <td>I</td>\n",
       "      <td>686</td>\n",
       "      <td>560</td>\n",
       "      <td>432</td>\n",
       "      <td>508</td>\n",
       "      <td>914</td>\n",
       "      <td>753</td>\n",
       "      <td>572</td>\n",
       "      <td>677</td>\n",
       "      <td>74</td>\n",
       "      <td>125</td>\n",
       "      <td>118</td>\n",
       "      <td>40</td>\n",
       "      <td>404</td>\n",
       "    </tr>\n",
       "    <tr>\n",
       "      <th>2</th>\n",
       "      <td>1065</td>\n",
       "      <td>UnivAlaska-Southeast</td>\n",
       "      <td>AK</td>\n",
       "      <td>IIA</td>\n",
       "      <td>533</td>\n",
       "      <td>494</td>\n",
       "      <td>329</td>\n",
       "      <td>415</td>\n",
       "      <td>716</td>\n",
       "      <td>663</td>\n",
       "      <td>442</td>\n",
       "      <td>559</td>\n",
       "      <td>9</td>\n",
       "      <td>26</td>\n",
       "      <td>20</td>\n",
       "      <td>9</td>\n",
       "      <td>70</td>\n",
       "    </tr>\n",
       "    <tr>\n",
       "      <th>3</th>\n",
       "      <td>11462</td>\n",
       "      <td>UnivAlaska-Anchorage</td>\n",
       "      <td>AK</td>\n",
       "      <td>IIA</td>\n",
       "      <td>612</td>\n",
       "      <td>507</td>\n",
       "      <td>414</td>\n",
       "      <td>498</td>\n",
       "      <td>825</td>\n",
       "      <td>681</td>\n",
       "      <td>557</td>\n",
       "      <td>670</td>\n",
       "      <td>115</td>\n",
       "      <td>124</td>\n",
       "      <td>101</td>\n",
       "      <td>21</td>\n",
       "      <td>392</td>\n",
       "    </tr>\n",
       "    <tr>\n",
       "      <th>4</th>\n",
       "      <td>1002</td>\n",
       "      <td>Alabama_Agri_and_Mech_Univ</td>\n",
       "      <td>AL</td>\n",
       "      <td>IIA</td>\n",
       "      <td>442</td>\n",
       "      <td>369</td>\n",
       "      <td>310</td>\n",
       "      <td>350</td>\n",
       "      <td>530</td>\n",
       "      <td>444</td>\n",
       "      <td>376</td>\n",
       "      <td>423</td>\n",
       "      <td>59</td>\n",
       "      <td>77</td>\n",
       "      <td>102</td>\n",
       "      <td>24</td>\n",
       "      <td>262</td>\n",
       "    </tr>\n",
       "  </tbody>\n",
       "</table>\n",
       "</div>"
      ],
      "text/plain": [
       "    FICE                College_name State Type  \\\n",
       "0   1061   Alaska_Pacific_University    AK  IIB   \n",
       "1   1063        UnivAlaska-Fairbanks    AK    I   \n",
       "2   1065        UnivAlaska-Southeast    AK  IIA   \n",
       "3  11462        UnivAlaska-Anchorage    AK  IIA   \n",
       "4   1002  Alabama_Agri_and_Mech_Univ    AL  IIA   \n",
       "\n",
       "  Average_salary-full_professors Average_salary-associate_professors  \\\n",
       "0                            454                                 382   \n",
       "1                            686                                 560   \n",
       "2                            533                                 494   \n",
       "3                            612                                 507   \n",
       "4                            442                                 369   \n",
       "\n",
       "  Average_salary-assistant_professors  Average_salary-all_ranks  \\\n",
       "0                                 362                       382   \n",
       "1                                 432                       508   \n",
       "2                                 329                       415   \n",
       "3                                 414                       498   \n",
       "4                                 310                       350   \n",
       "\n",
       "  Average_compensation-full_professors  \\\n",
       "0                                  567   \n",
       "1                                  914   \n",
       "2                                  716   \n",
       "3                                  825   \n",
       "4                                  530   \n",
       "\n",
       "  Average_compensation-associate_professors  \\\n",
       "0                                       485   \n",
       "1                                       753   \n",
       "2                                       663   \n",
       "3                                       681   \n",
       "4                                       444   \n",
       "\n",
       "  Average_compensation-assistant_professors  Average_compensation-all_ranks  \\\n",
       "0                                       471                             487   \n",
       "1                                       572                             677   \n",
       "2                                       442                             559   \n",
       "3                                       557                             670   \n",
       "4                                       376                             423   \n",
       "\n",
       "   Number_of_full_professors  Number_of_associate_professors  \\\n",
       "0                          6                              11   \n",
       "1                         74                             125   \n",
       "2                          9                              26   \n",
       "3                        115                             124   \n",
       "4                         59                              77   \n",
       "\n",
       "   Number_of_assistant_professors  Number_of_instructors  \\\n",
       "0                               9                      4   \n",
       "1                             118                     40   \n",
       "2                              20                      9   \n",
       "3                             101                     21   \n",
       "4                             102                     24   \n",
       "\n",
       "   Number_of_faculty-all_ranks  \n",
       "0                           32  \n",
       "1                          404  \n",
       "2                           70  \n",
       "3                          392  \n",
       "4                          262  "
      ]
     },
     "execution_count": 33,
     "metadata": {},
     "output_type": "execute_result"
    }
   ],
   "source": [
    "colg.head()"
   ]
  },
  {
   "cell_type": "code",
   "execution_count": null,
   "metadata": {},
   "outputs": [],
   "source": [
    "### feature selection methods"
   ]
  },
  {
   "cell_type": "code",
   "execution_count": 34,
   "metadata": {},
   "outputs": [],
   "source": [
    "array = colg.values\n",
    "X = array[:,0:8]\n",
    "Y = array[:,8]"
   ]
  },
  {
   "cell_type": "code",
   "execution_count": 35,
   "metadata": {},
   "outputs": [],
   "source": [
    "from sklearn.feature_selection import SelectKBest\n",
    "from sklearn.feature_selection import chi2"
   ]
  },
  {
   "cell_type": "code",
   "execution_count": 36,
   "metadata": {},
   "outputs": [],
   "source": [
    "from sklearn.preprocessing import OneHotEncoder"
   ]
  },
  {
   "cell_type": "code",
   "execution_count": 37,
   "metadata": {},
   "outputs": [],
   "source": [
    "onehotencoder = OneHotEncoder(categorical_features = [4])"
   ]
  },
  {
   "cell_type": "code",
   "execution_count": 38,
   "metadata": {},
   "outputs": [
    {
     "data": {
      "text/plain": [
       "IIB     53.143842\n",
       "IIA     31.266150\n",
       "I       15.503876\n",
       "VIIB     0.086133\n",
       "Name: Type, dtype: float64"
      ]
     },
     "execution_count": 38,
     "metadata": {},
     "output_type": "execute_result"
    }
   ],
   "source": [
    "colg['Type'].value_counts(normalize=1)*100"
   ]
  },
  {
   "cell_type": "code",
   "execution_count": 39,
   "metadata": {},
   "outputs": [
    {
     "data": {
      "text/html": [
       "<div>\n",
       "<style scoped>\n",
       "    .dataframe tbody tr th:only-of-type {\n",
       "        vertical-align: middle;\n",
       "    }\n",
       "\n",
       "    .dataframe tbody tr th {\n",
       "        vertical-align: top;\n",
       "    }\n",
       "\n",
       "    .dataframe thead th {\n",
       "        text-align: right;\n",
       "    }\n",
       "</style>\n",
       "<table border=\"1\" class=\"dataframe\">\n",
       "  <thead>\n",
       "    <tr style=\"text-align: right;\">\n",
       "      <th></th>\n",
       "      <th>FICE</th>\n",
       "      <th>College_name</th>\n",
       "      <th>State</th>\n",
       "      <th>Type</th>\n",
       "      <th>Average_salary-full_professors</th>\n",
       "      <th>Average_salary-associate_professors</th>\n",
       "      <th>Average_salary-assistant_professors</th>\n",
       "      <th>Average_salary-all_ranks</th>\n",
       "      <th>Average_compensation-full_professors</th>\n",
       "      <th>Average_compensation-associate_professors</th>\n",
       "      <th>Average_compensation-assistant_professors</th>\n",
       "      <th>Average_compensation-all_ranks</th>\n",
       "      <th>Number_of_full_professors</th>\n",
       "      <th>Number_of_associate_professors</th>\n",
       "      <th>Number_of_assistant_professors</th>\n",
       "      <th>Number_of_instructors</th>\n",
       "      <th>Number_of_faculty-all_ranks</th>\n",
       "    </tr>\n",
       "  </thead>\n",
       "  <tbody>\n",
       "    <tr>\n",
       "      <th>0</th>\n",
       "      <td>1061</td>\n",
       "      <td>Alaska_Pacific_University</td>\n",
       "      <td>AK</td>\n",
       "      <td>IIB</td>\n",
       "      <td>454</td>\n",
       "      <td>382</td>\n",
       "      <td>362</td>\n",
       "      <td>382</td>\n",
       "      <td>567</td>\n",
       "      <td>485</td>\n",
       "      <td>471</td>\n",
       "      <td>487</td>\n",
       "      <td>6</td>\n",
       "      <td>11</td>\n",
       "      <td>9</td>\n",
       "      <td>4</td>\n",
       "      <td>32</td>\n",
       "    </tr>\n",
       "    <tr>\n",
       "      <th>1</th>\n",
       "      <td>1063</td>\n",
       "      <td>UnivAlaska-Fairbanks</td>\n",
       "      <td>AK</td>\n",
       "      <td>I</td>\n",
       "      <td>686</td>\n",
       "      <td>560</td>\n",
       "      <td>432</td>\n",
       "      <td>508</td>\n",
       "      <td>914</td>\n",
       "      <td>753</td>\n",
       "      <td>572</td>\n",
       "      <td>677</td>\n",
       "      <td>74</td>\n",
       "      <td>125</td>\n",
       "      <td>118</td>\n",
       "      <td>40</td>\n",
       "      <td>404</td>\n",
       "    </tr>\n",
       "    <tr>\n",
       "      <th>2</th>\n",
       "      <td>1065</td>\n",
       "      <td>UnivAlaska-Southeast</td>\n",
       "      <td>AK</td>\n",
       "      <td>IIA</td>\n",
       "      <td>533</td>\n",
       "      <td>494</td>\n",
       "      <td>329</td>\n",
       "      <td>415</td>\n",
       "      <td>716</td>\n",
       "      <td>663</td>\n",
       "      <td>442</td>\n",
       "      <td>559</td>\n",
       "      <td>9</td>\n",
       "      <td>26</td>\n",
       "      <td>20</td>\n",
       "      <td>9</td>\n",
       "      <td>70</td>\n",
       "    </tr>\n",
       "    <tr>\n",
       "      <th>3</th>\n",
       "      <td>11462</td>\n",
       "      <td>UnivAlaska-Anchorage</td>\n",
       "      <td>AK</td>\n",
       "      <td>IIA</td>\n",
       "      <td>612</td>\n",
       "      <td>507</td>\n",
       "      <td>414</td>\n",
       "      <td>498</td>\n",
       "      <td>825</td>\n",
       "      <td>681</td>\n",
       "      <td>557</td>\n",
       "      <td>670</td>\n",
       "      <td>115</td>\n",
       "      <td>124</td>\n",
       "      <td>101</td>\n",
       "      <td>21</td>\n",
       "      <td>392</td>\n",
       "    </tr>\n",
       "    <tr>\n",
       "      <th>4</th>\n",
       "      <td>1002</td>\n",
       "      <td>Alabama_Agri_and_Mech_Univ</td>\n",
       "      <td>AL</td>\n",
       "      <td>IIA</td>\n",
       "      <td>442</td>\n",
       "      <td>369</td>\n",
       "      <td>310</td>\n",
       "      <td>350</td>\n",
       "      <td>530</td>\n",
       "      <td>444</td>\n",
       "      <td>376</td>\n",
       "      <td>423</td>\n",
       "      <td>59</td>\n",
       "      <td>77</td>\n",
       "      <td>102</td>\n",
       "      <td>24</td>\n",
       "      <td>262</td>\n",
       "    </tr>\n",
       "  </tbody>\n",
       "</table>\n",
       "</div>"
      ],
      "text/plain": [
       "    FICE                College_name State Type  \\\n",
       "0   1061   Alaska_Pacific_University    AK  IIB   \n",
       "1   1063        UnivAlaska-Fairbanks    AK    I   \n",
       "2   1065        UnivAlaska-Southeast    AK  IIA   \n",
       "3  11462        UnivAlaska-Anchorage    AK  IIA   \n",
       "4   1002  Alabama_Agri_and_Mech_Univ    AL  IIA   \n",
       "\n",
       "  Average_salary-full_professors Average_salary-associate_professors  \\\n",
       "0                            454                                 382   \n",
       "1                            686                                 560   \n",
       "2                            533                                 494   \n",
       "3                            612                                 507   \n",
       "4                            442                                 369   \n",
       "\n",
       "  Average_salary-assistant_professors  Average_salary-all_ranks  \\\n",
       "0                                 362                       382   \n",
       "1                                 432                       508   \n",
       "2                                 329                       415   \n",
       "3                                 414                       498   \n",
       "4                                 310                       350   \n",
       "\n",
       "  Average_compensation-full_professors  \\\n",
       "0                                  567   \n",
       "1                                  914   \n",
       "2                                  716   \n",
       "3                                  825   \n",
       "4                                  530   \n",
       "\n",
       "  Average_compensation-associate_professors  \\\n",
       "0                                       485   \n",
       "1                                       753   \n",
       "2                                       663   \n",
       "3                                       681   \n",
       "4                                       444   \n",
       "\n",
       "  Average_compensation-assistant_professors  Average_compensation-all_ranks  \\\n",
       "0                                       471                             487   \n",
       "1                                       572                             677   \n",
       "2                                       442                             559   \n",
       "3                                       557                             670   \n",
       "4                                       376                             423   \n",
       "\n",
       "   Number_of_full_professors  Number_of_associate_professors  \\\n",
       "0                          6                              11   \n",
       "1                         74                             125   \n",
       "2                          9                              26   \n",
       "3                        115                             124   \n",
       "4                         59                              77   \n",
       "\n",
       "   Number_of_assistant_professors  Number_of_instructors  \\\n",
       "0                               9                      4   \n",
       "1                             118                     40   \n",
       "2                              20                      9   \n",
       "3                             101                     21   \n",
       "4                             102                     24   \n",
       "\n",
       "   Number_of_faculty-all_ranks  \n",
       "0                           32  \n",
       "1                          404  \n",
       "2                           70  \n",
       "3                          392  \n",
       "4                          262  "
      ]
     },
     "execution_count": 39,
     "metadata": {},
     "output_type": "execute_result"
    }
   ],
   "source": [
    "colg.head()"
   ]
  },
  {
   "cell_type": "code",
   "execution_count": 40,
   "metadata": {},
   "outputs": [
    {
     "data": {
      "text/plain": [
       "array([2, 0, 1, 3], dtype=int64)"
      ]
     },
     "execution_count": 40,
     "metadata": {},
     "output_type": "execute_result"
    }
   ],
   "source": [
    "### label encoder\n",
    "from sklearn import preprocessing \n",
    "  \n",
    "# label_encoder object knows how to understand word labels. \n",
    "label_encoder = preprocessing.LabelEncoder() \n",
    "  \n",
    "# Encode labels in column 'species'. \n",
    "colg['Type']= label_encoder.fit_transform(colg['Type']) \n",
    "  \n",
    "colg['Type'].unique()"
   ]
  },
  {
   "cell_type": "code",
   "execution_count": 41,
   "metadata": {},
   "outputs": [
    {
     "data": {
      "text/plain": [
       "array([   5,  864,  865, ..., 1089, 1107, 1003], dtype=int64)"
      ]
     },
     "execution_count": 41,
     "metadata": {},
     "output_type": "execute_result"
    }
   ],
   "source": [
    "### label encoder\n",
    "from sklearn import preprocessing \n",
    "  \n",
    "# label_encoder object knows how to understand word labels. \n",
    "label_encoder = preprocessing.LabelEncoder() \n",
    "  \n",
    "# Encode labels in column 'species'. \n",
    "colg['College_name']= label_encoder.fit_transform(colg['College_name']) \n",
    "  \n",
    "colg['College_name'].unique()"
   ]
  },
  {
   "cell_type": "code",
   "execution_count": 42,
   "metadata": {},
   "outputs": [
    {
     "data": {
      "text/plain": [
       "array([ 0,  1,  2,  3,  4,  5,  6,  7,  8,  9, 10, 11, 12, 13, 14, 15, 16,\n",
       "       17, 18, 19, 20, 21, 22, 23, 24, 25, 26, 27, 28, 29, 30, 31, 32, 33,\n",
       "       34, 35, 36, 37, 38, 39, 40, 41, 42, 43, 44, 45, 46, 47, 48, 49, 50,\n",
       "       51], dtype=int64)"
      ]
     },
     "execution_count": 42,
     "metadata": {},
     "output_type": "execute_result"
    }
   ],
   "source": [
    "### label encoder\n",
    "from sklearn import preprocessing \n",
    "  \n",
    "# label_encoder object knows how to understand word labels. \n",
    "label_encoder = preprocessing.LabelEncoder() \n",
    "  \n",
    "# Encode labels in column 'species'. \n",
    "colg['State']= label_encoder.fit_transform(colg['State']) \n",
    "  \n",
    "colg['State'].unique()"
   ]
  },
  {
   "cell_type": "code",
   "execution_count": 43,
   "metadata": {},
   "outputs": [],
   "source": [
    "#### one hot encoder\n",
    "# importing one hot encoder from sklearn \n",
    "from sklearn.preprocessing import OneHotEncoder \n",
    "  \n",
    "# creating one hot encoder object by default \n",
    "# entire data passed is one hot encoded \n",
    "onehotencoder = OneHotEncoder() \n",
    "  \n",
    "data = onehotencoder.fit_transform(df).toarray() "
   ]
  },
  {
   "cell_type": "code",
   "execution_count": 44,
   "metadata": {},
   "outputs": [
    {
     "data": {
      "text/plain": [
       "array([[0., 1., 1., 0.],\n",
       "       [1., 0., 0., 1.]])"
      ]
     },
     "execution_count": 44,
     "metadata": {},
     "output_type": "execute_result"
    }
   ],
   "source": [
    "data"
   ]
  },
  {
   "cell_type": "code",
   "execution_count": 45,
   "metadata": {},
   "outputs": [],
   "source": [
    "#### one hot encoder\n",
    "# importing one hot encoder from sklearn \n",
    "from sklearn.preprocessing import OneHotEncoder \n",
    "  \n",
    "# creating one hot encoder object by default \n",
    "# entire data passed is one hot encoded \n",
    "onehotencoder = OneHotEncoder() \n",
    "  \n",
    "data = onehotencoder.fit_transform(df).toarray() "
   ]
  },
  {
   "cell_type": "code",
   "execution_count": 46,
   "metadata": {},
   "outputs": [
    {
     "data": {
      "text/plain": [
       "array([[0., 1., 1., 0.],\n",
       "       [1., 0., 0., 1.]])"
      ]
     },
     "execution_count": 46,
     "metadata": {},
     "output_type": "execute_result"
    }
   ],
   "source": [
    "data"
   ]
  },
  {
   "cell_type": "code",
   "execution_count": 47,
   "metadata": {},
   "outputs": [
    {
     "data": {
      "text/plain": [
       "Index(['col1', 'col2'], dtype='object')"
      ]
     },
     "execution_count": 47,
     "metadata": {},
     "output_type": "execute_result"
    }
   ],
   "source": [
    "df.columns"
   ]
  },
  {
   "cell_type": "code",
   "execution_count": null,
   "metadata": {},
   "outputs": [],
   "source": [
    "### feature selection methods"
   ]
  },
  {
   "cell_type": "code",
   "execution_count": 48,
   "metadata": {},
   "outputs": [
    {
     "data": {
      "text/html": [
       "<div>\n",
       "<style scoped>\n",
       "    .dataframe tbody tr th:only-of-type {\n",
       "        vertical-align: middle;\n",
       "    }\n",
       "\n",
       "    .dataframe tbody tr th {\n",
       "        vertical-align: top;\n",
       "    }\n",
       "\n",
       "    .dataframe thead th {\n",
       "        text-align: right;\n",
       "    }\n",
       "</style>\n",
       "<table border=\"1\" class=\"dataframe\">\n",
       "  <thead>\n",
       "    <tr style=\"text-align: right;\">\n",
       "      <th></th>\n",
       "      <th>FICE</th>\n",
       "      <th>College_name</th>\n",
       "      <th>State</th>\n",
       "      <th>Type</th>\n",
       "      <th>Average_salary-full_professors</th>\n",
       "      <th>Average_salary-associate_professors</th>\n",
       "      <th>Average_salary-assistant_professors</th>\n",
       "      <th>Average_salary-all_ranks</th>\n",
       "      <th>Average_compensation-full_professors</th>\n",
       "      <th>Average_compensation-associate_professors</th>\n",
       "      <th>Average_compensation-assistant_professors</th>\n",
       "      <th>Average_compensation-all_ranks</th>\n",
       "      <th>Number_of_full_professors</th>\n",
       "      <th>Number_of_associate_professors</th>\n",
       "      <th>Number_of_assistant_professors</th>\n",
       "      <th>Number_of_instructors</th>\n",
       "      <th>Number_of_faculty-all_ranks</th>\n",
       "    </tr>\n",
       "  </thead>\n",
       "  <tbody>\n",
       "    <tr>\n",
       "      <th>0</th>\n",
       "      <td>1061</td>\n",
       "      <td>5</td>\n",
       "      <td>0</td>\n",
       "      <td>2</td>\n",
       "      <td>454</td>\n",
       "      <td>382</td>\n",
       "      <td>362</td>\n",
       "      <td>382</td>\n",
       "      <td>567</td>\n",
       "      <td>485</td>\n",
       "      <td>471</td>\n",
       "      <td>487</td>\n",
       "      <td>6</td>\n",
       "      <td>11</td>\n",
       "      <td>9</td>\n",
       "      <td>4</td>\n",
       "      <td>32</td>\n",
       "    </tr>\n",
       "    <tr>\n",
       "      <th>1</th>\n",
       "      <td>1063</td>\n",
       "      <td>864</td>\n",
       "      <td>0</td>\n",
       "      <td>0</td>\n",
       "      <td>686</td>\n",
       "      <td>560</td>\n",
       "      <td>432</td>\n",
       "      <td>508</td>\n",
       "      <td>914</td>\n",
       "      <td>753</td>\n",
       "      <td>572</td>\n",
       "      <td>677</td>\n",
       "      <td>74</td>\n",
       "      <td>125</td>\n",
       "      <td>118</td>\n",
       "      <td>40</td>\n",
       "      <td>404</td>\n",
       "    </tr>\n",
       "    <tr>\n",
       "      <th>2</th>\n",
       "      <td>1065</td>\n",
       "      <td>865</td>\n",
       "      <td>0</td>\n",
       "      <td>1</td>\n",
       "      <td>533</td>\n",
       "      <td>494</td>\n",
       "      <td>329</td>\n",
       "      <td>415</td>\n",
       "      <td>716</td>\n",
       "      <td>663</td>\n",
       "      <td>442</td>\n",
       "      <td>559</td>\n",
       "      <td>9</td>\n",
       "      <td>26</td>\n",
       "      <td>20</td>\n",
       "      <td>9</td>\n",
       "      <td>70</td>\n",
       "    </tr>\n",
       "    <tr>\n",
       "      <th>3</th>\n",
       "      <td>11462</td>\n",
       "      <td>863</td>\n",
       "      <td>0</td>\n",
       "      <td>1</td>\n",
       "      <td>612</td>\n",
       "      <td>507</td>\n",
       "      <td>414</td>\n",
       "      <td>498</td>\n",
       "      <td>825</td>\n",
       "      <td>681</td>\n",
       "      <td>557</td>\n",
       "      <td>670</td>\n",
       "      <td>115</td>\n",
       "      <td>124</td>\n",
       "      <td>101</td>\n",
       "      <td>21</td>\n",
       "      <td>392</td>\n",
       "    </tr>\n",
       "    <tr>\n",
       "      <th>4</th>\n",
       "      <td>1002</td>\n",
       "      <td>4</td>\n",
       "      <td>1</td>\n",
       "      <td>1</td>\n",
       "      <td>442</td>\n",
       "      <td>369</td>\n",
       "      <td>310</td>\n",
       "      <td>350</td>\n",
       "      <td>530</td>\n",
       "      <td>444</td>\n",
       "      <td>376</td>\n",
       "      <td>423</td>\n",
       "      <td>59</td>\n",
       "      <td>77</td>\n",
       "      <td>102</td>\n",
       "      <td>24</td>\n",
       "      <td>262</td>\n",
       "    </tr>\n",
       "  </tbody>\n",
       "</table>\n",
       "</div>"
      ],
      "text/plain": [
       "    FICE  College_name  State  Type Average_salary-full_professors  \\\n",
       "0   1061             5      0     2                            454   \n",
       "1   1063           864      0     0                            686   \n",
       "2   1065           865      0     1                            533   \n",
       "3  11462           863      0     1                            612   \n",
       "4   1002             4      1     1                            442   \n",
       "\n",
       "  Average_salary-associate_professors Average_salary-assistant_professors  \\\n",
       "0                                 382                                 362   \n",
       "1                                 560                                 432   \n",
       "2                                 494                                 329   \n",
       "3                                 507                                 414   \n",
       "4                                 369                                 310   \n",
       "\n",
       "   Average_salary-all_ranks Average_compensation-full_professors  \\\n",
       "0                       382                                  567   \n",
       "1                       508                                  914   \n",
       "2                       415                                  716   \n",
       "3                       498                                  825   \n",
       "4                       350                                  530   \n",
       "\n",
       "  Average_compensation-associate_professors  \\\n",
       "0                                       485   \n",
       "1                                       753   \n",
       "2                                       663   \n",
       "3                                       681   \n",
       "4                                       444   \n",
       "\n",
       "  Average_compensation-assistant_professors  Average_compensation-all_ranks  \\\n",
       "0                                       471                             487   \n",
       "1                                       572                             677   \n",
       "2                                       442                             559   \n",
       "3                                       557                             670   \n",
       "4                                       376                             423   \n",
       "\n",
       "   Number_of_full_professors  Number_of_associate_professors  \\\n",
       "0                          6                              11   \n",
       "1                         74                             125   \n",
       "2                          9                              26   \n",
       "3                        115                             124   \n",
       "4                         59                              77   \n",
       "\n",
       "   Number_of_assistant_professors  Number_of_instructors  \\\n",
       "0                               9                      4   \n",
       "1                             118                     40   \n",
       "2                              20                      9   \n",
       "3                             101                     21   \n",
       "4                             102                     24   \n",
       "\n",
       "   Number_of_faculty-all_ranks  \n",
       "0                           32  \n",
       "1                          404  \n",
       "2                           70  \n",
       "3                          392  \n",
       "4                          262  "
      ]
     },
     "execution_count": 48,
     "metadata": {},
     "output_type": "execute_result"
    }
   ],
   "source": [
    "colg.head()"
   ]
  },
  {
   "cell_type": "code",
   "execution_count": 49,
   "metadata": {},
   "outputs": [],
   "source": [
    "vv1=colg.head()"
   ]
  },
  {
   "cell_type": "code",
   "execution_count": 50,
   "metadata": {},
   "outputs": [
    {
     "data": {
      "text/html": [
       "<div>\n",
       "<style scoped>\n",
       "    .dataframe tbody tr th:only-of-type {\n",
       "        vertical-align: middle;\n",
       "    }\n",
       "\n",
       "    .dataframe tbody tr th {\n",
       "        vertical-align: top;\n",
       "    }\n",
       "\n",
       "    .dataframe thead th {\n",
       "        text-align: right;\n",
       "    }\n",
       "</style>\n",
       "<table border=\"1\" class=\"dataframe\">\n",
       "  <thead>\n",
       "    <tr style=\"text-align: right;\">\n",
       "      <th></th>\n",
       "      <th>FICE</th>\n",
       "      <th>College_name</th>\n",
       "      <th>State</th>\n",
       "      <th>Type</th>\n",
       "      <th>Average_salary-full_professors</th>\n",
       "      <th>Average_salary-associate_professors</th>\n",
       "      <th>Average_salary-assistant_professors</th>\n",
       "      <th>Average_salary-all_ranks</th>\n",
       "      <th>Average_compensation-full_professors</th>\n",
       "      <th>Average_compensation-associate_professors</th>\n",
       "      <th>Average_compensation-assistant_professors</th>\n",
       "      <th>Average_compensation-all_ranks</th>\n",
       "      <th>Number_of_full_professors</th>\n",
       "      <th>Number_of_associate_professors</th>\n",
       "      <th>Number_of_assistant_professors</th>\n",
       "      <th>Number_of_instructors</th>\n",
       "      <th>Number_of_faculty-all_ranks</th>\n",
       "    </tr>\n",
       "  </thead>\n",
       "  <tbody>\n",
       "    <tr>\n",
       "      <th>0</th>\n",
       "      <td>1061</td>\n",
       "      <td>5</td>\n",
       "      <td>0</td>\n",
       "      <td>2</td>\n",
       "      <td>454</td>\n",
       "      <td>382</td>\n",
       "      <td>362</td>\n",
       "      <td>382</td>\n",
       "      <td>567</td>\n",
       "      <td>485</td>\n",
       "      <td>471</td>\n",
       "      <td>487</td>\n",
       "      <td>6</td>\n",
       "      <td>11</td>\n",
       "      <td>9</td>\n",
       "      <td>4</td>\n",
       "      <td>32</td>\n",
       "    </tr>\n",
       "    <tr>\n",
       "      <th>1</th>\n",
       "      <td>1063</td>\n",
       "      <td>864</td>\n",
       "      <td>0</td>\n",
       "      <td>0</td>\n",
       "      <td>686</td>\n",
       "      <td>560</td>\n",
       "      <td>432</td>\n",
       "      <td>508</td>\n",
       "      <td>914</td>\n",
       "      <td>753</td>\n",
       "      <td>572</td>\n",
       "      <td>677</td>\n",
       "      <td>74</td>\n",
       "      <td>125</td>\n",
       "      <td>118</td>\n",
       "      <td>40</td>\n",
       "      <td>404</td>\n",
       "    </tr>\n",
       "    <tr>\n",
       "      <th>2</th>\n",
       "      <td>1065</td>\n",
       "      <td>865</td>\n",
       "      <td>0</td>\n",
       "      <td>1</td>\n",
       "      <td>533</td>\n",
       "      <td>494</td>\n",
       "      <td>329</td>\n",
       "      <td>415</td>\n",
       "      <td>716</td>\n",
       "      <td>663</td>\n",
       "      <td>442</td>\n",
       "      <td>559</td>\n",
       "      <td>9</td>\n",
       "      <td>26</td>\n",
       "      <td>20</td>\n",
       "      <td>9</td>\n",
       "      <td>70</td>\n",
       "    </tr>\n",
       "    <tr>\n",
       "      <th>3</th>\n",
       "      <td>11462</td>\n",
       "      <td>863</td>\n",
       "      <td>0</td>\n",
       "      <td>1</td>\n",
       "      <td>612</td>\n",
       "      <td>507</td>\n",
       "      <td>414</td>\n",
       "      <td>498</td>\n",
       "      <td>825</td>\n",
       "      <td>681</td>\n",
       "      <td>557</td>\n",
       "      <td>670</td>\n",
       "      <td>115</td>\n",
       "      <td>124</td>\n",
       "      <td>101</td>\n",
       "      <td>21</td>\n",
       "      <td>392</td>\n",
       "    </tr>\n",
       "    <tr>\n",
       "      <th>4</th>\n",
       "      <td>1002</td>\n",
       "      <td>4</td>\n",
       "      <td>1</td>\n",
       "      <td>1</td>\n",
       "      <td>442</td>\n",
       "      <td>369</td>\n",
       "      <td>310</td>\n",
       "      <td>350</td>\n",
       "      <td>530</td>\n",
       "      <td>444</td>\n",
       "      <td>376</td>\n",
       "      <td>423</td>\n",
       "      <td>59</td>\n",
       "      <td>77</td>\n",
       "      <td>102</td>\n",
       "      <td>24</td>\n",
       "      <td>262</td>\n",
       "    </tr>\n",
       "  </tbody>\n",
       "</table>\n",
       "</div>"
      ],
      "text/plain": [
       "    FICE  College_name  State  Type Average_salary-full_professors  \\\n",
       "0   1061             5      0     2                            454   \n",
       "1   1063           864      0     0                            686   \n",
       "2   1065           865      0     1                            533   \n",
       "3  11462           863      0     1                            612   \n",
       "4   1002             4      1     1                            442   \n",
       "\n",
       "  Average_salary-associate_professors Average_salary-assistant_professors  \\\n",
       "0                                 382                                 362   \n",
       "1                                 560                                 432   \n",
       "2                                 494                                 329   \n",
       "3                                 507                                 414   \n",
       "4                                 369                                 310   \n",
       "\n",
       "   Average_salary-all_ranks Average_compensation-full_professors  \\\n",
       "0                       382                                  567   \n",
       "1                       508                                  914   \n",
       "2                       415                                  716   \n",
       "3                       498                                  825   \n",
       "4                       350                                  530   \n",
       "\n",
       "  Average_compensation-associate_professors  \\\n",
       "0                                       485   \n",
       "1                                       753   \n",
       "2                                       663   \n",
       "3                                       681   \n",
       "4                                       444   \n",
       "\n",
       "  Average_compensation-assistant_professors  Average_compensation-all_ranks  \\\n",
       "0                                       471                             487   \n",
       "1                                       572                             677   \n",
       "2                                       442                             559   \n",
       "3                                       557                             670   \n",
       "4                                       376                             423   \n",
       "\n",
       "   Number_of_full_professors  Number_of_associate_professors  \\\n",
       "0                          6                              11   \n",
       "1                         74                             125   \n",
       "2                          9                              26   \n",
       "3                        115                             124   \n",
       "4                         59                              77   \n",
       "\n",
       "   Number_of_assistant_professors  Number_of_instructors  \\\n",
       "0                               9                      4   \n",
       "1                             118                     40   \n",
       "2                              20                      9   \n",
       "3                             101                     21   \n",
       "4                             102                     24   \n",
       "\n",
       "   Number_of_faculty-all_ranks  \n",
       "0                           32  \n",
       "1                          404  \n",
       "2                           70  \n",
       "3                          392  \n",
       "4                          262  "
      ]
     },
     "execution_count": 50,
     "metadata": {},
     "output_type": "execute_result"
    }
   ],
   "source": [
    "vv1.head()"
   ]
  },
  {
   "cell_type": "code",
   "execution_count": 52,
   "metadata": {},
   "outputs": [
    {
     "data": {
      "text/plain": [
       "array([   5,  864,  865, ..., 1089, 1107, 1003], dtype=int64)"
      ]
     },
     "execution_count": 52,
     "metadata": {},
     "output_type": "execute_result"
    }
   ],
   "source": [
    "### label encoder\n",
    "from sklearn import preprocessing \n",
    "  \n",
    "# label_encoder object knows how to understand word labels. \n",
    "label_encoder = preprocessing.LabelEncoder() \n",
    "  \n",
    "# Encode labels in column 'species'. \n",
    "vv1['College_name']= label_encoder.fit_transform(vv1['College_name']) \n",
    "  \n",
    "vv1['College_name'].unique()"
   ]
  },
  {
   "cell_type": "code",
   "execution_count": 62,
   "metadata": {},
   "outputs": [
    {
     "data": {
      "text/plain": [
       "array([ 0,  1,  2,  3,  4,  5,  6,  7,  8,  9, 10, 11, 12, 13, 14, 15, 16,\n",
       "       17, 18, 19, 20, 21, 22, 23, 24, 25, 26, 27, 28, 29, 30, 31, 32, 33,\n",
       "       34, 35, 36, 37, 38, 39, 40, 41, 42, 43, 44, 45, 46, 47, 48, 49, 50,\n",
       "       51], dtype=int64)"
      ]
     },
     "execution_count": 62,
     "metadata": {},
     "output_type": "execute_result"
    }
   ],
   "source": [
    "### label encoder\n",
    "from sklearn import preprocessing \n",
    "  \n",
    "# label_encoder object knows how to understand word labels. \n",
    "label_encoder = preprocessing.LabelEncoder() \n",
    "  \n",
    "# Encode labels in column 'species'. \n",
    "vv1['State']= label_encoder.fit_transform(vv1['State']) \n",
    "  \n",
    "vv1['State'].unique()"
   ]
  },
  {
   "cell_type": "code",
   "execution_count": 53,
   "metadata": {},
   "outputs": [
    {
     "data": {
      "text/plain": [
       "array([2, 0, 1, 3], dtype=int64)"
      ]
     },
     "execution_count": 53,
     "metadata": {},
     "output_type": "execute_result"
    }
   ],
   "source": [
    "### label encoder\n",
    "from sklearn import preprocessing \n",
    "  \n",
    "# label_encoder object knows how to understand word labels. \n",
    "label_encoder = preprocessing.LabelEncoder() \n",
    "  \n",
    "# Encode labels in column 'species'. \n",
    "vv1['Type']= label_encoder.fit_transform(vv1['Type']) \n",
    "  \n",
    "vv1['Type'].unique()"
   ]
  },
  {
   "cell_type": "code",
   "execution_count": 54,
   "metadata": {},
   "outputs": [
    {
     "data": {
      "text/html": [
       "<div>\n",
       "<style scoped>\n",
       "    .dataframe tbody tr th:only-of-type {\n",
       "        vertical-align: middle;\n",
       "    }\n",
       "\n",
       "    .dataframe tbody tr th {\n",
       "        vertical-align: top;\n",
       "    }\n",
       "\n",
       "    .dataframe thead th {\n",
       "        text-align: right;\n",
       "    }\n",
       "</style>\n",
       "<table border=\"1\" class=\"dataframe\">\n",
       "  <thead>\n",
       "    <tr style=\"text-align: right;\">\n",
       "      <th></th>\n",
       "      <th>FICE</th>\n",
       "      <th>College_name</th>\n",
       "      <th>State</th>\n",
       "      <th>Type</th>\n",
       "      <th>Average_salary-full_professors</th>\n",
       "      <th>Average_salary-associate_professors</th>\n",
       "      <th>Average_salary-assistant_professors</th>\n",
       "      <th>Average_salary-all_ranks</th>\n",
       "      <th>Average_compensation-full_professors</th>\n",
       "      <th>Average_compensation-associate_professors</th>\n",
       "      <th>Average_compensation-assistant_professors</th>\n",
       "      <th>Average_compensation-all_ranks</th>\n",
       "      <th>Number_of_full_professors</th>\n",
       "      <th>Number_of_associate_professors</th>\n",
       "      <th>Number_of_assistant_professors</th>\n",
       "      <th>Number_of_instructors</th>\n",
       "      <th>Number_of_faculty-all_ranks</th>\n",
       "    </tr>\n",
       "  </thead>\n",
       "  <tbody>\n",
       "    <tr>\n",
       "      <th>0</th>\n",
       "      <td>1061</td>\n",
       "      <td>5</td>\n",
       "      <td>AK</td>\n",
       "      <td>2</td>\n",
       "      <td>454</td>\n",
       "      <td>382</td>\n",
       "      <td>362</td>\n",
       "      <td>382</td>\n",
       "      <td>567</td>\n",
       "      <td>485</td>\n",
       "      <td>471</td>\n",
       "      <td>487</td>\n",
       "      <td>6</td>\n",
       "      <td>11</td>\n",
       "      <td>9</td>\n",
       "      <td>4</td>\n",
       "      <td>32</td>\n",
       "    </tr>\n",
       "    <tr>\n",
       "      <th>1</th>\n",
       "      <td>1063</td>\n",
       "      <td>864</td>\n",
       "      <td>AK</td>\n",
       "      <td>0</td>\n",
       "      <td>686</td>\n",
       "      <td>560</td>\n",
       "      <td>432</td>\n",
       "      <td>508</td>\n",
       "      <td>914</td>\n",
       "      <td>753</td>\n",
       "      <td>572</td>\n",
       "      <td>677</td>\n",
       "      <td>74</td>\n",
       "      <td>125</td>\n",
       "      <td>118</td>\n",
       "      <td>40</td>\n",
       "      <td>404</td>\n",
       "    </tr>\n",
       "    <tr>\n",
       "      <th>2</th>\n",
       "      <td>1065</td>\n",
       "      <td>865</td>\n",
       "      <td>AK</td>\n",
       "      <td>1</td>\n",
       "      <td>533</td>\n",
       "      <td>494</td>\n",
       "      <td>329</td>\n",
       "      <td>415</td>\n",
       "      <td>716</td>\n",
       "      <td>663</td>\n",
       "      <td>442</td>\n",
       "      <td>559</td>\n",
       "      <td>9</td>\n",
       "      <td>26</td>\n",
       "      <td>20</td>\n",
       "      <td>9</td>\n",
       "      <td>70</td>\n",
       "    </tr>\n",
       "    <tr>\n",
       "      <th>3</th>\n",
       "      <td>11462</td>\n",
       "      <td>863</td>\n",
       "      <td>AK</td>\n",
       "      <td>1</td>\n",
       "      <td>612</td>\n",
       "      <td>507</td>\n",
       "      <td>414</td>\n",
       "      <td>498</td>\n",
       "      <td>825</td>\n",
       "      <td>681</td>\n",
       "      <td>557</td>\n",
       "      <td>670</td>\n",
       "      <td>115</td>\n",
       "      <td>124</td>\n",
       "      <td>101</td>\n",
       "      <td>21</td>\n",
       "      <td>392</td>\n",
       "    </tr>\n",
       "    <tr>\n",
       "      <th>4</th>\n",
       "      <td>1002</td>\n",
       "      <td>4</td>\n",
       "      <td>AL</td>\n",
       "      <td>1</td>\n",
       "      <td>442</td>\n",
       "      <td>369</td>\n",
       "      <td>310</td>\n",
       "      <td>350</td>\n",
       "      <td>530</td>\n",
       "      <td>444</td>\n",
       "      <td>376</td>\n",
       "      <td>423</td>\n",
       "      <td>59</td>\n",
       "      <td>77</td>\n",
       "      <td>102</td>\n",
       "      <td>24</td>\n",
       "      <td>262</td>\n",
       "    </tr>\n",
       "  </tbody>\n",
       "</table>\n",
       "</div>"
      ],
      "text/plain": [
       "    FICE  College_name State  Type Average_salary-full_professors  \\\n",
       "0   1061             5    AK     2                            454   \n",
       "1   1063           864    AK     0                            686   \n",
       "2   1065           865    AK     1                            533   \n",
       "3  11462           863    AK     1                            612   \n",
       "4   1002             4    AL     1                            442   \n",
       "\n",
       "  Average_salary-associate_professors Average_salary-assistant_professors  \\\n",
       "0                                 382                                 362   \n",
       "1                                 560                                 432   \n",
       "2                                 494                                 329   \n",
       "3                                 507                                 414   \n",
       "4                                 369                                 310   \n",
       "\n",
       "   Average_salary-all_ranks Average_compensation-full_professors  \\\n",
       "0                       382                                  567   \n",
       "1                       508                                  914   \n",
       "2                       415                                  716   \n",
       "3                       498                                  825   \n",
       "4                       350                                  530   \n",
       "\n",
       "  Average_compensation-associate_professors  \\\n",
       "0                                       485   \n",
       "1                                       753   \n",
       "2                                       663   \n",
       "3                                       681   \n",
       "4                                       444   \n",
       "\n",
       "  Average_compensation-assistant_professors  Average_compensation-all_ranks  \\\n",
       "0                                       471                             487   \n",
       "1                                       572                             677   \n",
       "2                                       442                             559   \n",
       "3                                       557                             670   \n",
       "4                                       376                             423   \n",
       "\n",
       "   Number_of_full_professors  Number_of_associate_professors  \\\n",
       "0                          6                              11   \n",
       "1                         74                             125   \n",
       "2                          9                              26   \n",
       "3                        115                             124   \n",
       "4                         59                              77   \n",
       "\n",
       "   Number_of_assistant_professors  Number_of_instructors  \\\n",
       "0                               9                      4   \n",
       "1                             118                     40   \n",
       "2                              20                      9   \n",
       "3                             101                     21   \n",
       "4                             102                     24   \n",
       "\n",
       "   Number_of_faculty-all_ranks  \n",
       "0                           32  \n",
       "1                          404  \n",
       "2                           70  \n",
       "3                          392  \n",
       "4                          262  "
      ]
     },
     "execution_count": 54,
     "metadata": {},
     "output_type": "execute_result"
    }
   ],
   "source": [
    "vv1.head()"
   ]
  },
  {
   "cell_type": "code",
   "execution_count": 55,
   "metadata": {},
   "outputs": [],
   "source": [
    "vas=vv1"
   ]
  },
  {
   "cell_type": "code",
   "execution_count": 56,
   "metadata": {},
   "outputs": [
    {
     "data": {
      "text/html": [
       "<div>\n",
       "<style scoped>\n",
       "    .dataframe tbody tr th:only-of-type {\n",
       "        vertical-align: middle;\n",
       "    }\n",
       "\n",
       "    .dataframe tbody tr th {\n",
       "        vertical-align: top;\n",
       "    }\n",
       "\n",
       "    .dataframe thead th {\n",
       "        text-align: right;\n",
       "    }\n",
       "</style>\n",
       "<table border=\"1\" class=\"dataframe\">\n",
       "  <thead>\n",
       "    <tr style=\"text-align: right;\">\n",
       "      <th></th>\n",
       "      <th>FICE</th>\n",
       "      <th>College_name</th>\n",
       "      <th>State</th>\n",
       "      <th>Type</th>\n",
       "      <th>Average_salary-full_professors</th>\n",
       "      <th>Average_salary-associate_professors</th>\n",
       "      <th>Average_salary-assistant_professors</th>\n",
       "      <th>Average_salary-all_ranks</th>\n",
       "      <th>Average_compensation-full_professors</th>\n",
       "      <th>Average_compensation-associate_professors</th>\n",
       "      <th>Average_compensation-assistant_professors</th>\n",
       "      <th>Average_compensation-all_ranks</th>\n",
       "      <th>Number_of_full_professors</th>\n",
       "      <th>Number_of_associate_professors</th>\n",
       "      <th>Number_of_assistant_professors</th>\n",
       "      <th>Number_of_instructors</th>\n",
       "      <th>Number_of_faculty-all_ranks</th>\n",
       "    </tr>\n",
       "  </thead>\n",
       "  <tbody>\n",
       "    <tr>\n",
       "      <th>0</th>\n",
       "      <td>1061</td>\n",
       "      <td>5</td>\n",
       "      <td>AK</td>\n",
       "      <td>2</td>\n",
       "      <td>454</td>\n",
       "      <td>382</td>\n",
       "      <td>362</td>\n",
       "      <td>382</td>\n",
       "      <td>567</td>\n",
       "      <td>485</td>\n",
       "      <td>471</td>\n",
       "      <td>487</td>\n",
       "      <td>6</td>\n",
       "      <td>11</td>\n",
       "      <td>9</td>\n",
       "      <td>4</td>\n",
       "      <td>32</td>\n",
       "    </tr>\n",
       "    <tr>\n",
       "      <th>1</th>\n",
       "      <td>1063</td>\n",
       "      <td>864</td>\n",
       "      <td>AK</td>\n",
       "      <td>0</td>\n",
       "      <td>686</td>\n",
       "      <td>560</td>\n",
       "      <td>432</td>\n",
       "      <td>508</td>\n",
       "      <td>914</td>\n",
       "      <td>753</td>\n",
       "      <td>572</td>\n",
       "      <td>677</td>\n",
       "      <td>74</td>\n",
       "      <td>125</td>\n",
       "      <td>118</td>\n",
       "      <td>40</td>\n",
       "      <td>404</td>\n",
       "    </tr>\n",
       "    <tr>\n",
       "      <th>2</th>\n",
       "      <td>1065</td>\n",
       "      <td>865</td>\n",
       "      <td>AK</td>\n",
       "      <td>1</td>\n",
       "      <td>533</td>\n",
       "      <td>494</td>\n",
       "      <td>329</td>\n",
       "      <td>415</td>\n",
       "      <td>716</td>\n",
       "      <td>663</td>\n",
       "      <td>442</td>\n",
       "      <td>559</td>\n",
       "      <td>9</td>\n",
       "      <td>26</td>\n",
       "      <td>20</td>\n",
       "      <td>9</td>\n",
       "      <td>70</td>\n",
       "    </tr>\n",
       "    <tr>\n",
       "      <th>3</th>\n",
       "      <td>11462</td>\n",
       "      <td>863</td>\n",
       "      <td>AK</td>\n",
       "      <td>1</td>\n",
       "      <td>612</td>\n",
       "      <td>507</td>\n",
       "      <td>414</td>\n",
       "      <td>498</td>\n",
       "      <td>825</td>\n",
       "      <td>681</td>\n",
       "      <td>557</td>\n",
       "      <td>670</td>\n",
       "      <td>115</td>\n",
       "      <td>124</td>\n",
       "      <td>101</td>\n",
       "      <td>21</td>\n",
       "      <td>392</td>\n",
       "    </tr>\n",
       "    <tr>\n",
       "      <th>4</th>\n",
       "      <td>1002</td>\n",
       "      <td>4</td>\n",
       "      <td>AL</td>\n",
       "      <td>1</td>\n",
       "      <td>442</td>\n",
       "      <td>369</td>\n",
       "      <td>310</td>\n",
       "      <td>350</td>\n",
       "      <td>530</td>\n",
       "      <td>444</td>\n",
       "      <td>376</td>\n",
       "      <td>423</td>\n",
       "      <td>59</td>\n",
       "      <td>77</td>\n",
       "      <td>102</td>\n",
       "      <td>24</td>\n",
       "      <td>262</td>\n",
       "    </tr>\n",
       "  </tbody>\n",
       "</table>\n",
       "</div>"
      ],
      "text/plain": [
       "    FICE  College_name State  Type Average_salary-full_professors  \\\n",
       "0   1061             5    AK     2                            454   \n",
       "1   1063           864    AK     0                            686   \n",
       "2   1065           865    AK     1                            533   \n",
       "3  11462           863    AK     1                            612   \n",
       "4   1002             4    AL     1                            442   \n",
       "\n",
       "  Average_salary-associate_professors Average_salary-assistant_professors  \\\n",
       "0                                 382                                 362   \n",
       "1                                 560                                 432   \n",
       "2                                 494                                 329   \n",
       "3                                 507                                 414   \n",
       "4                                 369                                 310   \n",
       "\n",
       "   Average_salary-all_ranks Average_compensation-full_professors  \\\n",
       "0                       382                                  567   \n",
       "1                       508                                  914   \n",
       "2                       415                                  716   \n",
       "3                       498                                  825   \n",
       "4                       350                                  530   \n",
       "\n",
       "  Average_compensation-associate_professors  \\\n",
       "0                                       485   \n",
       "1                                       753   \n",
       "2                                       663   \n",
       "3                                       681   \n",
       "4                                       444   \n",
       "\n",
       "  Average_compensation-assistant_professors  Average_compensation-all_ranks  \\\n",
       "0                                       471                             487   \n",
       "1                                       572                             677   \n",
       "2                                       442                             559   \n",
       "3                                       557                             670   \n",
       "4                                       376                             423   \n",
       "\n",
       "   Number_of_full_professors  Number_of_associate_professors  \\\n",
       "0                          6                              11   \n",
       "1                         74                             125   \n",
       "2                          9                              26   \n",
       "3                        115                             124   \n",
       "4                         59                              77   \n",
       "\n",
       "   Number_of_assistant_professors  Number_of_instructors  \\\n",
       "0                               9                      4   \n",
       "1                             118                     40   \n",
       "2                              20                      9   \n",
       "3                             101                     21   \n",
       "4                             102                     24   \n",
       "\n",
       "   Number_of_faculty-all_ranks  \n",
       "0                           32  \n",
       "1                          404  \n",
       "2                           70  \n",
       "3                          392  \n",
       "4                          262  "
      ]
     },
     "execution_count": 56,
     "metadata": {},
     "output_type": "execute_result"
    }
   ],
   "source": [
    "vas.head()"
   ]
  },
  {
   "cell_type": "code",
   "execution_count": 72,
   "metadata": {},
   "outputs": [
    {
     "data": {
      "text/html": [
       "<div>\n",
       "<style scoped>\n",
       "    .dataframe tbody tr th:only-of-type {\n",
       "        vertical-align: middle;\n",
       "    }\n",
       "\n",
       "    .dataframe tbody tr th {\n",
       "        vertical-align: top;\n",
       "    }\n",
       "\n",
       "    .dataframe thead th {\n",
       "        text-align: right;\n",
       "    }\n",
       "</style>\n",
       "<table border=\"1\" class=\"dataframe\">\n",
       "  <thead>\n",
       "    <tr style=\"text-align: right;\">\n",
       "      <th></th>\n",
       "      <th>FICE</th>\n",
       "      <th>College_name</th>\n",
       "      <th>State</th>\n",
       "      <th>Type</th>\n",
       "      <th>Average_salary-full_professors</th>\n",
       "      <th>Average_salary-associate_professors</th>\n",
       "      <th>Average_salary-assistant_professors</th>\n",
       "      <th>Average_salary-all_ranks</th>\n",
       "      <th>Average_compensation-full_professors</th>\n",
       "      <th>Average_compensation-associate_professors</th>\n",
       "      <th>Average_compensation-assistant_professors</th>\n",
       "      <th>Average_compensation-all_ranks</th>\n",
       "      <th>Number_of_full_professors</th>\n",
       "      <th>Number_of_associate_professors</th>\n",
       "      <th>Number_of_assistant_professors</th>\n",
       "      <th>Number_of_instructors</th>\n",
       "      <th>Number_of_faculty-all_ranks</th>\n",
       "    </tr>\n",
       "  </thead>\n",
       "  <tbody>\n",
       "    <tr>\n",
       "      <th>0</th>\n",
       "      <td>1061</td>\n",
       "      <td>5</td>\n",
       "      <td>AK</td>\n",
       "      <td>2</td>\n",
       "      <td>454</td>\n",
       "      <td>382</td>\n",
       "      <td>362</td>\n",
       "      <td>382</td>\n",
       "      <td>567</td>\n",
       "      <td>485</td>\n",
       "      <td>471</td>\n",
       "      <td>487</td>\n",
       "      <td>6</td>\n",
       "      <td>11</td>\n",
       "      <td>9</td>\n",
       "      <td>4</td>\n",
       "      <td>32</td>\n",
       "    </tr>\n",
       "    <tr>\n",
       "      <th>1</th>\n",
       "      <td>1063</td>\n",
       "      <td>864</td>\n",
       "      <td>AK</td>\n",
       "      <td>0</td>\n",
       "      <td>686</td>\n",
       "      <td>560</td>\n",
       "      <td>432</td>\n",
       "      <td>508</td>\n",
       "      <td>914</td>\n",
       "      <td>753</td>\n",
       "      <td>572</td>\n",
       "      <td>677</td>\n",
       "      <td>74</td>\n",
       "      <td>125</td>\n",
       "      <td>118</td>\n",
       "      <td>40</td>\n",
       "      <td>404</td>\n",
       "    </tr>\n",
       "    <tr>\n",
       "      <th>2</th>\n",
       "      <td>1065</td>\n",
       "      <td>865</td>\n",
       "      <td>AK</td>\n",
       "      <td>1</td>\n",
       "      <td>533</td>\n",
       "      <td>494</td>\n",
       "      <td>329</td>\n",
       "      <td>415</td>\n",
       "      <td>716</td>\n",
       "      <td>663</td>\n",
       "      <td>442</td>\n",
       "      <td>559</td>\n",
       "      <td>9</td>\n",
       "      <td>26</td>\n",
       "      <td>20</td>\n",
       "      <td>9</td>\n",
       "      <td>70</td>\n",
       "    </tr>\n",
       "    <tr>\n",
       "      <th>3</th>\n",
       "      <td>11462</td>\n",
       "      <td>863</td>\n",
       "      <td>AK</td>\n",
       "      <td>1</td>\n",
       "      <td>612</td>\n",
       "      <td>507</td>\n",
       "      <td>414</td>\n",
       "      <td>498</td>\n",
       "      <td>825</td>\n",
       "      <td>681</td>\n",
       "      <td>557</td>\n",
       "      <td>670</td>\n",
       "      <td>115</td>\n",
       "      <td>124</td>\n",
       "      <td>101</td>\n",
       "      <td>21</td>\n",
       "      <td>392</td>\n",
       "    </tr>\n",
       "    <tr>\n",
       "      <th>4</th>\n",
       "      <td>1002</td>\n",
       "      <td>4</td>\n",
       "      <td>AL</td>\n",
       "      <td>1</td>\n",
       "      <td>442</td>\n",
       "      <td>369</td>\n",
       "      <td>310</td>\n",
       "      <td>350</td>\n",
       "      <td>530</td>\n",
       "      <td>444</td>\n",
       "      <td>376</td>\n",
       "      <td>423</td>\n",
       "      <td>59</td>\n",
       "      <td>77</td>\n",
       "      <td>102</td>\n",
       "      <td>24</td>\n",
       "      <td>262</td>\n",
       "    </tr>\n",
       "  </tbody>\n",
       "</table>\n",
       "</div>"
      ],
      "text/plain": [
       "    FICE  College_name State  Type Average_salary-full_professors  \\\n",
       "0   1061             5    AK     2                            454   \n",
       "1   1063           864    AK     0                            686   \n",
       "2   1065           865    AK     1                            533   \n",
       "3  11462           863    AK     1                            612   \n",
       "4   1002             4    AL     1                            442   \n",
       "\n",
       "  Average_salary-associate_professors Average_salary-assistant_professors  \\\n",
       "0                                 382                                 362   \n",
       "1                                 560                                 432   \n",
       "2                                 494                                 329   \n",
       "3                                 507                                 414   \n",
       "4                                 369                                 310   \n",
       "\n",
       "   Average_salary-all_ranks Average_compensation-full_professors  \\\n",
       "0                       382                                  567   \n",
       "1                       508                                  914   \n",
       "2                       415                                  716   \n",
       "3                       498                                  825   \n",
       "4                       350                                  530   \n",
       "\n",
       "  Average_compensation-associate_professors  \\\n",
       "0                                       485   \n",
       "1                                       753   \n",
       "2                                       663   \n",
       "3                                       681   \n",
       "4                                       444   \n",
       "\n",
       "  Average_compensation-assistant_professors  Average_compensation-all_ranks  \\\n",
       "0                                       471                             487   \n",
       "1                                       572                             677   \n",
       "2                                       442                             559   \n",
       "3                                       557                             670   \n",
       "4                                       376                             423   \n",
       "\n",
       "   Number_of_full_professors  Number_of_associate_professors  \\\n",
       "0                          6                              11   \n",
       "1                         74                             125   \n",
       "2                          9                              26   \n",
       "3                        115                             124   \n",
       "4                         59                              77   \n",
       "\n",
       "   Number_of_assistant_professors  Number_of_instructors  \\\n",
       "0                               9                      4   \n",
       "1                             118                     40   \n",
       "2                              20                      9   \n",
       "3                             101                     21   \n",
       "4                             102                     24   \n",
       "\n",
       "   Number_of_faculty-all_ranks  \n",
       "0                           32  \n",
       "1                          404  \n",
       "2                           70  \n",
       "3                          392  \n",
       "4                          262  "
      ]
     },
     "execution_count": 72,
     "metadata": {},
     "output_type": "execute_result"
    }
   ],
   "source": [
    "vas.head()"
   ]
  },
  {
   "cell_type": "code",
   "execution_count": 73,
   "metadata": {},
   "outputs": [
    {
     "data": {
      "text/plain": [
       "array([ 0,  1,  2,  3,  4,  5,  6,  7,  8,  9, 10, 11, 12, 13, 14, 15, 16,\n",
       "       17, 18, 19, 20, 21, 22, 23, 24, 25, 26, 27, 28, 29, 30, 31, 32, 33,\n",
       "       34, 35, 36, 37, 38, 39, 40, 41, 42, 43, 44, 45, 46, 47, 48, 49, 50,\n",
       "       51], dtype=int64)"
      ]
     },
     "execution_count": 73,
     "metadata": {},
     "output_type": "execute_result"
    }
   ],
   "source": [
    "### label encoder\n",
    "from sklearn import preprocessing \n",
    "  \n",
    "# label_encoder object knows how to understand word labels. \n",
    "label_encoder = preprocessing.LabelEncoder() \n",
    "  \n",
    "# Encode labels in column 'species'. \n",
    "vas['State']= label_encoder.fit_transform(vas['State']) \n",
    "  \n",
    "vas['State'].unique()"
   ]
  },
  {
   "cell_type": "code",
   "execution_count": 74,
   "metadata": {},
   "outputs": [],
   "source": [
    "clss=vas"
   ]
  },
  {
   "cell_type": "code",
   "execution_count": 75,
   "metadata": {},
   "outputs": [
    {
     "data": {
      "text/html": [
       "<div>\n",
       "<style scoped>\n",
       "    .dataframe tbody tr th:only-of-type {\n",
       "        vertical-align: middle;\n",
       "    }\n",
       "\n",
       "    .dataframe tbody tr th {\n",
       "        vertical-align: top;\n",
       "    }\n",
       "\n",
       "    .dataframe thead th {\n",
       "        text-align: right;\n",
       "    }\n",
       "</style>\n",
       "<table border=\"1\" class=\"dataframe\">\n",
       "  <thead>\n",
       "    <tr style=\"text-align: right;\">\n",
       "      <th></th>\n",
       "      <th>FICE</th>\n",
       "      <th>College_name</th>\n",
       "      <th>State</th>\n",
       "      <th>Type</th>\n",
       "      <th>Average_salary-full_professors</th>\n",
       "      <th>Average_salary-associate_professors</th>\n",
       "      <th>Average_salary-assistant_professors</th>\n",
       "      <th>Average_salary-all_ranks</th>\n",
       "      <th>Average_compensation-full_professors</th>\n",
       "      <th>Average_compensation-associate_professors</th>\n",
       "      <th>Average_compensation-assistant_professors</th>\n",
       "      <th>Average_compensation-all_ranks</th>\n",
       "      <th>Number_of_full_professors</th>\n",
       "      <th>Number_of_associate_professors</th>\n",
       "      <th>Number_of_assistant_professors</th>\n",
       "      <th>Number_of_instructors</th>\n",
       "      <th>Number_of_faculty-all_ranks</th>\n",
       "    </tr>\n",
       "  </thead>\n",
       "  <tbody>\n",
       "    <tr>\n",
       "      <th>0</th>\n",
       "      <td>1061</td>\n",
       "      <td>5</td>\n",
       "      <td>0</td>\n",
       "      <td>2</td>\n",
       "      <td>454</td>\n",
       "      <td>382</td>\n",
       "      <td>362</td>\n",
       "      <td>382</td>\n",
       "      <td>567</td>\n",
       "      <td>485</td>\n",
       "      <td>471</td>\n",
       "      <td>487</td>\n",
       "      <td>6</td>\n",
       "      <td>11</td>\n",
       "      <td>9</td>\n",
       "      <td>4</td>\n",
       "      <td>32</td>\n",
       "    </tr>\n",
       "    <tr>\n",
       "      <th>1</th>\n",
       "      <td>1063</td>\n",
       "      <td>864</td>\n",
       "      <td>0</td>\n",
       "      <td>0</td>\n",
       "      <td>686</td>\n",
       "      <td>560</td>\n",
       "      <td>432</td>\n",
       "      <td>508</td>\n",
       "      <td>914</td>\n",
       "      <td>753</td>\n",
       "      <td>572</td>\n",
       "      <td>677</td>\n",
       "      <td>74</td>\n",
       "      <td>125</td>\n",
       "      <td>118</td>\n",
       "      <td>40</td>\n",
       "      <td>404</td>\n",
       "    </tr>\n",
       "    <tr>\n",
       "      <th>2</th>\n",
       "      <td>1065</td>\n",
       "      <td>865</td>\n",
       "      <td>0</td>\n",
       "      <td>1</td>\n",
       "      <td>533</td>\n",
       "      <td>494</td>\n",
       "      <td>329</td>\n",
       "      <td>415</td>\n",
       "      <td>716</td>\n",
       "      <td>663</td>\n",
       "      <td>442</td>\n",
       "      <td>559</td>\n",
       "      <td>9</td>\n",
       "      <td>26</td>\n",
       "      <td>20</td>\n",
       "      <td>9</td>\n",
       "      <td>70</td>\n",
       "    </tr>\n",
       "    <tr>\n",
       "      <th>3</th>\n",
       "      <td>11462</td>\n",
       "      <td>863</td>\n",
       "      <td>0</td>\n",
       "      <td>1</td>\n",
       "      <td>612</td>\n",
       "      <td>507</td>\n",
       "      <td>414</td>\n",
       "      <td>498</td>\n",
       "      <td>825</td>\n",
       "      <td>681</td>\n",
       "      <td>557</td>\n",
       "      <td>670</td>\n",
       "      <td>115</td>\n",
       "      <td>124</td>\n",
       "      <td>101</td>\n",
       "      <td>21</td>\n",
       "      <td>392</td>\n",
       "    </tr>\n",
       "    <tr>\n",
       "      <th>4</th>\n",
       "      <td>1002</td>\n",
       "      <td>4</td>\n",
       "      <td>1</td>\n",
       "      <td>1</td>\n",
       "      <td>442</td>\n",
       "      <td>369</td>\n",
       "      <td>310</td>\n",
       "      <td>350</td>\n",
       "      <td>530</td>\n",
       "      <td>444</td>\n",
       "      <td>376</td>\n",
       "      <td>423</td>\n",
       "      <td>59</td>\n",
       "      <td>77</td>\n",
       "      <td>102</td>\n",
       "      <td>24</td>\n",
       "      <td>262</td>\n",
       "    </tr>\n",
       "  </tbody>\n",
       "</table>\n",
       "</div>"
      ],
      "text/plain": [
       "    FICE  College_name  State  Type Average_salary-full_professors  \\\n",
       "0   1061             5      0     2                            454   \n",
       "1   1063           864      0     0                            686   \n",
       "2   1065           865      0     1                            533   \n",
       "3  11462           863      0     1                            612   \n",
       "4   1002             4      1     1                            442   \n",
       "\n",
       "  Average_salary-associate_professors Average_salary-assistant_professors  \\\n",
       "0                                 382                                 362   \n",
       "1                                 560                                 432   \n",
       "2                                 494                                 329   \n",
       "3                                 507                                 414   \n",
       "4                                 369                                 310   \n",
       "\n",
       "   Average_salary-all_ranks Average_compensation-full_professors  \\\n",
       "0                       382                                  567   \n",
       "1                       508                                  914   \n",
       "2                       415                                  716   \n",
       "3                       498                                  825   \n",
       "4                       350                                  530   \n",
       "\n",
       "  Average_compensation-associate_professors  \\\n",
       "0                                       485   \n",
       "1                                       753   \n",
       "2                                       663   \n",
       "3                                       681   \n",
       "4                                       444   \n",
       "\n",
       "  Average_compensation-assistant_professors  Average_compensation-all_ranks  \\\n",
       "0                                       471                             487   \n",
       "1                                       572                             677   \n",
       "2                                       442                             559   \n",
       "3                                       557                             670   \n",
       "4                                       376                             423   \n",
       "\n",
       "   Number_of_full_professors  Number_of_associate_professors  \\\n",
       "0                          6                              11   \n",
       "1                         74                             125   \n",
       "2                          9                              26   \n",
       "3                        115                             124   \n",
       "4                         59                              77   \n",
       "\n",
       "   Number_of_assistant_professors  Number_of_instructors  \\\n",
       "0                               9                      4   \n",
       "1                             118                     40   \n",
       "2                              20                      9   \n",
       "3                             101                     21   \n",
       "4                             102                     24   \n",
       "\n",
       "   Number_of_faculty-all_ranks  \n",
       "0                           32  \n",
       "1                          404  \n",
       "2                           70  \n",
       "3                          392  \n",
       "4                          262  "
      ]
     },
     "execution_count": 75,
     "metadata": {},
     "output_type": "execute_result"
    }
   ],
   "source": [
    "clss.head()"
   ]
  },
  {
   "cell_type": "code",
   "execution_count": 81,
   "metadata": {},
   "outputs": [
    {
     "data": {
      "text/plain": [
       "FICE                                         0.0\n",
       "College_name                                 0.0\n",
       "State                                        0.0\n",
       "Type                                         0.0\n",
       "Average_salary-full_professors               0.0\n",
       "Average_salary-associate_professors          0.0\n",
       "Average_salary-assistant_professors          0.0\n",
       "Average_salary-all_ranks                     0.0\n",
       "Average_compensation-full_professors         0.0\n",
       "Average_compensation-associate_professors    0.0\n",
       "Average_compensation-assistant_professors    0.0\n",
       "Average_compensation-all_ranks               0.0\n",
       "Number_of_full_professors                    0.0\n",
       "Number_of_associate_professors               0.0\n",
       "Number_of_assistant_professors               0.0\n",
       "Number_of_instructors                        0.0\n",
       "Number_of_faculty-all_ranks                  0.0\n",
       "dtype: float64"
      ]
     },
     "execution_count": 81,
     "metadata": {},
     "output_type": "execute_result"
    }
   ],
   "source": [
    "# checking the percentage of missing values in each variable\n",
    "clss.isnull().sum()/len(clss)*100"
   ]
  },
  {
   "cell_type": "code",
   "execution_count": 90,
   "metadata": {},
   "outputs": [
    {
     "data": {
      "text/html": [
       "<div>\n",
       "<style scoped>\n",
       "    .dataframe tbody tr th:only-of-type {\n",
       "        vertical-align: middle;\n",
       "    }\n",
       "\n",
       "    .dataframe tbody tr th {\n",
       "        vertical-align: top;\n",
       "    }\n",
       "\n",
       "    .dataframe thead th {\n",
       "        text-align: right;\n",
       "    }\n",
       "</style>\n",
       "<table border=\"1\" class=\"dataframe\">\n",
       "  <thead>\n",
       "    <tr style=\"text-align: right;\">\n",
       "      <th></th>\n",
       "      <th>FICE</th>\n",
       "      <th>College_name</th>\n",
       "      <th>State</th>\n",
       "      <th>Type</th>\n",
       "      <th>Average_salary-full_professors</th>\n",
       "      <th>Average_salary-associate_professors</th>\n",
       "      <th>Average_salary-assistant_professors</th>\n",
       "      <th>Average_salary-all_ranks</th>\n",
       "      <th>Average_compensation-full_professors</th>\n",
       "      <th>Average_compensation-associate_professors</th>\n",
       "      <th>Average_compensation-assistant_professors</th>\n",
       "      <th>Average_compensation-all_ranks</th>\n",
       "      <th>Number_of_full_professors</th>\n",
       "      <th>Number_of_associate_professors</th>\n",
       "      <th>Number_of_assistant_professors</th>\n",
       "      <th>Number_of_instructors</th>\n",
       "      <th>Number_of_faculty-all_ranks</th>\n",
       "    </tr>\n",
       "  </thead>\n",
       "  <tbody>\n",
       "    <tr>\n",
       "      <th>211</th>\n",
       "      <td>1899</td>\n",
       "      <td>825</td>\n",
       "      <td>12</td>\n",
       "      <td>2</td>\n",
       "      <td>?</td>\n",
       "      <td>314</td>\n",
       "      <td>289</td>\n",
       "      <td>292</td>\n",
       "      <td>?</td>\n",
       "      <td>388</td>\n",
       "      <td>355</td>\n",
       "      <td>359</td>\n",
       "      <td>5</td>\n",
       "      <td>13</td>\n",
       "      <td>22</td>\n",
       "      <td>14</td>\n",
       "      <td>54</td>\n",
       "    </tr>\n",
       "    <tr>\n",
       "      <th>318</th>\n",
       "      <td>1933</td>\n",
       "      <td>501</td>\n",
       "      <td>16</td>\n",
       "      <td>2</td>\n",
       "      <td>318</td>\n",
       "      <td>274</td>\n",
       "      <td>254</td>\n",
       "      <td>272</td>\n",
       "      <td>397</td>\n",
       "      <td>353</td>\n",
       "      <td>313</td>\n",
       "      <td>342</td>\n",
       "      <td>7</td>\n",
       "      <td>16</td>\n",
       "      <td>11</td>\n",
       "      <td>3</td>\n",
       "      <td>37</td>\n",
       "    </tr>\n",
       "    <tr>\n",
       "      <th>467</th>\n",
       "      <td>2293</td>\n",
       "      <td>431</td>\n",
       "      <td>22</td>\n",
       "      <td>2</td>\n",
       "      <td>510</td>\n",
       "      <td>446</td>\n",
       "      <td>357</td>\n",
       "      <td>422</td>\n",
       "      <td>661</td>\n",
       "      <td>596</td>\n",
       "      <td>473</td>\n",
       "      <td>557</td>\n",
       "      <td>32</td>\n",
       "      <td>35</td>\n",
       "      <td>38</td>\n",
       "      <td>7</td>\n",
       "      <td>112</td>\n",
       "    </tr>\n",
       "    <tr>\n",
       "      <th>91</th>\n",
       "      <td>1329</td>\n",
       "      <td>1005</td>\n",
       "      <td>4</td>\n",
       "      <td>1</td>\n",
       "      <td>542</td>\n",
       "      <td>420</td>\n",
       "      <td>372</td>\n",
       "      <td>459</td>\n",
       "      <td>666</td>\n",
       "      <td>528</td>\n",
       "      <td>468</td>\n",
       "      <td>570</td>\n",
       "      <td>172</td>\n",
       "      <td>92</td>\n",
       "      <td>100</td>\n",
       "      <td>10</td>\n",
       "      <td>377</td>\n",
       "    </tr>\n",
       "    <tr>\n",
       "      <th>920</th>\n",
       "      <td>3988</td>\n",
       "      <td>561</td>\n",
       "      <td>38</td>\n",
       "      <td>2</td>\n",
       "      <td>?</td>\n",
       "      <td>328</td>\n",
       "      <td>296</td>\n",
       "      <td>307</td>\n",
       "      <td>?</td>\n",
       "      <td>457</td>\n",
       "      <td>399</td>\n",
       "      <td>415</td>\n",
       "      <td>5</td>\n",
       "      <td>9</td>\n",
       "      <td>27</td>\n",
       "      <td>3</td>\n",
       "      <td>44</td>\n",
       "    </tr>\n",
       "    <tr>\n",
       "      <th>190</th>\n",
       "      <td>1854</td>\n",
       "      <td>171</td>\n",
       "      <td>12</td>\n",
       "      <td>2</td>\n",
       "      <td>516</td>\n",
       "      <td>421</td>\n",
       "      <td>340</td>\n",
       "      <td>436</td>\n",
       "      <td>671</td>\n",
       "      <td>541</td>\n",
       "      <td>459</td>\n",
       "      <td>570</td>\n",
       "      <td>30</td>\n",
       "      <td>21</td>\n",
       "      <td>22</td>\n",
       "      <td>0</td>\n",
       "      <td>73</td>\n",
       "    </tr>\n",
       "    <tr>\n",
       "      <th>321</th>\n",
       "      <td>1943</td>\n",
       "      <td>722</td>\n",
       "      <td>16</td>\n",
       "      <td>2</td>\n",
       "      <td>336</td>\n",
       "      <td>301</td>\n",
       "      <td>261</td>\n",
       "      <td>282</td>\n",
       "      <td>390</td>\n",
       "      <td>358</td>\n",
       "      <td>313</td>\n",
       "      <td>335</td>\n",
       "      <td>10</td>\n",
       "      <td>11</td>\n",
       "      <td>15</td>\n",
       "      <td>5</td>\n",
       "      <td>43</td>\n",
       "    </tr>\n",
       "    <tr>\n",
       "      <th>499</th>\n",
       "      <td>2380</td>\n",
       "      <td>724</td>\n",
       "      <td>23</td>\n",
       "      <td>1</td>\n",
       "      <td>488</td>\n",
       "      <td>396</td>\n",
       "      <td>295</td>\n",
       "      <td>389</td>\n",
       "      <td>595</td>\n",
       "      <td>483</td>\n",
       "      <td>358</td>\n",
       "      <td>473</td>\n",
       "      <td>28</td>\n",
       "      <td>23</td>\n",
       "      <td>27</td>\n",
       "      <td>3</td>\n",
       "      <td>81</td>\n",
       "    </tr>\n",
       "    <tr>\n",
       "      <th>461</th>\n",
       "      <td>2273</td>\n",
       "      <td>371</td>\n",
       "      <td>22</td>\n",
       "      <td>2</td>\n",
       "      <td>515</td>\n",
       "      <td>420</td>\n",
       "      <td>350</td>\n",
       "      <td>443</td>\n",
       "      <td>681</td>\n",
       "      <td>559</td>\n",
       "      <td>455</td>\n",
       "      <td>585</td>\n",
       "      <td>70</td>\n",
       "      <td>49</td>\n",
       "      <td>38</td>\n",
       "      <td>2</td>\n",
       "      <td>159</td>\n",
       "    </tr>\n",
       "    <tr>\n",
       "      <th>616</th>\n",
       "      <td>2551</td>\n",
       "      <td>915</td>\n",
       "      <td>29</td>\n",
       "      <td>1</td>\n",
       "      <td>509</td>\n",
       "      <td>433</td>\n",
       "      <td>365</td>\n",
       "      <td>409</td>\n",
       "      <td>618</td>\n",
       "      <td>533</td>\n",
       "      <td>448</td>\n",
       "      <td>502</td>\n",
       "      <td>81</td>\n",
       "      <td>89</td>\n",
       "      <td>92</td>\n",
       "      <td>9</td>\n",
       "      <td>309</td>\n",
       "    </tr>\n",
       "    <tr>\n",
       "      <th>147</th>\n",
       "      <td>1481</td>\n",
       "      <td>291</td>\n",
       "      <td>9</td>\n",
       "      <td>1</td>\n",
       "      <td>580</td>\n",
       "      <td>426</td>\n",
       "      <td>394</td>\n",
       "      <td>461</td>\n",
       "      <td>750</td>\n",
       "      <td>559</td>\n",
       "      <td>517</td>\n",
       "      <td>601</td>\n",
       "      <td>183</td>\n",
       "      <td>147</td>\n",
       "      <td>159</td>\n",
       "      <td>30</td>\n",
       "      <td>528</td>\n",
       "    </tr>\n",
       "    <tr>\n",
       "      <th>749</th>\n",
       "      <td>10286</td>\n",
       "      <td>706</td>\n",
       "      <td>34</td>\n",
       "      <td>2</td>\n",
       "      <td>543</td>\n",
       "      <td>437</td>\n",
       "      <td>361</td>\n",
       "      <td>430</td>\n",
       "      <td>706</td>\n",
       "      <td>562</td>\n",
       "      <td>468</td>\n",
       "      <td>554</td>\n",
       "      <td>33</td>\n",
       "      <td>47</td>\n",
       "      <td>35</td>\n",
       "      <td>3</td>\n",
       "      <td>132</td>\n",
       "    </tr>\n",
       "    <tr>\n",
       "      <th>463</th>\n",
       "      <td>2282</td>\n",
       "      <td>475</td>\n",
       "      <td>22</td>\n",
       "      <td>2</td>\n",
       "      <td>482</td>\n",
       "      <td>395</td>\n",
       "      <td>352</td>\n",
       "      <td>382</td>\n",
       "      <td>576</td>\n",
       "      <td>465</td>\n",
       "      <td>430</td>\n",
       "      <td>459</td>\n",
       "      <td>19</td>\n",
       "      <td>12</td>\n",
       "      <td>42</td>\n",
       "      <td>11</td>\n",
       "      <td>84</td>\n",
       "    </tr>\n",
       "    <tr>\n",
       "      <th>322</th>\n",
       "      <td>1946</td>\n",
       "      <td>822</td>\n",
       "      <td>16</td>\n",
       "      <td>2</td>\n",
       "      <td>304</td>\n",
       "      <td>?</td>\n",
       "      <td>222</td>\n",
       "      <td>257</td>\n",
       "      <td>385</td>\n",
       "      <td>?</td>\n",
       "      <td>282</td>\n",
       "      <td>326</td>\n",
       "      <td>8</td>\n",
       "      <td>5</td>\n",
       "      <td>8</td>\n",
       "      <td>3</td>\n",
       "      <td>24</td>\n",
       "    </tr>\n",
       "    <tr>\n",
       "      <th>262</th>\n",
       "      <td>1774</td>\n",
       "      <td>946</td>\n",
       "      <td>14</td>\n",
       "      <td>0</td>\n",
       "      <td>894</td>\n",
       "      <td>586</td>\n",
       "      <td>515</td>\n",
       "      <td>742</td>\n",
       "      <td>1104</td>\n",
       "      <td>724</td>\n",
       "      <td>636</td>\n",
       "      <td>916</td>\n",
       "      <td>467</td>\n",
       "      <td>138</td>\n",
       "      <td>161</td>\n",
       "      <td>36</td>\n",
       "      <td>802</td>\n",
       "    </tr>\n",
       "    <tr>\n",
       "      <th>1097</th>\n",
       "      <td>3692</td>\n",
       "      <td>601</td>\n",
       "      <td>46</td>\n",
       "      <td>1</td>\n",
       "      <td>423</td>\n",
       "      <td>356</td>\n",
       "      <td>297</td>\n",
       "      <td>371</td>\n",
       "      <td>545</td>\n",
       "      <td>468</td>\n",
       "      <td>394</td>\n",
       "      <td>484</td>\n",
       "      <td>62</td>\n",
       "      <td>51</td>\n",
       "      <td>32</td>\n",
       "      <td>1</td>\n",
       "      <td>146</td>\n",
       "    </tr>\n",
       "    <tr>\n",
       "      <th>336</th>\n",
       "      <td>1964</td>\n",
       "      <td>316</td>\n",
       "      <td>17</td>\n",
       "      <td>2</td>\n",
       "      <td>398</td>\n",
       "      <td>338</td>\n",
       "      <td>297</td>\n",
       "      <td>343</td>\n",
       "      <td>493</td>\n",
       "      <td>418</td>\n",
       "      <td>352</td>\n",
       "      <td>420</td>\n",
       "      <td>29</td>\n",
       "      <td>18</td>\n",
       "      <td>19</td>\n",
       "      <td>6</td>\n",
       "      <td>72</td>\n",
       "    </tr>\n",
       "    <tr>\n",
       "      <th>328</th>\n",
       "      <td>1954</td>\n",
       "      <td>63</td>\n",
       "      <td>17</td>\n",
       "      <td>1</td>\n",
       "      <td>473</td>\n",
       "      <td>385</td>\n",
       "      <td>326</td>\n",
       "      <td>394</td>\n",
       "      <td>583</td>\n",
       "      <td>480</td>\n",
       "      <td>396</td>\n",
       "      <td>482</td>\n",
       "      <td>32</td>\n",
       "      <td>18</td>\n",
       "      <td>27</td>\n",
       "      <td>7</td>\n",
       "      <td>84</td>\n",
       "    </tr>\n",
       "    <tr>\n",
       "      <th>54</th>\n",
       "      <td>1144</td>\n",
       "      <td>109</td>\n",
       "      <td>4</td>\n",
       "      <td>1</td>\n",
       "      <td>610</td>\n",
       "      <td>492</td>\n",
       "      <td>408</td>\n",
       "      <td>559</td>\n",
       "      <td>766</td>\n",
       "      <td>630</td>\n",
       "      <td>531</td>\n",
       "      <td>707</td>\n",
       "      <td>411</td>\n",
       "      <td>116</td>\n",
       "      <td>79</td>\n",
       "      <td>4</td>\n",
       "      <td>610</td>\n",
       "    </tr>\n",
       "    <tr>\n",
       "      <th>30</th>\n",
       "      <td>1092</td>\n",
       "      <td>896</td>\n",
       "      <td>2</td>\n",
       "      <td>1</td>\n",
       "      <td>521</td>\n",
       "      <td>416</td>\n",
       "      <td>339</td>\n",
       "      <td>395</td>\n",
       "      <td>632</td>\n",
       "      <td>507</td>\n",
       "      <td>416</td>\n",
       "      <td>482</td>\n",
       "      <td>93</td>\n",
       "      <td>89</td>\n",
       "      <td>82</td>\n",
       "      <td>76</td>\n",
       "      <td>340</td>\n",
       "    </tr>\n",
       "  </tbody>\n",
       "</table>\n",
       "</div>"
      ],
      "text/plain": [
       "       FICE  College_name  State  Type Average_salary-full_professors  \\\n",
       "211    1899           825     12     2                              ?   \n",
       "318    1933           501     16     2                            318   \n",
       "467    2293           431     22     2                            510   \n",
       "91     1329          1005      4     1                            542   \n",
       "920    3988           561     38     2                              ?   \n",
       "190    1854           171     12     2                            516   \n",
       "321    1943           722     16     2                            336   \n",
       "499    2380           724     23     1                            488   \n",
       "461    2273           371     22     2                            515   \n",
       "616    2551           915     29     1                            509   \n",
       "147    1481           291      9     1                            580   \n",
       "749   10286           706     34     2                            543   \n",
       "463    2282           475     22     2                            482   \n",
       "322    1946           822     16     2                            304   \n",
       "262    1774           946     14     0                            894   \n",
       "1097   3692           601     46     1                            423   \n",
       "336    1964           316     17     2                            398   \n",
       "328    1954            63     17     1                            473   \n",
       "54     1144           109      4     1                            610   \n",
       "30     1092           896      2     1                            521   \n",
       "\n",
       "     Average_salary-associate_professors Average_salary-assistant_professors  \\\n",
       "211                                  314                                 289   \n",
       "318                                  274                                 254   \n",
       "467                                  446                                 357   \n",
       "91                                   420                                 372   \n",
       "920                                  328                                 296   \n",
       "190                                  421                                 340   \n",
       "321                                  301                                 261   \n",
       "499                                  396                                 295   \n",
       "461                                  420                                 350   \n",
       "616                                  433                                 365   \n",
       "147                                  426                                 394   \n",
       "749                                  437                                 361   \n",
       "463                                  395                                 352   \n",
       "322                                    ?                                 222   \n",
       "262                                  586                                 515   \n",
       "1097                                 356                                 297   \n",
       "336                                  338                                 297   \n",
       "328                                  385                                 326   \n",
       "54                                   492                                 408   \n",
       "30                                   416                                 339   \n",
       "\n",
       "      Average_salary-all_ranks Average_compensation-full_professors  \\\n",
       "211                        292                                    ?   \n",
       "318                        272                                  397   \n",
       "467                        422                                  661   \n",
       "91                         459                                  666   \n",
       "920                        307                                    ?   \n",
       "190                        436                                  671   \n",
       "321                        282                                  390   \n",
       "499                        389                                  595   \n",
       "461                        443                                  681   \n",
       "616                        409                                  618   \n",
       "147                        461                                  750   \n",
       "749                        430                                  706   \n",
       "463                        382                                  576   \n",
       "322                        257                                  385   \n",
       "262                        742                                 1104   \n",
       "1097                       371                                  545   \n",
       "336                        343                                  493   \n",
       "328                        394                                  583   \n",
       "54                         559                                  766   \n",
       "30                         395                                  632   \n",
       "\n",
       "     Average_compensation-associate_professors  \\\n",
       "211                                        388   \n",
       "318                                        353   \n",
       "467                                        596   \n",
       "91                                         528   \n",
       "920                                        457   \n",
       "190                                        541   \n",
       "321                                        358   \n",
       "499                                        483   \n",
       "461                                        559   \n",
       "616                                        533   \n",
       "147                                        559   \n",
       "749                                        562   \n",
       "463                                        465   \n",
       "322                                          ?   \n",
       "262                                        724   \n",
       "1097                                       468   \n",
       "336                                        418   \n",
       "328                                        480   \n",
       "54                                         630   \n",
       "30                                         507   \n",
       "\n",
       "     Average_compensation-assistant_professors  \\\n",
       "211                                        355   \n",
       "318                                        313   \n",
       "467                                        473   \n",
       "91                                         468   \n",
       "920                                        399   \n",
       "190                                        459   \n",
       "321                                        313   \n",
       "499                                        358   \n",
       "461                                        455   \n",
       "616                                        448   \n",
       "147                                        517   \n",
       "749                                        468   \n",
       "463                                        430   \n",
       "322                                        282   \n",
       "262                                        636   \n",
       "1097                                       394   \n",
       "336                                        352   \n",
       "328                                        396   \n",
       "54                                         531   \n",
       "30                                         416   \n",
       "\n",
       "      Average_compensation-all_ranks  Number_of_full_professors  \\\n",
       "211                              359                          5   \n",
       "318                              342                          7   \n",
       "467                              557                         32   \n",
       "91                               570                        172   \n",
       "920                              415                          5   \n",
       "190                              570                         30   \n",
       "321                              335                         10   \n",
       "499                              473                         28   \n",
       "461                              585                         70   \n",
       "616                              502                         81   \n",
       "147                              601                        183   \n",
       "749                              554                         33   \n",
       "463                              459                         19   \n",
       "322                              326                          8   \n",
       "262                              916                        467   \n",
       "1097                             484                         62   \n",
       "336                              420                         29   \n",
       "328                              482                         32   \n",
       "54                               707                        411   \n",
       "30                               482                         93   \n",
       "\n",
       "      Number_of_associate_professors  Number_of_assistant_professors  \\\n",
       "211                               13                              22   \n",
       "318                               16                              11   \n",
       "467                               35                              38   \n",
       "91                                92                             100   \n",
       "920                                9                              27   \n",
       "190                               21                              22   \n",
       "321                               11                              15   \n",
       "499                               23                              27   \n",
       "461                               49                              38   \n",
       "616                               89                              92   \n",
       "147                              147                             159   \n",
       "749                               47                              35   \n",
       "463                               12                              42   \n",
       "322                                5                               8   \n",
       "262                              138                             161   \n",
       "1097                              51                              32   \n",
       "336                               18                              19   \n",
       "328                               18                              27   \n",
       "54                               116                              79   \n",
       "30                                89                              82   \n",
       "\n",
       "      Number_of_instructors  Number_of_faculty-all_ranks  \n",
       "211                      14                           54  \n",
       "318                       3                           37  \n",
       "467                       7                          112  \n",
       "91                       10                          377  \n",
       "920                       3                           44  \n",
       "190                       0                           73  \n",
       "321                       5                           43  \n",
       "499                       3                           81  \n",
       "461                       2                          159  \n",
       "616                       9                          309  \n",
       "147                      30                          528  \n",
       "749                       3                          132  \n",
       "463                      11                           84  \n",
       "322                       3                           24  \n",
       "262                      36                          802  \n",
       "1097                      1                          146  \n",
       "336                       6                           72  \n",
       "328                       7                           84  \n",
       "54                        4                          610  \n",
       "30                       76                          340  "
      ]
     },
     "execution_count": 90,
     "metadata": {},
     "output_type": "execute_result"
    }
   ],
   "source": [
    "clss.sample(20)"
   ]
  },
  {
   "cell_type": "code",
   "execution_count": 112,
   "metadata": {},
   "outputs": [
    {
     "data": {
      "text/plain": [
       "0       454\n",
       "1       686\n",
       "2       533\n",
       "3       612\n",
       "4       442\n",
       "5       441\n",
       "6       466\n",
       "7       580\n",
       "8       498\n",
       "9       506\n",
       "10      339\n",
       "11      461\n",
       "12      360\n",
       "13      354\n",
       "14      301\n",
       "15      565\n",
       "16      431\n",
       "17      321\n",
       "18      462\n",
       "19      410\n",
       "20      605\n",
       "21      633\n",
       "22      636\n",
       "23      542\n",
       "24      519\n",
       "25      453\n",
       "26      406\n",
       "27      499\n",
       "28      439\n",
       "29      520\n",
       "       ... \n",
       "1131    604\n",
       "1132    498\n",
       "1133    448\n",
       "1134    502\n",
       "1135    489\n",
       "1136    511\n",
       "1137    517\n",
       "1138    485\n",
       "1139    516\n",
       "1140    501\n",
       "1141    525\n",
       "1142    535\n",
       "1143    541\n",
       "1144    385\n",
       "1145    397\n",
       "1146    409\n",
       "1147    400\n",
       "1148    373\n",
       "1149    432\n",
       "1150    396\n",
       "1151    477\n",
       "1152    385\n",
       "1153    422\n",
       "1154    415\n",
       "1155    417\n",
       "1156    408\n",
       "1157    535\n",
       "1158    441\n",
       "1159    403\n",
       "1160    539\n",
       "Name: Average_salary-full_professors, Length: 1161, dtype: object"
      ]
     },
     "execution_count": 112,
     "metadata": {},
     "output_type": "execute_result"
    }
   ],
   "source": [
    "\n",
    "\n",
    "vas['Average_salary-full_professors'].replace('?', np.NaN)"
   ]
  },
  {
   "cell_type": "code",
   "execution_count": 113,
   "metadata": {},
   "outputs": [
    {
     "data": {
      "text/plain": [
       "0       567\n",
       "1       914\n",
       "2       716\n",
       "3       825\n",
       "4       530\n",
       "5       542\n",
       "6       558\n",
       "7       692\n",
       "8       655\n",
       "9       607\n",
       "10      421\n",
       "11      585\n",
       "12      433\n",
       "13      436\n",
       "14      375\n",
       "15      710\n",
       "16      518\n",
       "17      388\n",
       "18      560\n",
       "19      487\n",
       "20      746\n",
       "21      786\n",
       "22      771\n",
       "23      645\n",
       "24      621\n",
       "25      561\n",
       "26      505\n",
       "27      618\n",
       "28      550\n",
       "29      646\n",
       "       ... \n",
       "1131    761\n",
       "1132    638\n",
       "1133    553\n",
       "1134    642\n",
       "1135    627\n",
       "1136    653\n",
       "1137    661\n",
       "1138    622\n",
       "1139    658\n",
       "1140    642\n",
       "1141    670\n",
       "1142    680\n",
       "1143    688\n",
       "1144    507\n",
       "1145    501\n",
       "1146    483\n",
       "1147    505\n",
       "1148    480\n",
       "1149    526\n",
       "1150    484\n",
       "1151    576\n",
       "1152    484\n",
       "1153    509\n",
       "1154    508\n",
       "1155    513\n",
       "1156    502\n",
       "1157    642\n",
       "1158    572\n",
       "1159    486\n",
       "1160    658\n",
       "Name: Average_compensation-full_professors, Length: 1161, dtype: object"
      ]
     },
     "execution_count": 113,
     "metadata": {},
     "output_type": "execute_result"
    }
   ],
   "source": [
    "\n",
    "vas['Average_compensation-full_professors'].replace('?', np.NaN)"
   ]
  },
  {
   "cell_type": "code",
   "execution_count": 117,
   "metadata": {},
   "outputs": [
    {
     "data": {
      "text/plain": [
       "0       471\n",
       "1       572\n",
       "2       442\n",
       "3       557\n",
       "4       376\n",
       "5       383\n",
       "6       427\n",
       "7       451\n",
       "8       404\n",
       "9       445\n",
       "10      347\n",
       "11      436\n",
       "12      313\n",
       "13      346\n",
       "14      355\n",
       "15      476\n",
       "16      374\n",
       "17      312\n",
       "18      392\n",
       "19      362\n",
       "20      483\n",
       "21      475\n",
       "22      455\n",
       "23      450\n",
       "24      411\n",
       "25      402\n",
       "26      415\n",
       "27      402\n",
       "28      427\n",
       "29      431\n",
       "       ... \n",
       "1131    544\n",
       "1132    468\n",
       "1133    395\n",
       "1134    460\n",
       "1135    487\n",
       "1136    502\n",
       "1137    470\n",
       "1138    449\n",
       "1139    464\n",
       "1140    459\n",
       "1141    483\n",
       "1142    510\n",
       "1143    490\n",
       "1144    349\n",
       "1145    358\n",
       "1146    341\n",
       "1147    372\n",
       "1148    339\n",
       "1149    394\n",
       "1150    341\n",
       "1151    384\n",
       "1152    413\n",
       "1153    368\n",
       "1154    383\n",
       "1155    294\n",
       "1156    369\n",
       "1157    438\n",
       "1158    434\n",
       "1159    348\n",
       "1160    464\n",
       "Name: Average_compensation-assistant_professors, Length: 1161, dtype: object"
      ]
     },
     "execution_count": 117,
     "metadata": {},
     "output_type": "execute_result"
    }
   ],
   "source": [
    "vas['Average_compensation-assistant_professors'].replace('?', np.NaN)"
   ]
  },
  {
   "cell_type": "code",
   "execution_count": 119,
   "metadata": {},
   "outputs": [
    {
     "data": {
      "text/plain": [
       "0       567\n",
       "1       914\n",
       "2       716\n",
       "3       825\n",
       "4       530\n",
       "5       542\n",
       "6       558\n",
       "7       692\n",
       "8       655\n",
       "9       607\n",
       "10      421\n",
       "11      585\n",
       "12      433\n",
       "13      436\n",
       "14      375\n",
       "15      710\n",
       "16      518\n",
       "17      388\n",
       "18      560\n",
       "19      487\n",
       "20      746\n",
       "21      786\n",
       "22      771\n",
       "23      645\n",
       "24      621\n",
       "25      561\n",
       "26      505\n",
       "27      618\n",
       "28      550\n",
       "29      646\n",
       "       ... \n",
       "1131    761\n",
       "1132    638\n",
       "1133    553\n",
       "1134    642\n",
       "1135    627\n",
       "1136    653\n",
       "1137    661\n",
       "1138    622\n",
       "1139    658\n",
       "1140    642\n",
       "1141    670\n",
       "1142    680\n",
       "1143    688\n",
       "1144    507\n",
       "1145    501\n",
       "1146    483\n",
       "1147    505\n",
       "1148    480\n",
       "1149    526\n",
       "1150    484\n",
       "1151    576\n",
       "1152    484\n",
       "1153    509\n",
       "1154    508\n",
       "1155    513\n",
       "1156    502\n",
       "1157    642\n",
       "1158    572\n",
       "1159    486\n",
       "1160    658\n",
       "Name: Average_compensation-full_professors, Length: 1161, dtype: object"
      ]
     },
     "execution_count": 119,
     "metadata": {},
     "output_type": "execute_result"
    }
   ],
   "source": [
    "vas['Average_compensation-full_professors'].replace('?', np.NaN)"
   ]
  },
  {
   "cell_type": "code",
   "execution_count": 88,
   "metadata": {},
   "outputs": [
    {
     "data": {
      "text/plain": [
       "FICE                              5.815928e+06\n",
       "College_name                      1.088192e+05\n",
       "State                             1.867817e+02\n",
       "Type                              5.474175e-01\n",
       "Average_salary-all_ranks          8.516839e+03\n",
       "Average_compensation-all_ranks    1.456718e+04\n",
       "Number_of_full_professors         2.033147e+04\n",
       "Number_of_associate_professors    7.995956e+03\n",
       "Number_of_assistant_professors    5.300280e+03\n",
       "Number_of_instructors             3.807998e+02\n",
       "Number_of_faculty-all_ranks       9.865288e+04\n",
       "dtype: float64"
      ]
     },
     "execution_count": 88,
     "metadata": {},
     "output_type": "execute_result"
    }
   ],
   "source": [
    "vas.var()"
   ]
  },
  {
   "cell_type": "markdown",
   "metadata": {},
   "source": [
    "### To clean missing values in the dataset\n",
    "#### that is '?' sign in the some of the values"
   ]
  },
  {
   "cell_type": "markdown",
   "metadata": {},
   "source": [
    "## to fill the missing values use mean "
   ]
  },
  {
   "cell_type": "markdown",
   "metadata": {},
   "source": [
    "## make all misssing values as zero , check through isnull function "
   ]
  },
  {
   "cell_type": "code",
   "execution_count": 150,
   "metadata": {},
   "outputs": [],
   "source": [
    "missing_values=['?']\n",
    "colg=pd.read_csv(\"colleges_aaup.csv\",sep=\",\",na_values = missing_values)"
   ]
  },
  {
   "cell_type": "code",
   "execution_count": 151,
   "metadata": {},
   "outputs": [
    {
     "data": {
      "text/html": [
       "<div>\n",
       "<style scoped>\n",
       "    .dataframe tbody tr th:only-of-type {\n",
       "        vertical-align: middle;\n",
       "    }\n",
       "\n",
       "    .dataframe tbody tr th {\n",
       "        vertical-align: top;\n",
       "    }\n",
       "\n",
       "    .dataframe thead th {\n",
       "        text-align: right;\n",
       "    }\n",
       "</style>\n",
       "<table border=\"1\" class=\"dataframe\">\n",
       "  <thead>\n",
       "    <tr style=\"text-align: right;\">\n",
       "      <th></th>\n",
       "      <th>FICE</th>\n",
       "      <th>College_name</th>\n",
       "      <th>State</th>\n",
       "      <th>Type</th>\n",
       "      <th>Average_salary-full_professors</th>\n",
       "      <th>Average_salary-associate_professors</th>\n",
       "      <th>Average_salary-assistant_professors</th>\n",
       "      <th>Average_salary-all_ranks</th>\n",
       "      <th>Average_compensation-full_professors</th>\n",
       "      <th>Average_compensation-associate_professors</th>\n",
       "      <th>Average_compensation-assistant_professors</th>\n",
       "      <th>Average_compensation-all_ranks</th>\n",
       "      <th>Number_of_full_professors</th>\n",
       "      <th>Number_of_associate_professors</th>\n",
       "      <th>Number_of_assistant_professors</th>\n",
       "      <th>Number_of_instructors</th>\n",
       "      <th>Number_of_faculty-all_ranks</th>\n",
       "    </tr>\n",
       "  </thead>\n",
       "  <tbody>\n",
       "    <tr>\n",
       "      <th>0</th>\n",
       "      <td>1061</td>\n",
       "      <td>Alaska_Pacific_University</td>\n",
       "      <td>AK</td>\n",
       "      <td>IIB</td>\n",
       "      <td>454.0</td>\n",
       "      <td>382.0</td>\n",
       "      <td>362.0</td>\n",
       "      <td>382</td>\n",
       "      <td>567.0</td>\n",
       "      <td>485.0</td>\n",
       "      <td>471.0</td>\n",
       "      <td>487</td>\n",
       "      <td>6</td>\n",
       "      <td>11</td>\n",
       "      <td>9</td>\n",
       "      <td>4</td>\n",
       "      <td>32</td>\n",
       "    </tr>\n",
       "    <tr>\n",
       "      <th>1</th>\n",
       "      <td>1063</td>\n",
       "      <td>UnivAlaska-Fairbanks</td>\n",
       "      <td>AK</td>\n",
       "      <td>I</td>\n",
       "      <td>686.0</td>\n",
       "      <td>560.0</td>\n",
       "      <td>432.0</td>\n",
       "      <td>508</td>\n",
       "      <td>914.0</td>\n",
       "      <td>753.0</td>\n",
       "      <td>572.0</td>\n",
       "      <td>677</td>\n",
       "      <td>74</td>\n",
       "      <td>125</td>\n",
       "      <td>118</td>\n",
       "      <td>40</td>\n",
       "      <td>404</td>\n",
       "    </tr>\n",
       "    <tr>\n",
       "      <th>2</th>\n",
       "      <td>1065</td>\n",
       "      <td>UnivAlaska-Southeast</td>\n",
       "      <td>AK</td>\n",
       "      <td>IIA</td>\n",
       "      <td>533.0</td>\n",
       "      <td>494.0</td>\n",
       "      <td>329.0</td>\n",
       "      <td>415</td>\n",
       "      <td>716.0</td>\n",
       "      <td>663.0</td>\n",
       "      <td>442.0</td>\n",
       "      <td>559</td>\n",
       "      <td>9</td>\n",
       "      <td>26</td>\n",
       "      <td>20</td>\n",
       "      <td>9</td>\n",
       "      <td>70</td>\n",
       "    </tr>\n",
       "    <tr>\n",
       "      <th>3</th>\n",
       "      <td>11462</td>\n",
       "      <td>UnivAlaska-Anchorage</td>\n",
       "      <td>AK</td>\n",
       "      <td>IIA</td>\n",
       "      <td>612.0</td>\n",
       "      <td>507.0</td>\n",
       "      <td>414.0</td>\n",
       "      <td>498</td>\n",
       "      <td>825.0</td>\n",
       "      <td>681.0</td>\n",
       "      <td>557.0</td>\n",
       "      <td>670</td>\n",
       "      <td>115</td>\n",
       "      <td>124</td>\n",
       "      <td>101</td>\n",
       "      <td>21</td>\n",
       "      <td>392</td>\n",
       "    </tr>\n",
       "    <tr>\n",
       "      <th>4</th>\n",
       "      <td>1002</td>\n",
       "      <td>Alabama_Agri_and_Mech_Univ</td>\n",
       "      <td>AL</td>\n",
       "      <td>IIA</td>\n",
       "      <td>442.0</td>\n",
       "      <td>369.0</td>\n",
       "      <td>310.0</td>\n",
       "      <td>350</td>\n",
       "      <td>530.0</td>\n",
       "      <td>444.0</td>\n",
       "      <td>376.0</td>\n",
       "      <td>423</td>\n",
       "      <td>59</td>\n",
       "      <td>77</td>\n",
       "      <td>102</td>\n",
       "      <td>24</td>\n",
       "      <td>262</td>\n",
       "    </tr>\n",
       "  </tbody>\n",
       "</table>\n",
       "</div>"
      ],
      "text/plain": [
       "    FICE                College_name State Type  \\\n",
       "0   1061   Alaska_Pacific_University    AK  IIB   \n",
       "1   1063        UnivAlaska-Fairbanks    AK    I   \n",
       "2   1065        UnivAlaska-Southeast    AK  IIA   \n",
       "3  11462        UnivAlaska-Anchorage    AK  IIA   \n",
       "4   1002  Alabama_Agri_and_Mech_Univ    AL  IIA   \n",
       "\n",
       "   Average_salary-full_professors  Average_salary-associate_professors  \\\n",
       "0                           454.0                                382.0   \n",
       "1                           686.0                                560.0   \n",
       "2                           533.0                                494.0   \n",
       "3                           612.0                                507.0   \n",
       "4                           442.0                                369.0   \n",
       "\n",
       "   Average_salary-assistant_professors  Average_salary-all_ranks  \\\n",
       "0                                362.0                       382   \n",
       "1                                432.0                       508   \n",
       "2                                329.0                       415   \n",
       "3                                414.0                       498   \n",
       "4                                310.0                       350   \n",
       "\n",
       "   Average_compensation-full_professors  \\\n",
       "0                                 567.0   \n",
       "1                                 914.0   \n",
       "2                                 716.0   \n",
       "3                                 825.0   \n",
       "4                                 530.0   \n",
       "\n",
       "   Average_compensation-associate_professors  \\\n",
       "0                                      485.0   \n",
       "1                                      753.0   \n",
       "2                                      663.0   \n",
       "3                                      681.0   \n",
       "4                                      444.0   \n",
       "\n",
       "   Average_compensation-assistant_professors  Average_compensation-all_ranks  \\\n",
       "0                                      471.0                             487   \n",
       "1                                      572.0                             677   \n",
       "2                                      442.0                             559   \n",
       "3                                      557.0                             670   \n",
       "4                                      376.0                             423   \n",
       "\n",
       "   Number_of_full_professors  Number_of_associate_professors  \\\n",
       "0                          6                              11   \n",
       "1                         74                             125   \n",
       "2                          9                              26   \n",
       "3                        115                             124   \n",
       "4                         59                              77   \n",
       "\n",
       "   Number_of_assistant_professors  Number_of_instructors  \\\n",
       "0                               9                      4   \n",
       "1                             118                     40   \n",
       "2                              20                      9   \n",
       "3                             101                     21   \n",
       "4                             102                     24   \n",
       "\n",
       "   Number_of_faculty-all_ranks  \n",
       "0                           32  \n",
       "1                          404  \n",
       "2                           70  \n",
       "3                          392  \n",
       "4                          262  "
      ]
     },
     "execution_count": 151,
     "metadata": {},
     "output_type": "execute_result"
    }
   ],
   "source": [
    "colg.head()"
   ]
  },
  {
   "cell_type": "code",
   "execution_count": 152,
   "metadata": {},
   "outputs": [
    {
     "data": {
      "text/plain": [
       "(1161, 17)"
      ]
     },
     "execution_count": 152,
     "metadata": {},
     "output_type": "execute_result"
    }
   ],
   "source": [
    "colg.shape"
   ]
  },
  {
   "cell_type": "code",
   "execution_count": 153,
   "metadata": {},
   "outputs": [
    {
     "data": {
      "text/plain": [
       "array([ 0,  1,  2,  3,  4,  5,  6,  7,  8,  9, 10, 11, 12, 13, 14, 15, 16,\n",
       "       17, 18, 19, 20, 21, 22, 23, 24, 25, 26, 27, 28, 29, 30, 31, 32, 33,\n",
       "       34, 35, 36, 37, 38, 39, 40, 41, 42, 43, 44, 45, 46, 47, 48, 49, 50,\n",
       "       51], dtype=int64)"
      ]
     },
     "execution_count": 153,
     "metadata": {},
     "output_type": "execute_result"
    }
   ],
   "source": [
    "### label encoder\n",
    "from sklearn import preprocessing \n",
    "  \n",
    "# label_encoder object knows how to understand word labels. \n",
    "label_encoder = preprocessing.LabelEncoder() \n",
    "  \n",
    "# Encode labels in column 'species'. \n",
    "colg['State']= label_encoder.fit_transform(colg['State']) \n",
    "  \n",
    "colg['State'].unique()"
   ]
  },
  {
   "cell_type": "code",
   "execution_count": 154,
   "metadata": {},
   "outputs": [
    {
     "data": {
      "text/plain": [
       "array([   5,  864,  865, ..., 1089, 1107, 1003], dtype=int64)"
      ]
     },
     "execution_count": 154,
     "metadata": {},
     "output_type": "execute_result"
    }
   ],
   "source": [
    "### label encoder\n",
    "from sklearn import preprocessing \n",
    "  \n",
    "# label_encoder object knows how to understand word labels. \n",
    "label_encoder = preprocessing.LabelEncoder() \n",
    "  \n",
    "# Encode labels in column 'species'. \n",
    "colg['College_name']= label_encoder.fit_transform(colg['College_name']) \n",
    "  \n",
    "colg['College_name'].unique()"
   ]
  },
  {
   "cell_type": "code",
   "execution_count": 155,
   "metadata": {},
   "outputs": [
    {
     "data": {
      "text/plain": [
       "array([2, 0, 1, 3], dtype=int64)"
      ]
     },
     "execution_count": 155,
     "metadata": {},
     "output_type": "execute_result"
    }
   ],
   "source": [
    "### label encoder\n",
    "from sklearn import preprocessing \n",
    "  \n",
    "# label_encoder object knows how to understand word labels. \n",
    "label_encoder = preprocessing.LabelEncoder() \n",
    "  \n",
    "# Encode labels in column 'species'. \n",
    "colg['Type']= label_encoder.fit_transform(colg['Type']) \n",
    "  \n",
    "colg['Type'].unique()"
   ]
  },
  {
   "cell_type": "code",
   "execution_count": 156,
   "metadata": {},
   "outputs": [
    {
     "data": {
      "text/html": [
       "<div>\n",
       "<style scoped>\n",
       "    .dataframe tbody tr th:only-of-type {\n",
       "        vertical-align: middle;\n",
       "    }\n",
       "\n",
       "    .dataframe tbody tr th {\n",
       "        vertical-align: top;\n",
       "    }\n",
       "\n",
       "    .dataframe thead th {\n",
       "        text-align: right;\n",
       "    }\n",
       "</style>\n",
       "<table border=\"1\" class=\"dataframe\">\n",
       "  <thead>\n",
       "    <tr style=\"text-align: right;\">\n",
       "      <th></th>\n",
       "      <th>FICE</th>\n",
       "      <th>College_name</th>\n",
       "      <th>State</th>\n",
       "      <th>Type</th>\n",
       "      <th>Average_salary-full_professors</th>\n",
       "      <th>Average_salary-associate_professors</th>\n",
       "      <th>Average_salary-assistant_professors</th>\n",
       "      <th>Average_salary-all_ranks</th>\n",
       "      <th>Average_compensation-full_professors</th>\n",
       "      <th>Average_compensation-associate_professors</th>\n",
       "      <th>Average_compensation-assistant_professors</th>\n",
       "      <th>Average_compensation-all_ranks</th>\n",
       "      <th>Number_of_full_professors</th>\n",
       "      <th>Number_of_associate_professors</th>\n",
       "      <th>Number_of_assistant_professors</th>\n",
       "      <th>Number_of_instructors</th>\n",
       "      <th>Number_of_faculty-all_ranks</th>\n",
       "    </tr>\n",
       "  </thead>\n",
       "  <tbody>\n",
       "    <tr>\n",
       "      <th>0</th>\n",
       "      <td>1061</td>\n",
       "      <td>5</td>\n",
       "      <td>0</td>\n",
       "      <td>2</td>\n",
       "      <td>454.0</td>\n",
       "      <td>382.0</td>\n",
       "      <td>362.0</td>\n",
       "      <td>382</td>\n",
       "      <td>567.0</td>\n",
       "      <td>485.0</td>\n",
       "      <td>471.0</td>\n",
       "      <td>487</td>\n",
       "      <td>6</td>\n",
       "      <td>11</td>\n",
       "      <td>9</td>\n",
       "      <td>4</td>\n",
       "      <td>32</td>\n",
       "    </tr>\n",
       "    <tr>\n",
       "      <th>1</th>\n",
       "      <td>1063</td>\n",
       "      <td>864</td>\n",
       "      <td>0</td>\n",
       "      <td>0</td>\n",
       "      <td>686.0</td>\n",
       "      <td>560.0</td>\n",
       "      <td>432.0</td>\n",
       "      <td>508</td>\n",
       "      <td>914.0</td>\n",
       "      <td>753.0</td>\n",
       "      <td>572.0</td>\n",
       "      <td>677</td>\n",
       "      <td>74</td>\n",
       "      <td>125</td>\n",
       "      <td>118</td>\n",
       "      <td>40</td>\n",
       "      <td>404</td>\n",
       "    </tr>\n",
       "    <tr>\n",
       "      <th>2</th>\n",
       "      <td>1065</td>\n",
       "      <td>865</td>\n",
       "      <td>0</td>\n",
       "      <td>1</td>\n",
       "      <td>533.0</td>\n",
       "      <td>494.0</td>\n",
       "      <td>329.0</td>\n",
       "      <td>415</td>\n",
       "      <td>716.0</td>\n",
       "      <td>663.0</td>\n",
       "      <td>442.0</td>\n",
       "      <td>559</td>\n",
       "      <td>9</td>\n",
       "      <td>26</td>\n",
       "      <td>20</td>\n",
       "      <td>9</td>\n",
       "      <td>70</td>\n",
       "    </tr>\n",
       "    <tr>\n",
       "      <th>3</th>\n",
       "      <td>11462</td>\n",
       "      <td>863</td>\n",
       "      <td>0</td>\n",
       "      <td>1</td>\n",
       "      <td>612.0</td>\n",
       "      <td>507.0</td>\n",
       "      <td>414.0</td>\n",
       "      <td>498</td>\n",
       "      <td>825.0</td>\n",
       "      <td>681.0</td>\n",
       "      <td>557.0</td>\n",
       "      <td>670</td>\n",
       "      <td>115</td>\n",
       "      <td>124</td>\n",
       "      <td>101</td>\n",
       "      <td>21</td>\n",
       "      <td>392</td>\n",
       "    </tr>\n",
       "    <tr>\n",
       "      <th>4</th>\n",
       "      <td>1002</td>\n",
       "      <td>4</td>\n",
       "      <td>1</td>\n",
       "      <td>1</td>\n",
       "      <td>442.0</td>\n",
       "      <td>369.0</td>\n",
       "      <td>310.0</td>\n",
       "      <td>350</td>\n",
       "      <td>530.0</td>\n",
       "      <td>444.0</td>\n",
       "      <td>376.0</td>\n",
       "      <td>423</td>\n",
       "      <td>59</td>\n",
       "      <td>77</td>\n",
       "      <td>102</td>\n",
       "      <td>24</td>\n",
       "      <td>262</td>\n",
       "    </tr>\n",
       "  </tbody>\n",
       "</table>\n",
       "</div>"
      ],
      "text/plain": [
       "    FICE  College_name  State  Type  Average_salary-full_professors  \\\n",
       "0   1061             5      0     2                           454.0   \n",
       "1   1063           864      0     0                           686.0   \n",
       "2   1065           865      0     1                           533.0   \n",
       "3  11462           863      0     1                           612.0   \n",
       "4   1002             4      1     1                           442.0   \n",
       "\n",
       "   Average_salary-associate_professors  Average_salary-assistant_professors  \\\n",
       "0                                382.0                                362.0   \n",
       "1                                560.0                                432.0   \n",
       "2                                494.0                                329.0   \n",
       "3                                507.0                                414.0   \n",
       "4                                369.0                                310.0   \n",
       "\n",
       "   Average_salary-all_ranks  Average_compensation-full_professors  \\\n",
       "0                       382                                 567.0   \n",
       "1                       508                                 914.0   \n",
       "2                       415                                 716.0   \n",
       "3                       498                                 825.0   \n",
       "4                       350                                 530.0   \n",
       "\n",
       "   Average_compensation-associate_professors  \\\n",
       "0                                      485.0   \n",
       "1                                      753.0   \n",
       "2                                      663.0   \n",
       "3                                      681.0   \n",
       "4                                      444.0   \n",
       "\n",
       "   Average_compensation-assistant_professors  Average_compensation-all_ranks  \\\n",
       "0                                      471.0                             487   \n",
       "1                                      572.0                             677   \n",
       "2                                      442.0                             559   \n",
       "3                                      557.0                             670   \n",
       "4                                      376.0                             423   \n",
       "\n",
       "   Number_of_full_professors  Number_of_associate_professors  \\\n",
       "0                          6                              11   \n",
       "1                         74                             125   \n",
       "2                          9                              26   \n",
       "3                        115                             124   \n",
       "4                         59                              77   \n",
       "\n",
       "   Number_of_assistant_professors  Number_of_instructors  \\\n",
       "0                               9                      4   \n",
       "1                             118                     40   \n",
       "2                              20                      9   \n",
       "3                             101                     21   \n",
       "4                             102                     24   \n",
       "\n",
       "   Number_of_faculty-all_ranks  \n",
       "0                           32  \n",
       "1                          404  \n",
       "2                           70  \n",
       "3                          392  \n",
       "4                          262  "
      ]
     },
     "execution_count": 156,
     "metadata": {},
     "output_type": "execute_result"
    }
   ],
   "source": [
    "colg.head()"
   ]
  },
  {
   "cell_type": "code",
   "execution_count": 162,
   "metadata": {},
   "outputs": [
    {
     "name": "stdout",
     "output_type": "stream",
     "text": [
      "<class 'pandas.core.frame.DataFrame'>\n",
      "RangeIndex: 1161 entries, 0 to 1160\n",
      "Data columns (total 17 columns):\n",
      "FICE                                         1161 non-null int64\n",
      "College_name                                 1161 non-null int32\n",
      "State                                        1161 non-null int32\n",
      "Type                                         1161 non-null int32\n",
      "Average_salary-full_professors               1093 non-null float64\n",
      "Average_salary-associate_professors          1125 non-null float64\n",
      "Average_salary-assistant_professors          1137 non-null float64\n",
      "Average_salary-all_ranks                     1161 non-null int64\n",
      "Average_compensation-full_professors         1093 non-null float64\n",
      "Average_compensation-associate_professors    1125 non-null float64\n",
      "Average_compensation-assistant_professors    1137 non-null float64\n",
      "Average_compensation-all_ranks               1161 non-null int64\n",
      "Number_of_full_professors                    1161 non-null int64\n",
      "Number_of_associate_professors               1161 non-null int64\n",
      "Number_of_assistant_professors               1161 non-null int64\n",
      "Number_of_instructors                        1161 non-null int64\n",
      "Number_of_faculty-all_ranks                  1161 non-null int64\n",
      "dtypes: float64(6), int32(3), int64(8)\n",
      "memory usage: 140.7 KB\n"
     ]
    }
   ],
   "source": [
    "colg.info()"
   ]
  },
  {
   "cell_type": "code",
   "execution_count": 163,
   "metadata": {},
   "outputs": [
    {
     "data": {
      "text/plain": [
       "FICE                                          0\n",
       "College_name                                  0\n",
       "State                                         0\n",
       "Type                                          0\n",
       "Average_salary-full_professors               68\n",
       "Average_salary-associate_professors          36\n",
       "Average_salary-assistant_professors          24\n",
       "Average_salary-all_ranks                      0\n",
       "Average_compensation-full_professors         68\n",
       "Average_compensation-associate_professors    36\n",
       "Average_compensation-assistant_professors    24\n",
       "Average_compensation-all_ranks                0\n",
       "Number_of_full_professors                     0\n",
       "Number_of_associate_professors                0\n",
       "Number_of_assistant_professors                0\n",
       "Number_of_instructors                         0\n",
       "Number_of_faculty-all_ranks                   0\n",
       "dtype: int64"
      ]
     },
     "execution_count": 163,
     "metadata": {},
     "output_type": "execute_result"
    }
   ],
   "source": [
    "colg.isnull().sum()"
   ]
  },
  {
   "cell_type": "code",
   "execution_count": 164,
   "metadata": {},
   "outputs": [
    {
     "data": {
      "text/plain": [
       "float"
      ]
     },
     "execution_count": 164,
     "metadata": {},
     "output_type": "execute_result"
    }
   ],
   "source": [
    "type(np.NaN)"
   ]
  },
  {
   "cell_type": "code",
   "execution_count": 165,
   "metadata": {},
   "outputs": [
    {
     "data": {
      "text/plain": [
       "count    1093.000000\n",
       "mean      653.487649\n",
       "std       151.754764\n",
       "min       319.000000\n",
       "25%       547.000000\n",
       "50%       635.000000\n",
       "75%       753.000000\n",
       "max      1236.000000\n",
       "Name: Average_compensation-full_professors, dtype: float64"
      ]
     },
     "execution_count": 165,
     "metadata": {},
     "output_type": "execute_result"
    }
   ],
   "source": [
    "colg['Average_compensation-full_professors'].describe()"
   ]
  },
  {
   "cell_type": "code",
   "execution_count": 166,
   "metadata": {},
   "outputs": [],
   "source": [
    "colg['Average_compensation-full_professors'].fillna(colg['Average_compensation-full_professors'].mean(), inplace=True)"
   ]
  },
  {
   "cell_type": "code",
   "execution_count": 167,
   "metadata": {},
   "outputs": [],
   "source": [
    "colg.fillna(colg.mean(),inplace= True)"
   ]
  },
  {
   "cell_type": "code",
   "execution_count": 168,
   "metadata": {},
   "outputs": [
    {
     "data": {
      "text/plain": [
       "FICE                                         0\n",
       "College_name                                 0\n",
       "State                                        0\n",
       "Type                                         0\n",
       "Average_salary-full_professors               0\n",
       "Average_salary-associate_professors          0\n",
       "Average_salary-assistant_professors          0\n",
       "Average_salary-all_ranks                     0\n",
       "Average_compensation-full_professors         0\n",
       "Average_compensation-associate_professors    0\n",
       "Average_compensation-assistant_professors    0\n",
       "Average_compensation-all_ranks               0\n",
       "Number_of_full_professors                    0\n",
       "Number_of_associate_professors               0\n",
       "Number_of_assistant_professors               0\n",
       "Number_of_instructors                        0\n",
       "Number_of_faculty-all_ranks                  0\n",
       "dtype: int64"
      ]
     },
     "execution_count": 168,
     "metadata": {},
     "output_type": "execute_result"
    }
   ],
   "source": [
    "colg.isnull().sum()"
   ]
  },
  {
   "cell_type": "code",
   "execution_count": 171,
   "metadata": {},
   "outputs": [],
   "source": [
    "xxx=colg.drop(columns=\"FICE\")"
   ]
  },
  {
   "cell_type": "code",
   "execution_count": 172,
   "metadata": {},
   "outputs": [
    {
     "data": {
      "text/html": [
       "<div>\n",
       "<style scoped>\n",
       "    .dataframe tbody tr th:only-of-type {\n",
       "        vertical-align: middle;\n",
       "    }\n",
       "\n",
       "    .dataframe tbody tr th {\n",
       "        vertical-align: top;\n",
       "    }\n",
       "\n",
       "    .dataframe thead th {\n",
       "        text-align: right;\n",
       "    }\n",
       "</style>\n",
       "<table border=\"1\" class=\"dataframe\">\n",
       "  <thead>\n",
       "    <tr style=\"text-align: right;\">\n",
       "      <th></th>\n",
       "      <th>College_name</th>\n",
       "      <th>State</th>\n",
       "      <th>Type</th>\n",
       "      <th>Average_salary-full_professors</th>\n",
       "      <th>Average_salary-associate_professors</th>\n",
       "      <th>Average_salary-assistant_professors</th>\n",
       "      <th>Average_salary-all_ranks</th>\n",
       "      <th>Average_compensation-full_professors</th>\n",
       "      <th>Average_compensation-associate_professors</th>\n",
       "      <th>Average_compensation-assistant_professors</th>\n",
       "      <th>Average_compensation-all_ranks</th>\n",
       "      <th>Number_of_full_professors</th>\n",
       "      <th>Number_of_associate_professors</th>\n",
       "      <th>Number_of_assistant_professors</th>\n",
       "      <th>Number_of_instructors</th>\n",
       "      <th>Number_of_faculty-all_ranks</th>\n",
       "    </tr>\n",
       "  </thead>\n",
       "  <tbody>\n",
       "    <tr>\n",
       "      <th>0</th>\n",
       "      <td>5</td>\n",
       "      <td>0</td>\n",
       "      <td>2</td>\n",
       "      <td>454.0</td>\n",
       "      <td>382.0</td>\n",
       "      <td>362.0</td>\n",
       "      <td>382</td>\n",
       "      <td>567.0</td>\n",
       "      <td>485.0</td>\n",
       "      <td>471.0</td>\n",
       "      <td>487</td>\n",
       "      <td>6</td>\n",
       "      <td>11</td>\n",
       "      <td>9</td>\n",
       "      <td>4</td>\n",
       "      <td>32</td>\n",
       "    </tr>\n",
       "    <tr>\n",
       "      <th>1</th>\n",
       "      <td>864</td>\n",
       "      <td>0</td>\n",
       "      <td>0</td>\n",
       "      <td>686.0</td>\n",
       "      <td>560.0</td>\n",
       "      <td>432.0</td>\n",
       "      <td>508</td>\n",
       "      <td>914.0</td>\n",
       "      <td>753.0</td>\n",
       "      <td>572.0</td>\n",
       "      <td>677</td>\n",
       "      <td>74</td>\n",
       "      <td>125</td>\n",
       "      <td>118</td>\n",
       "      <td>40</td>\n",
       "      <td>404</td>\n",
       "    </tr>\n",
       "    <tr>\n",
       "      <th>2</th>\n",
       "      <td>865</td>\n",
       "      <td>0</td>\n",
       "      <td>1</td>\n",
       "      <td>533.0</td>\n",
       "      <td>494.0</td>\n",
       "      <td>329.0</td>\n",
       "      <td>415</td>\n",
       "      <td>716.0</td>\n",
       "      <td>663.0</td>\n",
       "      <td>442.0</td>\n",
       "      <td>559</td>\n",
       "      <td>9</td>\n",
       "      <td>26</td>\n",
       "      <td>20</td>\n",
       "      <td>9</td>\n",
       "      <td>70</td>\n",
       "    </tr>\n",
       "    <tr>\n",
       "      <th>3</th>\n",
       "      <td>863</td>\n",
       "      <td>0</td>\n",
       "      <td>1</td>\n",
       "      <td>612.0</td>\n",
       "      <td>507.0</td>\n",
       "      <td>414.0</td>\n",
       "      <td>498</td>\n",
       "      <td>825.0</td>\n",
       "      <td>681.0</td>\n",
       "      <td>557.0</td>\n",
       "      <td>670</td>\n",
       "      <td>115</td>\n",
       "      <td>124</td>\n",
       "      <td>101</td>\n",
       "      <td>21</td>\n",
       "      <td>392</td>\n",
       "    </tr>\n",
       "    <tr>\n",
       "      <th>4</th>\n",
       "      <td>4</td>\n",
       "      <td>1</td>\n",
       "      <td>1</td>\n",
       "      <td>442.0</td>\n",
       "      <td>369.0</td>\n",
       "      <td>310.0</td>\n",
       "      <td>350</td>\n",
       "      <td>530.0</td>\n",
       "      <td>444.0</td>\n",
       "      <td>376.0</td>\n",
       "      <td>423</td>\n",
       "      <td>59</td>\n",
       "      <td>77</td>\n",
       "      <td>102</td>\n",
       "      <td>24</td>\n",
       "      <td>262</td>\n",
       "    </tr>\n",
       "  </tbody>\n",
       "</table>\n",
       "</div>"
      ],
      "text/plain": [
       "   College_name  State  Type  Average_salary-full_professors  \\\n",
       "0             5      0     2                           454.0   \n",
       "1           864      0     0                           686.0   \n",
       "2           865      0     1                           533.0   \n",
       "3           863      0     1                           612.0   \n",
       "4             4      1     1                           442.0   \n",
       "\n",
       "   Average_salary-associate_professors  Average_salary-assistant_professors  \\\n",
       "0                                382.0                                362.0   \n",
       "1                                560.0                                432.0   \n",
       "2                                494.0                                329.0   \n",
       "3                                507.0                                414.0   \n",
       "4                                369.0                                310.0   \n",
       "\n",
       "   Average_salary-all_ranks  Average_compensation-full_professors  \\\n",
       "0                       382                                 567.0   \n",
       "1                       508                                 914.0   \n",
       "2                       415                                 716.0   \n",
       "3                       498                                 825.0   \n",
       "4                       350                                 530.0   \n",
       "\n",
       "   Average_compensation-associate_professors  \\\n",
       "0                                      485.0   \n",
       "1                                      753.0   \n",
       "2                                      663.0   \n",
       "3                                      681.0   \n",
       "4                                      444.0   \n",
       "\n",
       "   Average_compensation-assistant_professors  Average_compensation-all_ranks  \\\n",
       "0                                      471.0                             487   \n",
       "1                                      572.0                             677   \n",
       "2                                      442.0                             559   \n",
       "3                                      557.0                             670   \n",
       "4                                      376.0                             423   \n",
       "\n",
       "   Number_of_full_professors  Number_of_associate_professors  \\\n",
       "0                          6                              11   \n",
       "1                         74                             125   \n",
       "2                          9                              26   \n",
       "3                        115                             124   \n",
       "4                         59                              77   \n",
       "\n",
       "   Number_of_assistant_professors  Number_of_instructors  \\\n",
       "0                               9                      4   \n",
       "1                             118                     40   \n",
       "2                              20                      9   \n",
       "3                             101                     21   \n",
       "4                             102                     24   \n",
       "\n",
       "   Number_of_faculty-all_ranks  \n",
       "0                           32  \n",
       "1                          404  \n",
       "2                           70  \n",
       "3                          392  \n",
       "4                          262  "
      ]
     },
     "execution_count": 172,
     "metadata": {},
     "output_type": "execute_result"
    }
   ],
   "source": [
    "xxx.head()"
   ]
  },
  {
   "cell_type": "code",
   "execution_count": 175,
   "metadata": {},
   "outputs": [],
   "source": [
    "yy=xxx.drop(columns=\"College_name\")"
   ]
  },
  {
   "cell_type": "code",
   "execution_count": 176,
   "metadata": {},
   "outputs": [
    {
     "data": {
      "text/html": [
       "<div>\n",
       "<style scoped>\n",
       "    .dataframe tbody tr th:only-of-type {\n",
       "        vertical-align: middle;\n",
       "    }\n",
       "\n",
       "    .dataframe tbody tr th {\n",
       "        vertical-align: top;\n",
       "    }\n",
       "\n",
       "    .dataframe thead th {\n",
       "        text-align: right;\n",
       "    }\n",
       "</style>\n",
       "<table border=\"1\" class=\"dataframe\">\n",
       "  <thead>\n",
       "    <tr style=\"text-align: right;\">\n",
       "      <th></th>\n",
       "      <th>State</th>\n",
       "      <th>Type</th>\n",
       "      <th>Average_salary-full_professors</th>\n",
       "      <th>Average_salary-associate_professors</th>\n",
       "      <th>Average_salary-assistant_professors</th>\n",
       "      <th>Average_salary-all_ranks</th>\n",
       "      <th>Average_compensation-full_professors</th>\n",
       "      <th>Average_compensation-associate_professors</th>\n",
       "      <th>Average_compensation-assistant_professors</th>\n",
       "      <th>Average_compensation-all_ranks</th>\n",
       "      <th>Number_of_full_professors</th>\n",
       "      <th>Number_of_associate_professors</th>\n",
       "      <th>Number_of_assistant_professors</th>\n",
       "      <th>Number_of_instructors</th>\n",
       "      <th>Number_of_faculty-all_ranks</th>\n",
       "    </tr>\n",
       "  </thead>\n",
       "  <tbody>\n",
       "    <tr>\n",
       "      <th>0</th>\n",
       "      <td>0</td>\n",
       "      <td>2</td>\n",
       "      <td>454.0</td>\n",
       "      <td>382.0</td>\n",
       "      <td>362.0</td>\n",
       "      <td>382</td>\n",
       "      <td>567.0</td>\n",
       "      <td>485.0</td>\n",
       "      <td>471.0</td>\n",
       "      <td>487</td>\n",
       "      <td>6</td>\n",
       "      <td>11</td>\n",
       "      <td>9</td>\n",
       "      <td>4</td>\n",
       "      <td>32</td>\n",
       "    </tr>\n",
       "    <tr>\n",
       "      <th>1</th>\n",
       "      <td>0</td>\n",
       "      <td>0</td>\n",
       "      <td>686.0</td>\n",
       "      <td>560.0</td>\n",
       "      <td>432.0</td>\n",
       "      <td>508</td>\n",
       "      <td>914.0</td>\n",
       "      <td>753.0</td>\n",
       "      <td>572.0</td>\n",
       "      <td>677</td>\n",
       "      <td>74</td>\n",
       "      <td>125</td>\n",
       "      <td>118</td>\n",
       "      <td>40</td>\n",
       "      <td>404</td>\n",
       "    </tr>\n",
       "    <tr>\n",
       "      <th>2</th>\n",
       "      <td>0</td>\n",
       "      <td>1</td>\n",
       "      <td>533.0</td>\n",
       "      <td>494.0</td>\n",
       "      <td>329.0</td>\n",
       "      <td>415</td>\n",
       "      <td>716.0</td>\n",
       "      <td>663.0</td>\n",
       "      <td>442.0</td>\n",
       "      <td>559</td>\n",
       "      <td>9</td>\n",
       "      <td>26</td>\n",
       "      <td>20</td>\n",
       "      <td>9</td>\n",
       "      <td>70</td>\n",
       "    </tr>\n",
       "    <tr>\n",
       "      <th>3</th>\n",
       "      <td>0</td>\n",
       "      <td>1</td>\n",
       "      <td>612.0</td>\n",
       "      <td>507.0</td>\n",
       "      <td>414.0</td>\n",
       "      <td>498</td>\n",
       "      <td>825.0</td>\n",
       "      <td>681.0</td>\n",
       "      <td>557.0</td>\n",
       "      <td>670</td>\n",
       "      <td>115</td>\n",
       "      <td>124</td>\n",
       "      <td>101</td>\n",
       "      <td>21</td>\n",
       "      <td>392</td>\n",
       "    </tr>\n",
       "    <tr>\n",
       "      <th>4</th>\n",
       "      <td>1</td>\n",
       "      <td>1</td>\n",
       "      <td>442.0</td>\n",
       "      <td>369.0</td>\n",
       "      <td>310.0</td>\n",
       "      <td>350</td>\n",
       "      <td>530.0</td>\n",
       "      <td>444.0</td>\n",
       "      <td>376.0</td>\n",
       "      <td>423</td>\n",
       "      <td>59</td>\n",
       "      <td>77</td>\n",
       "      <td>102</td>\n",
       "      <td>24</td>\n",
       "      <td>262</td>\n",
       "    </tr>\n",
       "  </tbody>\n",
       "</table>\n",
       "</div>"
      ],
      "text/plain": [
       "   State  Type  Average_salary-full_professors  \\\n",
       "0      0     2                           454.0   \n",
       "1      0     0                           686.0   \n",
       "2      0     1                           533.0   \n",
       "3      0     1                           612.0   \n",
       "4      1     1                           442.0   \n",
       "\n",
       "   Average_salary-associate_professors  Average_salary-assistant_professors  \\\n",
       "0                                382.0                                362.0   \n",
       "1                                560.0                                432.0   \n",
       "2                                494.0                                329.0   \n",
       "3                                507.0                                414.0   \n",
       "4                                369.0                                310.0   \n",
       "\n",
       "   Average_salary-all_ranks  Average_compensation-full_professors  \\\n",
       "0                       382                                 567.0   \n",
       "1                       508                                 914.0   \n",
       "2                       415                                 716.0   \n",
       "3                       498                                 825.0   \n",
       "4                       350                                 530.0   \n",
       "\n",
       "   Average_compensation-associate_professors  \\\n",
       "0                                      485.0   \n",
       "1                                      753.0   \n",
       "2                                      663.0   \n",
       "3                                      681.0   \n",
       "4                                      444.0   \n",
       "\n",
       "   Average_compensation-assistant_professors  Average_compensation-all_ranks  \\\n",
       "0                                      471.0                             487   \n",
       "1                                      572.0                             677   \n",
       "2                                      442.0                             559   \n",
       "3                                      557.0                             670   \n",
       "4                                      376.0                             423   \n",
       "\n",
       "   Number_of_full_professors  Number_of_associate_professors  \\\n",
       "0                          6                              11   \n",
       "1                         74                             125   \n",
       "2                          9                              26   \n",
       "3                        115                             124   \n",
       "4                         59                              77   \n",
       "\n",
       "   Number_of_assistant_professors  Number_of_instructors  \\\n",
       "0                               9                      4   \n",
       "1                             118                     40   \n",
       "2                              20                      9   \n",
       "3                             101                     21   \n",
       "4                             102                     24   \n",
       "\n",
       "   Number_of_faculty-all_ranks  \n",
       "0                           32  \n",
       "1                          404  \n",
       "2                           70  \n",
       "3                          392  \n",
       "4                          262  "
      ]
     },
     "execution_count": 176,
     "metadata": {},
     "output_type": "execute_result"
    }
   ],
   "source": [
    "yy.head()"
   ]
  },
  {
   "cell_type": "markdown",
   "metadata": {},
   "source": [
    "#### one hot encoder "
   ]
  },
  {
   "cell_type": "code",
   "execution_count": 177,
   "metadata": {},
   "outputs": [],
   "source": [
    "from sklearn.preprocessing import OneHotEncoder"
   ]
  },
  {
   "cell_type": "code",
   "execution_count": 184,
   "metadata": {},
   "outputs": [],
   "source": [
    "one = OneHotEncoder(categorical_features = [5,5])\n"
   ]
  },
  {
   "cell_type": "code",
   "execution_count": 185,
   "metadata": {},
   "outputs": [
    {
     "name": "stderr",
     "output_type": "stream",
     "text": [
      "C:\\Users\\DELL\\Anaconda3\\lib\\site-packages\\sklearn\\preprocessing\\_encoders.py:371: FutureWarning:\n",
      "\n",
      "The handling of integer data will change in version 0.22. Currently, the categories are determined based on the range [0, max(values)], while in the future they will be determined based on the unique values.\n",
      "If you want the future behaviour and silence this warning, you can specify \"categories='auto'\".\n",
      "In case you used a LabelEncoder before this OneHotEncoder to convert the categories to integers, then you can now use the OneHotEncoder directly.\n",
      "\n",
      "C:\\Users\\DELL\\Anaconda3\\lib\\site-packages\\sklearn\\preprocessing\\_encoders.py:392: DeprecationWarning:\n",
      "\n",
      "The 'categorical_features' keyword is deprecated in version 0.20 and will be removed in 0.22. You can use the ColumnTransformer instead.\n",
      "\n"
     ]
    }
   ],
   "source": [
    "vas = one.fit_transform(yy).toarray()"
   ]
  },
  {
   "cell_type": "code",
   "execution_count": 186,
   "metadata": {},
   "outputs": [],
   "source": [
    "vas= pd.DataFrame(vas)"
   ]
  },
  {
   "cell_type": "code",
   "execution_count": 187,
   "metadata": {},
   "outputs": [
    {
     "data": {
      "text/html": [
       "<div>\n",
       "<style scoped>\n",
       "    .dataframe tbody tr th:only-of-type {\n",
       "        vertical-align: middle;\n",
       "    }\n",
       "\n",
       "    .dataframe tbody tr th {\n",
       "        vertical-align: top;\n",
       "    }\n",
       "\n",
       "    .dataframe thead th {\n",
       "        text-align: right;\n",
       "    }\n",
       "</style>\n",
       "<table border=\"1\" class=\"dataframe\">\n",
       "  <thead>\n",
       "    <tr style=\"text-align: right;\">\n",
       "      <th></th>\n",
       "      <th>0</th>\n",
       "      <th>1</th>\n",
       "      <th>2</th>\n",
       "      <th>3</th>\n",
       "      <th>4</th>\n",
       "      <th>5</th>\n",
       "      <th>6</th>\n",
       "      <th>7</th>\n",
       "      <th>8</th>\n",
       "      <th>9</th>\n",
       "      <th>...</th>\n",
       "      <th>349</th>\n",
       "      <th>350</th>\n",
       "      <th>351</th>\n",
       "      <th>352</th>\n",
       "      <th>353</th>\n",
       "      <th>354</th>\n",
       "      <th>355</th>\n",
       "      <th>356</th>\n",
       "      <th>357</th>\n",
       "      <th>358</th>\n",
       "    </tr>\n",
       "  </thead>\n",
       "  <tbody>\n",
       "    <tr>\n",
       "      <th>0</th>\n",
       "      <td>0.0</td>\n",
       "      <td>0.0</td>\n",
       "      <td>0.0</td>\n",
       "      <td>0.0</td>\n",
       "      <td>0.0</td>\n",
       "      <td>0.0</td>\n",
       "      <td>0.0</td>\n",
       "      <td>0.0</td>\n",
       "      <td>0.0</td>\n",
       "      <td>0.0</td>\n",
       "      <td>...</td>\n",
       "      <td>362.0</td>\n",
       "      <td>567.0</td>\n",
       "      <td>485.0</td>\n",
       "      <td>471.0</td>\n",
       "      <td>487.0</td>\n",
       "      <td>6.0</td>\n",
       "      <td>11.0</td>\n",
       "      <td>9.0</td>\n",
       "      <td>4.0</td>\n",
       "      <td>32.0</td>\n",
       "    </tr>\n",
       "    <tr>\n",
       "      <th>1</th>\n",
       "      <td>0.0</td>\n",
       "      <td>0.0</td>\n",
       "      <td>0.0</td>\n",
       "      <td>0.0</td>\n",
       "      <td>0.0</td>\n",
       "      <td>0.0</td>\n",
       "      <td>0.0</td>\n",
       "      <td>0.0</td>\n",
       "      <td>0.0</td>\n",
       "      <td>0.0</td>\n",
       "      <td>...</td>\n",
       "      <td>432.0</td>\n",
       "      <td>914.0</td>\n",
       "      <td>753.0</td>\n",
       "      <td>572.0</td>\n",
       "      <td>677.0</td>\n",
       "      <td>74.0</td>\n",
       "      <td>125.0</td>\n",
       "      <td>118.0</td>\n",
       "      <td>40.0</td>\n",
       "      <td>404.0</td>\n",
       "    </tr>\n",
       "    <tr>\n",
       "      <th>2</th>\n",
       "      <td>0.0</td>\n",
       "      <td>0.0</td>\n",
       "      <td>0.0</td>\n",
       "      <td>0.0</td>\n",
       "      <td>0.0</td>\n",
       "      <td>0.0</td>\n",
       "      <td>0.0</td>\n",
       "      <td>0.0</td>\n",
       "      <td>0.0</td>\n",
       "      <td>0.0</td>\n",
       "      <td>...</td>\n",
       "      <td>329.0</td>\n",
       "      <td>716.0</td>\n",
       "      <td>663.0</td>\n",
       "      <td>442.0</td>\n",
       "      <td>559.0</td>\n",
       "      <td>9.0</td>\n",
       "      <td>26.0</td>\n",
       "      <td>20.0</td>\n",
       "      <td>9.0</td>\n",
       "      <td>70.0</td>\n",
       "    </tr>\n",
       "    <tr>\n",
       "      <th>3</th>\n",
       "      <td>0.0</td>\n",
       "      <td>0.0</td>\n",
       "      <td>0.0</td>\n",
       "      <td>0.0</td>\n",
       "      <td>0.0</td>\n",
       "      <td>0.0</td>\n",
       "      <td>0.0</td>\n",
       "      <td>0.0</td>\n",
       "      <td>0.0</td>\n",
       "      <td>0.0</td>\n",
       "      <td>...</td>\n",
       "      <td>414.0</td>\n",
       "      <td>825.0</td>\n",
       "      <td>681.0</td>\n",
       "      <td>557.0</td>\n",
       "      <td>670.0</td>\n",
       "      <td>115.0</td>\n",
       "      <td>124.0</td>\n",
       "      <td>101.0</td>\n",
       "      <td>21.0</td>\n",
       "      <td>392.0</td>\n",
       "    </tr>\n",
       "    <tr>\n",
       "      <th>4</th>\n",
       "      <td>0.0</td>\n",
       "      <td>0.0</td>\n",
       "      <td>0.0</td>\n",
       "      <td>0.0</td>\n",
       "      <td>0.0</td>\n",
       "      <td>0.0</td>\n",
       "      <td>0.0</td>\n",
       "      <td>0.0</td>\n",
       "      <td>0.0</td>\n",
       "      <td>0.0</td>\n",
       "      <td>...</td>\n",
       "      <td>310.0</td>\n",
       "      <td>530.0</td>\n",
       "      <td>444.0</td>\n",
       "      <td>376.0</td>\n",
       "      <td>423.0</td>\n",
       "      <td>59.0</td>\n",
       "      <td>77.0</td>\n",
       "      <td>102.0</td>\n",
       "      <td>24.0</td>\n",
       "      <td>262.0</td>\n",
       "    </tr>\n",
       "  </tbody>\n",
       "</table>\n",
       "<p>5 rows × 359 columns</p>\n",
       "</div>"
      ],
      "text/plain": [
       "   0    1    2    3    4    5    6    7    8    9    ...    349    350    351  \\\n",
       "0  0.0  0.0  0.0  0.0  0.0  0.0  0.0  0.0  0.0  0.0  ...  362.0  567.0  485.0   \n",
       "1  0.0  0.0  0.0  0.0  0.0  0.0  0.0  0.0  0.0  0.0  ...  432.0  914.0  753.0   \n",
       "2  0.0  0.0  0.0  0.0  0.0  0.0  0.0  0.0  0.0  0.0  ...  329.0  716.0  663.0   \n",
       "3  0.0  0.0  0.0  0.0  0.0  0.0  0.0  0.0  0.0  0.0  ...  414.0  825.0  681.0   \n",
       "4  0.0  0.0  0.0  0.0  0.0  0.0  0.0  0.0  0.0  0.0  ...  310.0  530.0  444.0   \n",
       "\n",
       "     352    353    354    355    356   357    358  \n",
       "0  471.0  487.0    6.0   11.0    9.0   4.0   32.0  \n",
       "1  572.0  677.0   74.0  125.0  118.0  40.0  404.0  \n",
       "2  442.0  559.0    9.0   26.0   20.0   9.0   70.0  \n",
       "3  557.0  670.0  115.0  124.0  101.0  21.0  392.0  \n",
       "4  376.0  423.0   59.0   77.0  102.0  24.0  262.0  \n",
       "\n",
       "[5 rows x 359 columns]"
      ]
     },
     "execution_count": 187,
     "metadata": {},
     "output_type": "execute_result"
    }
   ],
   "source": [
    "vas.head()"
   ]
  },
  {
   "cell_type": "code",
   "execution_count": 189,
   "metadata": {},
   "outputs": [
    {
     "data": {
      "text/plain": [
       "0.0    1155\n",
       "1.0       6\n",
       "Name: 60, dtype: int64"
      ]
     },
     "execution_count": 189,
     "metadata": {},
     "output_type": "execute_result"
    }
   ],
   "source": [
    "vas[60].value_counts()"
   ]
  },
  {
   "cell_type": "markdown",
   "metadata": {},
   "source": [
    "### minmax scalar"
   ]
  },
  {
   "cell_type": "code",
   "execution_count": 190,
   "metadata": {},
   "outputs": [],
   "source": [
    "from sklearn.preprocessing import MinMaxScaler"
   ]
  },
  {
   "cell_type": "code",
   "execution_count": 191,
   "metadata": {},
   "outputs": [
    {
     "data": {
      "text/plain": [
       "MinMaxScaler(copy=True, feature_range=(0, 1))"
      ]
     },
     "execution_count": 191,
     "metadata": {},
     "output_type": "execute_result"
    }
   ],
   "source": [
    "MinMaxScaler(feature_range=(0, 1), copy=True)"
   ]
  },
  {
   "cell_type": "code",
   "execution_count": 194,
   "metadata": {},
   "outputs": [],
   "source": [
    "x = vas.iloc[:,:-1].values\n",
    "y = vas.iloc[:,-1].values"
   ]
  },
  {
   "cell_type": "code",
   "execution_count": 195,
   "metadata": {},
   "outputs": [
    {
     "data": {
      "text/plain": [
       "array([[0.        , 0.        , 0.        , ..., 0.01525659, 0.01764706,\n",
       "        0.02247191],\n",
       "       [0.        , 0.        , 0.        , ..., 0.17337032, 0.23137255,\n",
       "        0.2247191 ],\n",
       "       [0.        , 0.        , 0.        , ..., 0.03606103, 0.03921569,\n",
       "        0.0505618 ],\n",
       "       ...,\n",
       "       [0.        , 0.        , 0.        , ..., 0.03051318, 0.04705882,\n",
       "        0.01685393],\n",
       "       [0.        , 0.        , 0.        , ..., 0.02773925, 0.04901961,\n",
       "        0.06741573],\n",
       "       [0.        , 0.        , 0.        , ..., 0.21359223, 0.32156863,\n",
       "        0.01123596]])"
      ]
     },
     "execution_count": 195,
     "metadata": {},
     "output_type": "execute_result"
    }
   ],
   "source": [
    "x=minmax.fit_transform(x)\n",
    "x"
   ]
  },
  {
   "cell_type": "code",
   "execution_count": 196,
   "metadata": {},
   "outputs": [
    {
     "data": {
      "text/plain": [
       "array([[0.        , 0.        , 0.        , ..., 0.01525659, 0.01764706,\n",
       "        0.02247191],\n",
       "       [0.        , 0.        , 0.        , ..., 0.17337032, 0.23137255,\n",
       "        0.2247191 ],\n",
       "       [0.        , 0.        , 0.        , ..., 0.03606103, 0.03921569,\n",
       "        0.0505618 ],\n",
       "       ...,\n",
       "       [0.        , 0.        , 0.        , ..., 0.03051318, 0.04705882,\n",
       "        0.01685393],\n",
       "       [0.        , 0.        , 0.        , ..., 0.02773925, 0.04901961,\n",
       "        0.06741573],\n",
       "       [0.        , 0.        , 0.        , ..., 0.21359223, 0.32156863,\n",
       "        0.01123596]])"
      ]
     },
     "execution_count": 196,
     "metadata": {},
     "output_type": "execute_result"
    }
   ],
   "source": [
    "np.asarray(x, dtype=float)"
   ]
  },
  {
   "cell_type": "code",
   "execution_count": 197,
   "metadata": {},
   "outputs": [
    {
     "data": {
      "text/plain": [
       "numpy.ndarray"
      ]
     },
     "execution_count": 197,
     "metadata": {},
     "output_type": "execute_result"
    }
   ],
   "source": [
    "type(x)"
   ]
  },
  {
   "cell_type": "code",
   "execution_count": 198,
   "metadata": {},
   "outputs": [
    {
     "data": {
      "text/plain": [
       "array([ 32., 404.,  70., ...,  74.,  65., 591.])"
      ]
     },
     "execution_count": 198,
     "metadata": {},
     "output_type": "execute_result"
    }
   ],
   "source": [
    "y"
   ]
  },
  {
   "cell_type": "code",
   "execution_count": 199,
   "metadata": {},
   "outputs": [
    {
     "data": {
      "text/plain": [
       "array([[ 32.],\n",
       "       [404.],\n",
       "       [ 70.],\n",
       "       ...,\n",
       "       [ 74.],\n",
       "       [ 65.],\n",
       "       [591.]])"
      ]
     },
     "execution_count": 199,
     "metadata": {},
     "output_type": "execute_result"
    }
   ],
   "source": [
    "y=np.reshape(y,newshape= (-1,1))\n",
    "y"
   ]
  },
  {
   "cell_type": "markdown",
   "metadata": {},
   "source": [
    "## Logistic Regression Model"
   ]
  },
  {
   "cell_type": "code",
   "execution_count": 200,
   "metadata": {},
   "outputs": [],
   "source": [
    "from sklearn.model_selection import train_test_split\n",
    "X_train,X_test,Y_train,Y_test=train_test_split(x,y,test_size=0.20,random_state=0)"
   ]
  },
  {
   "cell_type": "code",
   "execution_count": 202,
   "metadata": {},
   "outputs": [],
   "source": [
    "from sklearn.linear_model import LogisticRegression"
   ]
  },
  {
   "cell_type": "code",
   "execution_count": 203,
   "metadata": {
    "scrolled": true
   },
   "outputs": [
    {
     "name": "stderr",
     "output_type": "stream",
     "text": [
      "C:\\Users\\DELL\\Anaconda3\\lib\\site-packages\\sklearn\\linear_model\\logistic.py:433: FutureWarning:\n",
      "\n",
      "Default solver will be changed to 'lbfgs' in 0.22. Specify a solver to silence this warning.\n",
      "\n",
      "C:\\Users\\DELL\\Anaconda3\\lib\\site-packages\\sklearn\\utils\\validation.py:761: DataConversionWarning:\n",
      "\n",
      "A column-vector y was passed when a 1d array was expected. Please change the shape of y to (n_samples, ), for example using ravel().\n",
      "\n",
      "C:\\Users\\DELL\\Anaconda3\\lib\\site-packages\\sklearn\\linear_model\\logistic.py:460: FutureWarning:\n",
      "\n",
      "Default multi_class will be changed to 'auto' in 0.22. Specify the multi_class option to silence this warning.\n",
      "\n"
     ]
    },
    {
     "data": {
      "text/plain": [
       "LogisticRegression(C=1.0, class_weight=None, dual=False, fit_intercept=True,\n",
       "          intercept_scaling=1, max_iter=100, multi_class='warn',\n",
       "          n_jobs=None, penalty='l2', random_state=0, solver='warn',\n",
       "          tol=0.0001, verbose=0, warm_start=False)"
      ]
     },
     "execution_count": 203,
     "metadata": {},
     "output_type": "execute_result"
    }
   ],
   "source": [
    "classifier=LogisticRegression(random_state=0)\n",
    "classifier.fit(X_train,Y_train)"
   ]
  },
  {
   "cell_type": "code",
   "execution_count": 206,
   "metadata": {},
   "outputs": [],
   "source": [
    "from sklearn.metrics import accuracy_score"
   ]
  },
  {
   "cell_type": "code",
   "execution_count": 207,
   "metadata": {},
   "outputs": [],
   "source": [
    "y_pred=classifier.predict(X_test)"
   ]
  },
  {
   "cell_type": "code",
   "execution_count": 208,
   "metadata": {},
   "outputs": [
    {
     "name": "stdout",
     "output_type": "stream",
     "text": [
      "0.0\n"
     ]
    }
   ],
   "source": [
    "accuracy = accuracy_score(Y_test,y_pred)\n",
    "\n",
    "print(accuracy)"
   ]
  },
  {
   "cell_type": "markdown",
   "metadata": {},
   "source": [
    "### accuracy is 0 here, so, this model does not work for this dataset"
   ]
  },
  {
   "cell_type": "markdown",
   "metadata": {},
   "source": [
    "### support vector Machines"
   ]
  },
  {
   "cell_type": "code",
   "execution_count": 209,
   "metadata": {},
   "outputs": [],
   "source": [
    "from sklearn.svm import SVC\n",
    "from sklearn.model_selection import train_test_split"
   ]
  },
  {
   "cell_type": "code",
   "execution_count": 210,
   "metadata": {},
   "outputs": [],
   "source": [
    "svc = SVC()  "
   ]
  },
  {
   "cell_type": "code",
   "execution_count": 211,
   "metadata": {},
   "outputs": [],
   "source": [
    "X=yy.drop('Type',axis=1)\n",
    "\n",
    "y= yy['Type']"
   ]
  },
  {
   "cell_type": "code",
   "execution_count": 212,
   "metadata": {},
   "outputs": [],
   "source": [
    "X_train, X_test, y_train, y_test = train_test_split(X, y, test_size=0.30)"
   ]
  },
  {
   "cell_type": "code",
   "execution_count": 213,
   "metadata": {},
   "outputs": [
    {
     "name": "stderr",
     "output_type": "stream",
     "text": [
      "C:\\Users\\DELL\\Anaconda3\\lib\\site-packages\\sklearn\\svm\\base.py:196: FutureWarning:\n",
      "\n",
      "The default value of gamma will change from 'auto' to 'scale' in version 0.22 to account better for unscaled features. Set gamma explicitly to 'auto' or 'scale' to avoid this warning.\n",
      "\n"
     ]
    },
    {
     "data": {
      "text/plain": [
       "SVC(C=1.0, cache_size=200, class_weight=None, coef0=0.0,\n",
       "  decision_function_shape='ovr', degree=3, gamma='auto_deprecated',\n",
       "  kernel='rbf', max_iter=-1, probability=False, random_state=None,\n",
       "  shrinking=True, tol=0.001, verbose=False)"
      ]
     },
     "execution_count": 213,
     "metadata": {},
     "output_type": "execute_result"
    }
   ],
   "source": [
    "svc.fit(X_train,y_train)"
   ]
  },
  {
   "cell_type": "code",
   "execution_count": 214,
   "metadata": {},
   "outputs": [],
   "source": [
    "pred=svc.predict(X_test)"
   ]
  },
  {
   "cell_type": "code",
   "execution_count": 215,
   "metadata": {},
   "outputs": [],
   "source": [
    "from sklearn.metrics import accuracy_score"
   ]
  },
  {
   "cell_type": "code",
   "execution_count": 216,
   "metadata": {},
   "outputs": [
    {
     "data": {
      "text/plain": [
       "0.5530085959885387"
      ]
     },
     "execution_count": 216,
     "metadata": {},
     "output_type": "execute_result"
    }
   ],
   "source": [
    "accuracy_score(y_test,pred) "
   ]
  },
  {
   "cell_type": "markdown",
   "metadata": {},
   "source": [
    "#### Neural Networks method"
   ]
  },
  {
   "cell_type": "markdown",
   "metadata": {},
   "source": [
    "## Multi layer neural network model"
   ]
  },
  {
   "cell_type": "code",
   "execution_count": 221,
   "metadata": {},
   "outputs": [
    {
     "data": {
      "text/plain": [
       "MLPClassifier(activation='relu', alpha=0.0001, batch_size='auto', beta_1=0.9,\n",
       "       beta_2=0.999, early_stopping=False, epsilon=1e-08,\n",
       "       hidden_layer_sizes=(500, 200), learning_rate='constant',\n",
       "       learning_rate_init=0.001, max_iter=1000, momentum=0.9,\n",
       "       n_iter_no_change=10, nesterovs_momentum=True, power_t=0.5,\n",
       "       random_state=None, shuffle=True, solver='adam', tol=0.0001,\n",
       "       validation_fraction=0.1, verbose=False, warm_start=False)"
      ]
     },
     "execution_count": 221,
     "metadata": {},
     "output_type": "execute_result"
    }
   ],
   "source": [
    "\n",
    "from sklearn.neural_network import MLPClassifier\n",
    "from sklearn.metrics import accuracy_score        ### multi layer neural network model\n",
    "\n",
    "model = MLPClassifier(hidden_layer_sizes=(500,200), max_iter=1000)\n",
    "\n",
    "model.fit(X, y)"
   ]
  },
  {
   "cell_type": "code",
   "execution_count": 222,
   "metadata": {},
   "outputs": [],
   "source": [
    "\n",
    "predicted_classes = model.predict(X)"
   ]
  },
  {
   "cell_type": "code",
   "execution_count": 224,
   "metadata": {},
   "outputs": [
    {
     "name": "stdout",
     "output_type": "stream",
     "text": [
      "0.7846683893195521\n"
     ]
    }
   ],
   "source": [
    "accuracy = accuracy_score(y.values.flatten(),predicted_classes)\n",
    "print(accuracy)"
   ]
  },
  {
   "cell_type": "code",
   "execution_count": 228,
   "metadata": {},
   "outputs": [
    {
     "data": {
      "text/plain": [
       "MLPClassifier(activation='relu', alpha=0.0001, batch_size='auto', beta_1=0.9,\n",
       "       beta_2=0.999, early_stopping=False, epsilon=1e-08,\n",
       "       hidden_layer_sizes=(1000, 1000), learning_rate='constant',\n",
       "       learning_rate_init=0.001, max_iter=5000, momentum=0.9,\n",
       "       n_iter_no_change=10, nesterovs_momentum=True, power_t=0.5,\n",
       "       random_state=None, shuffle=True, solver='adam', tol=0.0001,\n",
       "       validation_fraction=0.1, verbose=False, warm_start=False)"
      ]
     },
     "execution_count": 228,
     "metadata": {},
     "output_type": "execute_result"
    }
   ],
   "source": [
    "model = MLPClassifier(hidden_layer_sizes=(1000,1000), max_iter=5000)\n",
    "\n",
    "model.fit(X, y)"
   ]
  },
  {
   "cell_type": "code",
   "execution_count": 229,
   "metadata": {},
   "outputs": [],
   "source": [
    "predicted_classes = model.predict(X)"
   ]
  },
  {
   "cell_type": "code",
   "execution_count": 230,
   "metadata": {},
   "outputs": [
    {
     "name": "stdout",
     "output_type": "stream",
     "text": [
      "0.8285960378983634\n"
     ]
    }
   ],
   "source": [
    "accuracy = accuracy_score(y.values.flatten(),predicted_classes)\n",
    "print(accuracy)"
   ]
  },
  {
   "cell_type": "markdown",
   "metadata": {},
   "source": [
    "### test size variation"
   ]
  },
  {
   "cell_type": "markdown",
   "metadata": {},
   "source": [
    "### change the test size to 25 to imorove the accuracy , reduce test size"
   ]
  },
  {
   "cell_type": "code",
   "execution_count": 231,
   "metadata": {},
   "outputs": [],
   "source": [
    "x_train,x_test,y_train,y_test=train_test_split(x,y,test_size=0.25,random_state=0)"
   ]
  },
  {
   "cell_type": "code",
   "execution_count": 232,
   "metadata": {},
   "outputs": [
    {
     "name": "stderr",
     "output_type": "stream",
     "text": [
      "C:\\Users\\DELL\\Anaconda3\\lib\\site-packages\\sklearn\\linear_model\\logistic.py:433: FutureWarning:\n",
      "\n",
      "Default solver will be changed to 'lbfgs' in 0.22. Specify a solver to silence this warning.\n",
      "\n",
      "C:\\Users\\DELL\\Anaconda3\\lib\\site-packages\\sklearn\\linear_model\\logistic.py:460: FutureWarning:\n",
      "\n",
      "Default multi_class will be changed to 'auto' in 0.22. Specify the multi_class option to silence this warning.\n",
      "\n"
     ]
    },
    {
     "data": {
      "text/plain": [
       "LogisticRegression(C=1.0, class_weight=None, dual=False, fit_intercept=True,\n",
       "          intercept_scaling=1, max_iter=100, multi_class='warn',\n",
       "          n_jobs=None, penalty='l2', random_state=0, solver='warn',\n",
       "          tol=0.0001, verbose=0, warm_start=False)"
      ]
     },
     "execution_count": 232,
     "metadata": {},
     "output_type": "execute_result"
    }
   ],
   "source": [
    "classify=LogisticRegression(random_state=0)\n",
    "classify.fit(x_train,y_train)"
   ]
  },
  {
   "cell_type": "code",
   "execution_count": 233,
   "metadata": {},
   "outputs": [],
   "source": [
    "Y_pred=classify.predict(x_test)"
   ]
  },
  {
   "cell_type": "code",
   "execution_count": 234,
   "metadata": {},
   "outputs": [
    {
     "name": "stdout",
     "output_type": "stream",
     "text": [
      "0.9553264604810997\n"
     ]
    }
   ],
   "source": [
    "accuracy1 = accuracy_score(y_test,Y_pred)\n",
    "### Accuracy is above 90% here\n",
    "print(accuracy1)"
   ]
  },
  {
   "cell_type": "code",
   "execution_count": 235,
   "metadata": {},
   "outputs": [
    {
     "data": {
      "text/plain": [
       "MLPClassifier(activation='relu', alpha=0.0001, batch_size='auto', beta_1=0.9,\n",
       "       beta_2=0.999, early_stopping=False, epsilon=1e-08,\n",
       "       hidden_layer_sizes=(200, 100), learning_rate='constant',\n",
       "       learning_rate_init=0.001, max_iter=1000, momentum=0.9,\n",
       "       n_iter_no_change=10, nesterovs_momentum=True, power_t=0.5,\n",
       "       random_state=None, shuffle=True, solver='adam', tol=0.0001,\n",
       "       validation_fraction=0.1, verbose=False, warm_start=False)"
      ]
     },
     "execution_count": 235,
     "metadata": {},
     "output_type": "execute_result"
    }
   ],
   "source": [
    "model = MLPClassifier(hidden_layer_sizes=(200,100), max_iter=1000)\n",
    "model.fit(x, y)"
   ]
  },
  {
   "cell_type": "code",
   "execution_count": 236,
   "metadata": {},
   "outputs": [
    {
     "name": "stdout",
     "output_type": "stream",
     "text": [
      "1.0\n"
     ]
    }
   ],
   "source": [
    "predict_class=model.predict(x_test)\n",
    "\n",
    "accneu = accuracy_score(y_test,predict_class)\n",
    "\n",
    "print(accneu)"
   ]
  },
  {
   "cell_type": "code",
   "execution_count": 237,
   "metadata": {},
   "outputs": [
    {
     "data": {
      "text/plain": [
       "MLPClassifier(activation='relu', alpha=0.0001, batch_size='auto', beta_1=0.9,\n",
       "       beta_2=0.999, early_stopping=False, epsilon=1e-08,\n",
       "       hidden_layer_sizes=(30, 60), learning_rate='constant',\n",
       "       learning_rate_init=0.001, max_iter=1000, momentum=0.9,\n",
       "       n_iter_no_change=10, nesterovs_momentum=True, power_t=0.5,\n",
       "       random_state=None, shuffle=True, solver='adam', tol=0.0001,\n",
       "       validation_fraction=0.1, verbose=False, warm_start=False)"
      ]
     },
     "execution_count": 237,
     "metadata": {},
     "output_type": "execute_result"
    }
   ],
   "source": [
    "model2 = MLPClassifier(hidden_layer_sizes=(30,60), max_iter=1000)\n",
    "model2.fit(x, y)"
   ]
  },
  {
   "cell_type": "code",
   "execution_count": 238,
   "metadata": {},
   "outputs": [
    {
     "name": "stdout",
     "output_type": "stream",
     "text": [
      "1.0\n"
     ]
    }
   ],
   "source": [
    "predict_class2=model2.predict(x_test)\n",
    "\n",
    "accneu2 = accuracy_score(y_test,predict_class2)\n",
    "\n",
    "print(accneu2)     ### accuracy 100%"
   ]
  },
  {
   "cell_type": "markdown",
   "metadata": {},
   "source": [
    "### Random Forest classification "
   ]
  },
  {
   "cell_type": "code",
   "execution_count": 244,
   "metadata": {},
   "outputs": [],
   "source": [
    "from sklearn.model_selection import train_test_split"
   ]
  },
  {
   "cell_type": "code",
   "execution_count": 243,
   "metadata": {},
   "outputs": [],
   "source": [
    "x_train,x_test,y_train,y_test=train_test_split(x,y,test_size=0.25,random_state=0)"
   ]
  },
  {
   "cell_type": "code",
   "execution_count": 251,
   "metadata": {},
   "outputs": [],
   "source": [
    "from sklearn.model_selection import train_test_split\n",
    "\n",
    "X_train, X_test, y_train, y_test = train_test_split(X, y, test_size=0.2, random_state=0)"
   ]
  },
  {
   "cell_type": "code",
   "execution_count": 252,
   "metadata": {},
   "outputs": [
    {
     "name": "stderr",
     "output_type": "stream",
     "text": [
      "C:\\Users\\DELL\\Anaconda3\\lib\\site-packages\\sklearn\\preprocessing\\data.py:645: DataConversionWarning:\n",
      "\n",
      "Data with input dtype int32, int64, float64 were all converted to float64 by StandardScaler.\n",
      "\n",
      "C:\\Users\\DELL\\Anaconda3\\lib\\site-packages\\sklearn\\base.py:464: DataConversionWarning:\n",
      "\n",
      "Data with input dtype int32, int64, float64 were all converted to float64 by StandardScaler.\n",
      "\n",
      "C:\\Users\\DELL\\Anaconda3\\lib\\site-packages\\ipykernel_launcher.py:5: DataConversionWarning:\n",
      "\n",
      "Data with input dtype int32, int64, float64 were all converted to float64 by StandardScaler.\n",
      "\n"
     ]
    }
   ],
   "source": [
    "from sklearn.preprocessing import StandardScaler\n",
    "\n",
    "sc = StandardScaler()\n",
    "X_train = sc.fit_transform(X_train)\n",
    "X_test = sc.transform(X_test)"
   ]
  },
  {
   "cell_type": "code",
   "execution_count": 255,
   "metadata": {},
   "outputs": [],
   "source": [
    "from sklearn.ensemble import RandomForestRegressor\n",
    "\n",
    "regressor = RandomForestRegressor(n_estimators=200, random_state=0)\n",
    "regressor.fit(X_train, y_train)\n",
    "y_pred = regressor.predict(X_test)\n"
   ]
  },
  {
   "cell_type": "code",
   "execution_count": 256,
   "metadata": {},
   "outputs": [
    {
     "name": "stdout",
     "output_type": "stream",
     "text": [
      "Mean Absolute Error: 0.22141630901287554\n",
      "Mean Squared Error: 0.12859785407725322\n",
      "Root Mean Squared Error: 0.358605429514464\n"
     ]
    }
   ],
   "source": [
    "from sklearn import metrics\n",
    "\n",
    "print('Mean Absolute Error:', metrics.mean_absolute_error(y_test, y_pred))\n",
    "print('Mean Squared Error:', metrics.mean_squared_error(y_test, y_pred))\n",
    "print('Root Mean Squared Error:', np.sqrt(metrics.mean_squared_error(y_test, y_pred)))"
   ]
  },
  {
   "cell_type": "code",
   "execution_count": 263,
   "metadata": {},
   "outputs": [],
   "source": [
    "from sklearn.metrics import classification_report"
   ]
  },
  {
   "cell_type": "code",
   "execution_count": null,
   "metadata": {},
   "outputs": [],
   "source": []
  }
 ],
 "metadata": {
  "kernelspec": {
   "display_name": "Python 3",
   "language": "python",
   "name": "python3"
  },
  "language_info": {
   "codemirror_mode": {
    "name": "ipython",
    "version": 3
   },
   "file_extension": ".py",
   "mimetype": "text/x-python",
   "name": "python",
   "nbconvert_exporter": "python",
   "pygments_lexer": "ipython3",
   "version": "3.7.3"
  }
 },
 "nbformat": 4,
 "nbformat_minor": 2
}
